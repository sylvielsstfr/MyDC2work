{
 "cells": [
  {
   "cell_type": "markdown",
   "metadata": {},
   "source": [
    "# Work on SED of CosmoDC2\n",
    "\n",
    "- author : Sylvie Dagoret-Campagne\n",
    "- Creation : January 29th 2021"
   ]
  },
  {
   "cell_type": "code",
   "execution_count": 2,
   "metadata": {},
   "outputs": [],
   "source": [
    "%matplotlib inline\n",
    "\n",
    "import os\n",
    "\n",
    "import numpy as np\n",
    "import matplotlib.pyplot as plt\n",
    "import pandas as pd"
   ]
  },
  {
   "cell_type": "code",
   "execution_count": 3,
   "metadata": {},
   "outputs": [],
   "source": [
    "import pyarrow\n",
    "import re # to decode SED"
   ]
  },
  {
   "cell_type": "code",
   "execution_count": 4,
   "metadata": {},
   "outputs": [
    {
     "name": "stdout",
     "output_type": "stream",
     "text": [
      "<SparkContext master=mesos://vm-75063.lal.in2p3.fr:5050 appName=PySparkShell>\n",
      "2.4.4\n"
     ]
    }
   ],
   "source": [
    "# Verify SparkContext\n",
    "print(sc)\n",
    "\n",
    "# Print Spark version\n",
    "print(sc.version)"
   ]
  },
  {
   "cell_type": "code",
   "execution_count": 5,
   "metadata": {},
   "outputs": [],
   "source": [
    "# Spark imports\n",
    "from pyspark.sql import SparkSession\n",
    "from pyspark.sql.types import IntegerType\n",
    "from pyspark.sql import functions as F"
   ]
  },
  {
   "cell_type": "code",
   "execution_count": 6,
   "metadata": {},
   "outputs": [],
   "source": [
    "from pyspark.sql.functions import col, pandas_udf \n",
    "from pyspark.sql.types import LongType\n",
    "\n",
    "from pyspark.sql.types import IntegerType,FloatType\n",
    "from pyspark.sql.functions import pandas_udf, PandasUDFType\n",
    "\n",
    "from pyspark.sql import functions as F\n",
    "from pyspark.sql.functions import randn"
   ]
  },
  {
   "cell_type": "code",
   "execution_count": 7,
   "metadata": {},
   "outputs": [],
   "source": [
    "# here is how we create a function ('Ang2Pix') that can be called by dataframes\n",
    "# it takes as input the \"ra\" and \"dec\" values (which are not very different from theta/phi)\n",
    "# and returns the pixel number (but as pandas series for efficiency)\n",
    "import numpy as np\n",
    "import pandas as pd\n",
    "import healpy as hp\n",
    "\n",
    "nside=512"
   ]
  },
  {
   "cell_type": "code",
   "execution_count": 8,
   "metadata": {},
   "outputs": [
    {
     "name": "stdout",
     "output_type": "stream",
     "text": [
      "DEPRECATED: Use of this script to execute hdfs command is deprecated.\n",
      "Instead use the hdfs command for it.\n",
      "\n",
      "Found 5 items\n",
      "drwxr-xr-x   - stephane.plaszczynski lsst          0 2020-12-11 15:12 /lsst/DC2/cosmoDC2/cosmoDC2_v1.1.4_image\n",
      "drwxr-xr-x   - stephane.plaszczynski lsst          0 2019-10-16 10:52 /lsst/DC2/cosmoDC2/cosmoDC2_v1.1.4_image_double.parquet\n",
      "drwxr-xr-x   - stephane.plaszczynski lsst          0 2020-04-23 17:28 /lsst/DC2/cosmoDC2/cosmoDC2_v1.1.4_image_nofaint.parquet\n",
      "drwxr-xr-x   - stephane.plaszczynski lsst          0 2020-09-07 19:17 /lsst/DC2/cosmoDC2/shear_cosmoDC2\n",
      "drwxr-xr-x   - stephane.plaszczynski lsst          0 2019-04-16 18:40 /lsst/DC2/cosmoDC2/xyz_v1.1.4_hive\n"
     ]
    }
   ],
   "source": [
    "! hadoop dfs -ls /lsst/DC2/cosmoDC2"
   ]
  },
  {
   "cell_type": "code",
   "execution_count": 9,
   "metadata": {},
   "outputs": [],
   "source": [
    "fullfilename=\"/lsst/DC2/cosmoDC2/cosmoDC2_v1.1.4_image\"\n",
    "datafile=fullfilename\n",
    "FLAG_ONE_FILE_INPUT=True"
   ]
  },
  {
   "cell_type": "code",
   "execution_count": 10,
   "metadata": {},
   "outputs": [],
   "source": [
    "from pyspark.sql import SparkSession\n",
    "\n",
    "# Initialise our Spark session\n",
    "spark = SparkSession.builder.getOrCreate()"
   ]
  },
  {
   "cell_type": "code",
   "execution_count": 11,
   "metadata": {},
   "outputs": [],
   "source": [
    "# Read the data as DataFrame\n",
    "if FLAG_ONE_FILE_INPUT:\n",
    "    df = spark.read.format(\"parquet\").load(datafile)\n",
    "else: # read all files\n",
    "    #the_list_of_files=os.listdir(base_dir)\n",
    "    #the_sorted_list_of_files=sorted(the_list_of_files)\n",
    "    #print(\"sorted files : \",the_sorted_list_of_files[:5])\n",
    "    #selected_files=[]\n",
    "    #for filename in the_sorted_list_of_files:\n",
    "    #    sel_filename=re.findall(\"^dc2_object_run2.2i_dr6c_tract[0-9][0-9][0-9][0-9].parquet$\",filename)\n",
    "    #    if len(sel_filename) > 0:\n",
    "    #        selected_files.append(sel_filename[0])\n",
    "    #print(\"selected files : \", selected_files[:5])\n",
    "    #InputPath = [base_dir + \"/{}\".format(filename) for filename in selected_files]\n",
    "    InputPath = all_files  # filename from the decoded index file\n",
    "    df = spark.read.parquet(*InputPath)        "
   ]
  },
  {
   "cell_type": "code",
   "execution_count": 12,
   "metadata": {
    "scrolled": false
   },
   "outputs": [],
   "source": [
    "#df.printSchema()"
   ]
  },
  {
   "cell_type": "code",
   "execution_count": 13,
   "metadata": {
    "scrolled": false
   },
   "outputs": [],
   "source": [
    "list_of_columns=df.columns\n",
    "#print(list_of_columns)"
   ]
  },
  {
   "cell_type": "markdown",
   "metadata": {},
   "source": [
    "# Extract wavelengths"
   ]
  },
  {
   "cell_type": "markdown",
   "metadata": {},
   "source": [
    "## Decode Wavelength bins"
   ]
  },
  {
   "cell_type": "code",
   "execution_count": 14,
   "metadata": {},
   "outputs": [],
   "source": [
    "all_sed_columns = [ ]             # contain all names of columns with sed\n",
    "all_sed_disk_columns = [ ]        # contain all names of columns with sed disk\n",
    "all_sed_bulge_columns = [ ]        # contain all names of columns with sed bulge\n",
    "\n",
    "all_sed_disk_no_host_extinction_columns = [ ]        # contain all names of columns with sed disk\n",
    "all_sed_bulge_no_host_extinction_columns = [ ]        # contain all names of columns with sed bulge\n",
    "\n",
    "all_disk = []                     # sed ending with disk\n",
    "all_bulge = []                    # sed ending with bulge \n",
    "all_disk_no_host_extinction  = [] # sed ending with disk_no_host_extinction\n",
    "all_bulge_no_host_extinction = [] # sed ending with disk_no_host_extinction\n",
    "\n",
    "index=0\n",
    "for x in list_of_columns:\n",
    "    if re.match(\"^sed_*\",x):\n",
    "        all_sed_columns.append(x)\n",
    "        \n",
    "        # all_sed_disk_columns\n",
    "        if re.match(\"^sed_.*_disk$\",x):\n",
    "            all_sed_disk_columns.append(x)  \n",
    "        # all_sed_disk_columns\n",
    "        if re.match(\"^sed_.*_bulge$\",x):\n",
    "            all_sed_bulge_columns.append(x)   \n",
    "            \n",
    "        # all_sed_disk_columns\n",
    "        if re.match(\"^sed_.*_disk_no_host_extinction$\",x):\n",
    "            all_sed_disk_no_host_extinction_columns.append(x)  \n",
    "        # all_sed_disk_columns\n",
    "        if re.match(\"^sed_.*_bulge_no_host_extinction$\",x):\n",
    "            all_sed_bulge_no_host_extinction_columns.append(x)  \n",
    "            \n",
    "            \n",
    "        # select only with _disk    \n",
    "        nblist=re.findall('sed_([^ ]+)_disk$',x)\n",
    "        if len(nblist)==1:\n",
    "            all_disk.append(nblist[0])\n",
    "        # select only with _bulge    \n",
    "        nblist=re.findall('sed_([^ ]+)_bulge$',x)\n",
    "        if len(nblist)==1:\n",
    "            all_bulge.append(nblist[0])  \n",
    "            \n",
    "        # select only with _disk_no_host_extinction    \n",
    "        nblist=re.findall('sed_([^ ]+)_disk_no_host_extinction$',x)\n",
    "        if len(nblist)==1:\n",
    "            all_disk_no_host_extinction.append(nblist[0])\n",
    "        \n",
    "        # select only with _bulge_no_host_extinction    \n",
    "        nblist=re.findall('sed_([^ ]+)_bulge_no_host_extinction$',x)\n",
    "        if len(nblist)==1:\n",
    "            all_bulge_no_host_extinction.append(nblist[0])\n",
    "                 \n",
    "        index+=1\n",
    "        \n"
   ]
  },
  {
   "cell_type": "code",
   "execution_count": 15,
   "metadata": {},
   "outputs": [],
   "source": [
    "all_disk.sort()\n",
    "all_bulge.sort()\n",
    "all_disk_no_host_extinction.sort()\n",
    "all_bulge_no_host_extinction.sort()"
   ]
  },
  {
   "cell_type": "code",
   "execution_count": 16,
   "metadata": {},
   "outputs": [],
   "source": [
    "all_sed_disk_columns.sort()\n",
    "all_sed_bulge_columns.sort()\n",
    "all_sed_disk_no_host_extinction_columns.sort()\n",
    "all_sed_bulge_no_host_extinction_columns.sort()"
   ]
  },
  {
   "cell_type": "code",
   "execution_count": 17,
   "metadata": {},
   "outputs": [
    {
     "name": "stdout",
     "output_type": "stream",
     "text": [
      "['sed_1000_246_disk', 'sed_11467_1710_disk', 'sed_1246_306_disk', 'sed_13177_1966_disk', 'sed_15143_2259_disk', 'sed_1552_381_disk', 'sed_17402_2596_disk', 'sed_1933_474_disk', 'sed_2407_591_disk', 'sed_2998_186_disk', 'sed_3184_197_disk', 'sed_3381_209_disk', 'sed_3590_222_disk', 'sed_3812_236_disk', 'sed_4048_251_disk', 'sed_4299_266_disk', 'sed_4565_283_disk', 'sed_4848_300_disk', 'sed_5148_319_disk', 'sed_5467_339_disk', 'sed_5806_360_disk', 'sed_6166_382_disk', 'sed_6548_406_disk', 'sed_6954_431_disk', 'sed_7385_458_disk', 'sed_7843_486_disk', 'sed_8329_517_disk', 'sed_8846_549_disk', 'sed_9395_583_disk', 'sed_9978_1489_disk']\n"
     ]
    }
   ],
   "source": [
    "print(all_sed_disk_columns)"
   ]
  },
  {
   "cell_type": "code",
   "execution_count": 18,
   "metadata": {},
   "outputs": [
    {
     "name": "stdout",
     "output_type": "stream",
     "text": [
      "['sed_1000_246_bulge', 'sed_11467_1710_bulge', 'sed_1246_306_bulge', 'sed_13177_1966_bulge', 'sed_15143_2259_bulge', 'sed_1552_381_bulge', 'sed_17402_2596_bulge', 'sed_1933_474_bulge', 'sed_2407_591_bulge', 'sed_2998_186_bulge', 'sed_3184_197_bulge', 'sed_3381_209_bulge', 'sed_3590_222_bulge', 'sed_3812_236_bulge', 'sed_4048_251_bulge', 'sed_4299_266_bulge', 'sed_4565_283_bulge', 'sed_4848_300_bulge', 'sed_5148_319_bulge', 'sed_5467_339_bulge', 'sed_5806_360_bulge', 'sed_6166_382_bulge', 'sed_6548_406_bulge', 'sed_6954_431_bulge', 'sed_7385_458_bulge', 'sed_7843_486_bulge', 'sed_8329_517_bulge', 'sed_8846_549_bulge', 'sed_9395_583_bulge', 'sed_9978_1489_bulge']\n"
     ]
    }
   ],
   "source": [
    "print(all_sed_bulge_columns)"
   ]
  },
  {
   "cell_type": "code",
   "execution_count": 19,
   "metadata": {},
   "outputs": [
    {
     "name": "stdout",
     "output_type": "stream",
     "text": [
      "['sed_1000_246_disk_no_host_extinction', 'sed_11467_1710_disk_no_host_extinction', 'sed_1246_306_disk_no_host_extinction', 'sed_13177_1966_disk_no_host_extinction', 'sed_15143_2259_disk_no_host_extinction', 'sed_1552_381_disk_no_host_extinction', 'sed_17402_2596_disk_no_host_extinction', 'sed_1933_474_disk_no_host_extinction', 'sed_2407_591_disk_no_host_extinction', 'sed_2998_186_disk_no_host_extinction', 'sed_3184_197_disk_no_host_extinction', 'sed_3381_209_disk_no_host_extinction', 'sed_3590_222_disk_no_host_extinction', 'sed_3812_236_disk_no_host_extinction', 'sed_4048_251_disk_no_host_extinction', 'sed_4299_266_disk_no_host_extinction', 'sed_4565_283_disk_no_host_extinction', 'sed_4848_300_disk_no_host_extinction', 'sed_5148_319_disk_no_host_extinction', 'sed_5467_339_disk_no_host_extinction', 'sed_5806_360_disk_no_host_extinction', 'sed_6166_382_disk_no_host_extinction', 'sed_6548_406_disk_no_host_extinction', 'sed_6954_431_disk_no_host_extinction', 'sed_7385_458_disk_no_host_extinction', 'sed_7843_486_disk_no_host_extinction', 'sed_8329_517_disk_no_host_extinction', 'sed_8846_549_disk_no_host_extinction', 'sed_9395_583_disk_no_host_extinction', 'sed_9978_1489_disk_no_host_extinction']\n"
     ]
    }
   ],
   "source": [
    "print(all_sed_disk_no_host_extinction_columns)"
   ]
  },
  {
   "cell_type": "code",
   "execution_count": 20,
   "metadata": {},
   "outputs": [
    {
     "name": "stdout",
     "output_type": "stream",
     "text": [
      "['sed_1000_246_bulge_no_host_extinction', 'sed_11467_1710_bulge_no_host_extinction', 'sed_1246_306_bulge_no_host_extinction', 'sed_13177_1966_bulge_no_host_extinction', 'sed_15143_2259_bulge_no_host_extinction', 'sed_1552_381_bulge_no_host_extinction', 'sed_17402_2596_bulge_no_host_extinction', 'sed_1933_474_bulge_no_host_extinction', 'sed_2407_591_bulge_no_host_extinction', 'sed_2998_186_bulge_no_host_extinction', 'sed_3184_197_bulge_no_host_extinction', 'sed_3381_209_bulge_no_host_extinction', 'sed_3590_222_bulge_no_host_extinction', 'sed_3812_236_bulge_no_host_extinction', 'sed_4048_251_bulge_no_host_extinction', 'sed_4299_266_bulge_no_host_extinction', 'sed_4565_283_bulge_no_host_extinction', 'sed_4848_300_bulge_no_host_extinction', 'sed_5148_319_bulge_no_host_extinction', 'sed_5467_339_bulge_no_host_extinction', 'sed_5806_360_bulge_no_host_extinction', 'sed_6166_382_bulge_no_host_extinction', 'sed_6548_406_bulge_no_host_extinction', 'sed_6954_431_bulge_no_host_extinction', 'sed_7385_458_bulge_no_host_extinction', 'sed_7843_486_bulge_no_host_extinction', 'sed_8329_517_bulge_no_host_extinction', 'sed_8846_549_bulge_no_host_extinction', 'sed_9395_583_bulge_no_host_extinction', 'sed_9978_1489_bulge_no_host_extinction']\n"
     ]
    }
   ],
   "source": [
    "print(all_sed_bulge_no_host_extinction_columns)"
   ]
  },
  {
   "cell_type": "code",
   "execution_count": 21,
   "metadata": {},
   "outputs": [
    {
     "name": "stdout",
     "output_type": "stream",
     "text": [
      "['1000_246', '11467_1710', '1246_306', '13177_1966', '15143_2259', '1552_381', '17402_2596', '1933_474', '2407_591', '2998_186', '3184_197', '3381_209', '3590_222', '3812_236', '4048_251', '4299_266', '4565_283', '4848_300', '5148_319', '5467_339', '5806_360', '6166_382', '6548_406', '6954_431', '7385_458', '7843_486', '8329_517', '8846_549', '9395_583', '9978_1489']\n"
     ]
    }
   ],
   "source": [
    "print(all_disk)"
   ]
  },
  {
   "cell_type": "code",
   "execution_count": 22,
   "metadata": {},
   "outputs": [
    {
     "name": "stdout",
     "output_type": "stream",
     "text": [
      "['1000_246', '11467_1710', '1246_306', '13177_1966', '15143_2259', '1552_381', '17402_2596', '1933_474', '2407_591', '2998_186', '3184_197', '3381_209', '3590_222', '3812_236', '4048_251', '4299_266', '4565_283', '4848_300', '5148_319', '5467_339', '5806_360', '6166_382', '6548_406', '6954_431', '7385_458', '7843_486', '8329_517', '8846_549', '9395_583', '9978_1489']\n"
     ]
    }
   ],
   "source": [
    "print(all_bulge)"
   ]
  },
  {
   "cell_type": "code",
   "execution_count": 23,
   "metadata": {},
   "outputs": [
    {
     "name": "stdout",
     "output_type": "stream",
     "text": [
      "['1000_246', '11467_1710', '1246_306', '13177_1966', '15143_2259', '1552_381', '17402_2596', '1933_474', '2407_591', '2998_186', '3184_197', '3381_209', '3590_222', '3812_236', '4048_251', '4299_266', '4565_283', '4848_300', '5148_319', '5467_339', '5806_360', '6166_382', '6548_406', '6954_431', '7385_458', '7843_486', '8329_517', '8846_549', '9395_583', '9978_1489']\n"
     ]
    }
   ],
   "source": [
    "print(all_disk_no_host_extinction)"
   ]
  },
  {
   "cell_type": "code",
   "execution_count": 24,
   "metadata": {},
   "outputs": [
    {
     "name": "stdout",
     "output_type": "stream",
     "text": [
      "['1000_246', '11467_1710', '1246_306', '13177_1966', '15143_2259', '1552_381', '17402_2596', '1933_474', '2407_591', '2998_186', '3184_197', '3381_209', '3590_222', '3812_236', '4048_251', '4299_266', '4565_283', '4848_300', '5148_319', '5467_339', '5806_360', '6166_382', '6548_406', '6954_431', '7385_458', '7843_486', '8329_517', '8846_549', '9395_583', '9978_1489']\n"
     ]
    }
   ],
   "source": [
    "print(all_bulge_no_host_extinction)"
   ]
  },
  {
   "cell_type": "code",
   "execution_count": 25,
   "metadata": {},
   "outputs": [],
   "source": [
    "def GetWavelength(wllist):\n",
    "    \"\"\"\n",
    "    Decode wavelength from the string in list wllist\n",
    "    \"\"\"\n",
    "    \n",
    "    all_wl_aver =  []\n",
    "    all_wl_width = []\n",
    "    \n",
    "    \n",
    "    for wlstr in wllist:\n",
    "        strarr= wlstr.split(\"_\")\n",
    "        \n",
    "        wl=float(strarr[0])\n",
    "        wdt=float(strarr[1])\n",
    "        \n",
    "        all_wl_aver.append(wl+wdt/2.)\n",
    "        all_wl_width.append(wdt)\n",
    "        \n",
    "    return np.array(all_wl_aver),np.array(all_wl_width) "
   ]
  },
  {
   "cell_type": "code",
   "execution_count": 26,
   "metadata": {},
   "outputs": [],
   "source": [
    "# Decode wavelength\n",
    "all_disk_wl_av , all_disk_wl_wdt = GetWavelength(all_disk)"
   ]
  },
  {
   "cell_type": "code",
   "execution_count": 27,
   "metadata": {},
   "outputs": [],
   "source": [
    "NWL=len(all_disk_wl_av)"
   ]
  },
  {
   "cell_type": "code",
   "execution_count": 28,
   "metadata": {},
   "outputs": [
    {
     "name": "stdout",
     "output_type": "stream",
     "text": [
      "[ 1123.  12322.   1399.  14160.  16272.5  1742.5 18700.   2170.   2702.5\n",
      "  3091.   3282.5  3485.5  3701.   3930.   4173.5  4432.   4706.5  4998.\n",
      "  5307.5  5636.5  5986.   6357.   6751.   7169.5  7614.   8086.   8587.5\n",
      "  9120.5  9686.5 10722.5]\n"
     ]
    }
   ],
   "source": [
    "print(all_disk_wl_av)"
   ]
  },
  {
   "cell_type": "code",
   "execution_count": 29,
   "metadata": {},
   "outputs": [],
   "source": [
    "wl_indexes=np.argsort(all_disk_wl_av)"
   ]
  },
  {
   "cell_type": "code",
   "execution_count": 30,
   "metadata": {},
   "outputs": [
    {
     "data": {
      "text/plain": [
       "array([ 0,  2,  5,  7,  8,  9, 10, 11, 12, 13, 14, 15, 16, 17, 18, 19, 20,\n",
       "       21, 22, 23, 24, 25, 26, 27, 28, 29,  1,  3,  4,  6])"
      ]
     },
     "execution_count": 30,
     "metadata": {},
     "output_type": "execute_result"
    }
   ],
   "source": [
    "wl_indexes"
   ]
  },
  {
   "cell_type": "code",
   "execution_count": 31,
   "metadata": {},
   "outputs": [
    {
     "data": {
      "text/plain": [
       "array([ 1123. ,  1399. ,  1742.5,  2170. ,  2702.5,  3091. ,  3282.5,\n",
       "        3485.5,  3701. ,  3930. ,  4173.5,  4432. ,  4706.5,  4998. ,\n",
       "        5307.5,  5636.5,  5986. ,  6357. ,  6751. ,  7169.5,  7614. ,\n",
       "        8086. ,  8587.5,  9120.5,  9686.5, 10722.5, 12322. , 14160. ,\n",
       "       16272.5, 18700. ])"
      ]
     },
     "execution_count": 31,
     "metadata": {},
     "output_type": "execute_result"
    }
   ],
   "source": [
    "all_disk_wl_av[wl_indexes]"
   ]
  },
  {
   "cell_type": "code",
   "execution_count": 32,
   "metadata": {},
   "outputs": [
    {
     "data": {
      "text/plain": [
       "array([ 246.,  306.,  381.,  474.,  591.,  186.,  197.,  209.,  222.,\n",
       "        236.,  251.,  266.,  283.,  300.,  319.,  339.,  360.,  382.,\n",
       "        406.,  431.,  458.,  486.,  517.,  549.,  583., 1489., 1710.,\n",
       "       1966., 2259., 2596.])"
      ]
     },
     "execution_count": 32,
     "metadata": {},
     "output_type": "execute_result"
    }
   ],
   "source": [
    "all_disk_wl_wdt[wl_indexes]"
   ]
  },
  {
   "cell_type": "markdown",
   "metadata": {},
   "source": [
    "# Good columns selection"
   ]
  },
  {
   "cell_type": "code",
   "execution_count": 33,
   "metadata": {},
   "outputs": [],
   "source": [
    "selected_cols_disk = [\"galaxy_id\",\"halo_id\",\"position_x\",\"position_y\",\"position_z\",\"redshift\",\"ra\",\"dec\"] + all_sed_disk_columns"
   ]
  },
  {
   "cell_type": "code",
   "execution_count": 34,
   "metadata": {},
   "outputs": [],
   "source": [
    "selected_cols_bulge = [\"galaxy_id\",\"halo_id\",\"position_x\",\"position_y\",\"position_z\",\"redshift\",\"ra\",\"dec\"] + all_sed_bulge_columns"
   ]
  },
  {
   "cell_type": "code",
   "execution_count": 35,
   "metadata": {},
   "outputs": [],
   "source": [
    "selected_cols_disk_no_host_extinction = [\"galaxy_id\",\"halo_id\",\"position_x\",\"position_y\",\"position_z\",\"redshift\",\"ra\",\"dec\"] + all_sed_disk_no_host_extinction_columns"
   ]
  },
  {
   "cell_type": "code",
   "execution_count": 36,
   "metadata": {},
   "outputs": [],
   "source": [
    "selected_cols_bulge_no_host_extinction = [\"galaxy_id\",\"halo_id\",\"position_x\",\"position_y\",\"position_z\",\"redshift\",\"ra\",\"dec\"] + all_sed_bulge_no_host_extinction_columns"
   ]
  },
  {
   "cell_type": "markdown",
   "metadata": {},
   "source": [
    "# Select relevant dataframe"
   ]
  },
  {
   "cell_type": "code",
   "execution_count": 37,
   "metadata": {},
   "outputs": [],
   "source": [
    "FLAG_LIMIT=True\n",
    "NLIMIT=10000"
   ]
  },
  {
   "cell_type": "code",
   "execution_count": 38,
   "metadata": {},
   "outputs": [],
   "source": [
    "if FLAG_LIMIT:\n",
    "\n",
    "    df_small = df.limit(NLIMIT)\n",
    "    rs1=df_small.select(selected_cols_disk)\n",
    "    rs2=df_small.select(selected_cols_bulge)\n",
    "    rs3=df_small.select(selected_cols_disk_no_host_extinction)\n",
    "    rs4=df_small.select(selected_cols_bulge_no_host_extinction)\n",
    "else:\n",
    "    rs1=df.select(selected_cols_disk)\n",
    "    rs2=df.select(selected_cols_bulge)\n",
    "    rs3=df.select(selected_cols_disk_no_host_extinction)\n",
    "    rs4=df.select(selected_cols_bulge_no_host_extinction)\n",
    "    "
   ]
  },
  {
   "cell_type": "code",
   "execution_count": 39,
   "metadata": {},
   "outputs": [
    {
     "data": {
      "text/plain": [
       "10000"
      ]
     },
     "execution_count": 39,
     "metadata": {},
     "output_type": "execute_result"
    }
   ],
   "source": [
    "NDATA=rs1.count()\n",
    "NDATA"
   ]
  },
  {
   "cell_type": "markdown",
   "metadata": {},
   "source": [
    "# Search a far Galaxy"
   ]
  },
  {
   "cell_type": "code",
   "execution_count": 41,
   "metadata": {},
   "outputs": [],
   "source": [
    "from pyspark.sql.functions import row_number,lit\n",
    "from pyspark.sql.window import Window"
   ]
  },
  {
   "cell_type": "code",
   "execution_count": 42,
   "metadata": {},
   "outputs": [],
   "source": [
    "w = Window().orderBy('galaxy_id')\n",
    "rs0 = rs1.withColumn(\"row_num\", row_number().over(w))"
   ]
  },
  {
   "cell_type": "code",
   "execution_count": 43,
   "metadata": {},
   "outputs": [
    {
     "name": "stdout",
     "output_type": "stream",
     "text": [
      "+----------+-------+-----------------+------------------+-------------------+--------------------+-----------------+------------------+-----------------+-------------------+-----------------+-------------------+-------------------+-----------------+-------------------+-----------------+-----------------+-----------------+-----------------+-----------------+-----------------+-----------------+-----------------+-----------------+-----------------+-----------------+-----------------+-----------------+-----------------+-----------------+-----------------+-----------------+-----------------+-----------------+-----------------+-----------------+-----------------+------------------+-------+\n",
      "| galaxy_id|halo_id|       position_x|        position_y|         position_z|            redshift|               ra|               dec|sed_1000_246_disk|sed_11467_1710_disk|sed_1246_306_disk|sed_13177_1966_disk|sed_15143_2259_disk|sed_1552_381_disk|sed_17402_2596_disk|sed_1933_474_disk|sed_2407_591_disk|sed_2998_186_disk|sed_3184_197_disk|sed_3381_209_disk|sed_3590_222_disk|sed_3812_236_disk|sed_4048_251_disk|sed_4299_266_disk|sed_4565_283_disk|sed_4848_300_disk|sed_5148_319_disk|sed_5467_339_disk|sed_5806_360_disk|sed_6166_382_disk|sed_6548_406_disk|sed_6954_431_disk|sed_7385_458_disk|sed_7843_486_disk|sed_8329_517_disk|sed_8846_549_disk|sed_9395_583_disk|sed_9978_1489_disk|row_num|\n",
      "+----------+-------+-----------------+------------------+-------------------+--------------------+-----------------+------------------+-----------------+-------------------+-----------------+-------------------+-------------------+-----------------+-------------------+-----------------+-----------------+-----------------+-----------------+-----------------+-----------------+-----------------+-----------------+-----------------+-----------------+-----------------+-----------------+-----------------+-----------------+-----------------+-----------------+-----------------+-----------------+-----------------+-----------------+-----------------+-----------------+------------------+-------+\n",
      "|9437500000| 151487| 45.5167958434199|52.941690364354095| -59.20144739285322|0.021649390521782053|49.31259353683868| -40.2957920342933|         485282.4|       2.63845472E8|         646467.1|       2.77871616E8|       3.32093888E8|         717729.1|       3.04581344E8|         799648.3|        2093940.6|        5743269.5|        7899139.0|        9940858.0|      1.3589259E7|      1.8072524E7|      2.9213898E7|       3.913288E7|      5.2965268E7|      5.8206112E7|       6.742512E7|       8.211864E7|      9.5249032E7|          1.052E8|     1.18230952E8|     1.30691552E8|       1.532056E8|       1.711088E8|     1.85615056E8|     2.08267216E8|     2.23102832E8|      2.41653104E8|      1|\n",
      "|9437500001| 151487|45.42154661366637| 53.13958181461818|-59.242194807025754|0.021912149530828096|49.47752863847466|-40.27953751237621|         6141.158|          5121627.5|        6615.0557|          5276533.5|          5688804.0|         8899.312|          4839875.5|        29348.855|         95895.25|        237720.52|        317010.84|        405398.62|         541517.8|         718665.7|        1065439.6|        1354828.6|        1773997.9|        1945539.0|        2183133.5|        2531696.0|        2814743.2|        3055744.0|        3327690.2|        3574471.8|        3856601.5|        4060847.2|        4222938.0|        4475970.0|        4634501.5|         4844432.0|      2|\n",
      "+----------+-------+-----------------+------------------+-------------------+--------------------+-----------------+------------------+-----------------+-------------------+-----------------+-------------------+-------------------+-----------------+-------------------+-----------------+-----------------+-----------------+-----------------+-----------------+-----------------+-----------------+-----------------+-----------------+-----------------+-----------------+-----------------+-----------------+-----------------+-----------------+-----------------+-----------------+-----------------+-----------------+-----------------+-----------------+-----------------+------------------+-------+\n",
      "only showing top 2 rows\n",
      "\n"
     ]
    }
   ],
   "source": [
    "rs0.show(2)"
   ]
  },
  {
   "cell_type": "code",
   "execution_count": 44,
   "metadata": {},
   "outputs": [
    {
     "name": "stdout",
     "output_type": "stream",
     "text": [
      "+---------+-------+----------+----------+----------+--------+---+---+-----------------+-------------------+-----------------+-------------------+-------------------+-----------------+-------------------+-----------------+-----------------+-----------------+-----------------+-----------------+-----------------+-----------------+-----------------+-----------------+-----------------+-----------------+-----------------+-----------------+-----------------+-----------------+-----------------+-----------------+-----------------+-----------------+-----------------+-----------------+-----------------+------------------+-------+\n",
      "|galaxy_id|halo_id|position_x|position_y|position_z|redshift| ra|dec|sed_1000_246_disk|sed_11467_1710_disk|sed_1246_306_disk|sed_13177_1966_disk|sed_15143_2259_disk|sed_1552_381_disk|sed_17402_2596_disk|sed_1933_474_disk|sed_2407_591_disk|sed_2998_186_disk|sed_3184_197_disk|sed_3381_209_disk|sed_3590_222_disk|sed_3812_236_disk|sed_4048_251_disk|sed_4299_266_disk|sed_4565_283_disk|sed_4848_300_disk|sed_5148_319_disk|sed_5467_339_disk|sed_5806_360_disk|sed_6166_382_disk|sed_6548_406_disk|sed_6954_431_disk|sed_7385_458_disk|sed_7843_486_disk|sed_8329_517_disk|sed_8846_549_disk|sed_9395_583_disk|sed_9978_1489_disk|row_num|\n",
      "+---------+-------+----------+----------+----------+--------+---+---+-----------------+-------------------+-----------------+-------------------+-------------------+-----------------+-------------------+-----------------+-----------------+-----------------+-----------------+-----------------+-----------------+-----------------+-----------------+-----------------+-----------------+-----------------+-----------------+-----------------+-----------------+-----------------+-----------------+-----------------+-----------------+-----------------+-----------------+-----------------+-----------------+------------------+-------+\n",
      "+---------+-------+----------+----------+----------+--------+---+---+-----------------+-------------------+-----------------+-------------------+-------------------+-----------------+-------------------+-----------------+-----------------+-----------------+-----------------+-----------------+-----------------+-----------------+-----------------+-----------------+-----------------+-----------------+-----------------+-----------------+-----------------+-----------------+-----------------+-----------------+-----------------+-----------------+-----------------+-----------------+-----------------+------------------+-------+\n",
      "\n"
     ]
    }
   ],
   "source": [
    "rs0.filter( (rs0.redshift  > 2.5) & (rs0.redshift  < 2.50001) ).show(3) "
   ]
  },
  {
   "cell_type": "code",
   "execution_count": null,
   "metadata": {},
   "outputs": [],
   "source": [
    "#alert False"
   ]
  },
  {
   "cell_type": "markdown",
   "metadata": {},
   "source": [
    "# Binning redshift"
   ]
  },
  {
   "cell_type": "code",
   "execution_count": 45,
   "metadata": {},
   "outputs": [
    {
     "name": "stdout",
     "output_type": "stream",
     "text": [
      "0.007802581484256166 0.24261398620958463 0.0023481140472532847\n"
     ]
    }
   ],
   "source": [
    "#histogram caracteristics\n",
    "#get the minmax values in an array: you already saw how to get the output in a dataframe.\n",
    "# then you can put these values in memory with the \"first()\" function\n",
    "minmax=rs1.agg(F.min(\"redshift\"), F.max(\"redshift\")).head()\n",
    "zmin=minmax[0]\n",
    "zmax=minmax[1]\n",
    "Nbins=100\n",
    "dz=(zmax-zmin)/Nbins\n",
    "print(zmin,zmax,dz)"
   ]
  },
  {
   "cell_type": "code",
   "execution_count": 46,
   "metadata": {},
   "outputs": [],
   "source": [
    "rs1=rs1.withColumn(\"bin\", ((rs1[\"redshift\"]-zmin)/dz).astype('int'))\n",
    "#rs1.show(20)"
   ]
  },
  {
   "cell_type": "code",
   "execution_count": 47,
   "metadata": {},
   "outputs": [
    {
     "name": "stdout",
     "output_type": "stream",
     "text": [
      "+---+-----+\n",
      "|bin|count|\n",
      "+---+-----+\n",
      "|  4|    6|\n",
      "|  5|    3|\n",
      "|  0|    1|\n",
      "| 11|    3|\n",
      "| 14|   56|\n",
      "| 15|   99|\n",
      "| 17|    2|\n",
      "|  8|    4|\n",
      "| 16|   38|\n",
      "| 10|    5|\n",
      "+---+-----+\n",
      "only showing top 10 rows\n",
      "\n"
     ]
    }
   ],
   "source": [
    "# create the h dataframe using groupBy and count\n",
    "h=rs1.groupBy(\"bin\").count()\n",
    "# look at some values\n",
    "h.show(10)"
   ]
  },
  {
   "cell_type": "code",
   "execution_count": 48,
   "metadata": {},
   "outputs": [],
   "source": [
    "h=h.withColumn(\"z\", zmin+dz*h[\"bin\"]+dz/2)"
   ]
  },
  {
   "cell_type": "code",
   "execution_count": 49,
   "metadata": {},
   "outputs": [
    {
     "name": "stdout",
     "output_type": "stream",
     "text": [
      "+---+-----+--------------------+\n",
      "|bin|count|                   z|\n",
      "+---+-----+--------------------+\n",
      "|  0|    2|0.008976638507882807|\n",
      "|  5|    3| 0.02071720874414923|\n",
      "|  6|    2|0.023065322791402516|\n",
      "|  7|    7|0.025413436838655802|\n",
      "|  8|    1|0.027761550885909085|\n",
      "+---+-----+--------------------+\n",
      "only showing top 5 rows\n",
      "\n"
     ]
    }
   ],
   "source": [
    "#sort h (see sort or orderBy in DOC)\n",
    "h=h.sort(\"bin\")\n",
    "#always check some values\n",
    "h.show(5)"
   ]
  },
  {
   "cell_type": "code",
   "execution_count": 50,
   "metadata": {},
   "outputs": [
    {
     "name": "stdout",
     "output_type": "stream",
     "text": [
      "Index(['bin', 'count', 'z'], dtype='object') size=93\n"
     ]
    }
   ],
   "source": [
    "# convert h to a pandas object (see toPandas in DOC)\n",
    "# you may drop the \"bin\" column first (see drop in DOC)\n",
    "p=h.toPandas()\n",
    "print(p.columns,\"size={}\".format(p.index.size))"
   ]
  },
  {
   "cell_type": "code",
   "execution_count": 51,
   "metadata": {},
   "outputs": [
    {
     "data": {
      "image/png": "[encoded data removed]",
      "text/plain": [
       "<Figure size 432x288 with 1 Axes>"
      ]
     },
     "metadata": {},
     "output_type": "display_data"
    }
   ],
   "source": [
    "%matplotlib inline\n",
    "import matplotlib.pyplot as plt\n",
    "plt.bar(p['z'].values,p['count'].values,dz,color='white',edgecolor='black')\n",
    "plt.xlabel(\"zrec\");"
   ]
  },
  {
   "cell_type": "markdown",
   "metadata": {},
   "source": [
    "# Filter with the redshift"
   ]
  },
  {
   "cell_type": "code",
   "execution_count": 82,
   "metadata": {},
   "outputs": [],
   "source": [
    "rs1_sel=rs1.filter(rs1.redshift>0.22) # filtered dataframe"
   ]
  },
  {
   "cell_type": "code",
   "execution_count": 84,
   "metadata": {},
   "outputs": [],
   "source": [
    "result1_sel = rs1_sel.collect() # produce a list of rows filling the condition\n",
    "type(result1_sel)"
   ]
  },
  {
   "cell_type": "code",
   "execution_count": 88,
   "metadata": {},
   "outputs": [
    {
     "name": "stdout",
     "output_type": "stream",
     "text": [
      "Row(galaxy_id=9500040900, halo_id=152401, position_x=406.1212244168134, position_y=568.858358893596, position_z=-597.2576302541813, redshift=0.22988927808659554, ra=54.47767023171588, dec=-40.51365893518041, sed_1000_246_disk=1042713.5, sed_11467_1710_disk=25867352.0, sed_1246_306_disk=1315961.875, sed_13177_1966_disk=27233678.0, sed_15143_2259_disk=30303810.0, sed_1552_381_disk=1333631.625, sed_17402_2596_disk=27138996.0, sed_1933_474_disk=1186316.875, sed_2407_591_disk=1465106.625, sed_2998_186_disk=2012014.875, sed_3184_197_disk=2294864.75, sed_3381_209_disk=2604405.5, sed_3590_222_disk=3298322.0, sed_3812_236_disk=4646397.0, sed_4048_251_disk=6164822.0, sed_4299_266_disk=7224721.5, sed_4565_283_disk=8930249.0, sed_4848_300_disk=9486058.0, sed_5148_319_disk=10505455.0, sed_5467_339_disk=12007455.0, sed_5806_360_disk=13290272.0, sed_6166_382_disk=14340342.0, sed_6548_406_disk=15652816.0, sed_6954_431_disk=16943106.0, sed_7385_458_disk=18719678.0, sed_7843_486_disk=20149828.0, sed_8329_517_disk=21189532.0, sed_8846_549_disk=22582312.0, sed_9395_583_disk=23458500.0, sed_9978_1489_disk=24487468.0, bin=94)\n"
     ]
    }
   ],
   "source": [
    "print(result1_sel[0]) # then it is easy to access to the content of the row"
   ]
  },
  {
   "cell_type": "markdown",
   "metadata": {},
   "source": [
    "# study galaxy one by one"
   ]
  },
  {
   "cell_type": "code",
   "execution_count": 85,
   "metadata": {},
   "outputs": [],
   "source": [
    "#index_gal=NDATA-1"
   ]
  },
  {
   "cell_type": "code",
   "execution_count": 58,
   "metadata": {},
   "outputs": [],
   "source": [
    "from pyspark.sql.functions import monotonically_increasing_id\n",
    "from pyspark.sql.functions import desc"
   ]
  },
  {
   "cell_type": "code",
   "execution_count": 89,
   "metadata": {},
   "outputs": [],
   "source": [
    "f_rs1 = rs1.withColumn(\"index\", monotonically_increasing_id()) # add field index with the row number in creasing order\n",
    "g_rs1 = f_rs1.orderBy(desc(\"index\")).drop('index')  # decreasing order \n",
    "result1= g_rs1.take(1)"
   ]
  },
  {
   "cell_type": "code",
   "execution_count": 63,
   "metadata": {},
   "outputs": [],
   "source": [
    "f_rs2 = rs2.withColumn(\"index\", monotonically_increasing_id()) # add field index with the row number in creasing order\n",
    "g_rs2 = f_rs2.orderBy(desc(\"index\")) # decreasing order \n",
    "result2= g_rs2.take(1)"
   ]
  },
  {
   "cell_type": "code",
   "execution_count": 64,
   "metadata": {},
   "outputs": [],
   "source": [
    "f_rs3 = rs3.withColumn(\"index\", monotonically_increasing_id()) # add field index with the row number in creasing order\n",
    "g_rs3 = f_rs3.orderBy(desc(\"index\")) # decreasing order \n",
    "result3= g_rs3.take(1)"
   ]
  },
  {
   "cell_type": "code",
   "execution_count": 65,
   "metadata": {},
   "outputs": [],
   "source": [
    "f_rs4 = rs4.withColumn(\"index\", monotonically_increasing_id()) # add field index with the row number in creasing order\n",
    "g_rs4 = f_rs4.orderBy(desc(\"index\")) # decreasing order \n",
    "result4= g_rs4.take(1)"
   ]
  },
  {
   "cell_type": "code",
   "execution_count": 66,
   "metadata": {},
   "outputs": [],
   "source": [
    "# get the rows\n",
    "row1=result1[0]\n",
    "row2=result2[0]\n",
    "row3=result3[0]\n",
    "row4=result4[0]"
   ]
  },
  {
   "cell_type": "code",
   "execution_count": null,
   "metadata": {},
   "outputs": [],
   "source": []
  },
  {
   "cell_type": "code",
   "execution_count": 67,
   "metadata": {},
   "outputs": [
    {
     "data": {
      "text/plain": [
       "pyspark.sql.types.Row"
      ]
     },
     "execution_count": 67,
     "metadata": {},
     "output_type": "execute_result"
    }
   ],
   "source": [
    "type(row1)"
   ]
  },
  {
   "cell_type": "code",
   "execution_count": 90,
   "metadata": {},
   "outputs": [
    {
     "data": {
      "text/plain": [
       "{'galaxy_id': 9562543252,\n",
       " 'halo_id': 231600153401,\n",
       " 'position_x': 395.7702206893706,\n",
       " 'position_y': 588.0393014827245,\n",
       " 'position_z': -595.5650222133584,\n",
       " 'redshift': 0.22968448774549377,\n",
       " 'ra': 56.06102717172886,\n",
       " 'dec': -40.038926045374744,\n",
       " 'sed_1000_246_disk': 312888.125,\n",
       " 'sed_11467_1710_disk': 2359313.75,\n",
       " 'sed_1246_306_disk': 375208.5,\n",
       " 'sed_13177_1966_disk': 2393029.5,\n",
       " 'sed_15143_2259_disk': 2471097.25,\n",
       " 'sed_1552_381_disk': 374504.84375,\n",
       " 'sed_17402_2596_disk': 2157077.75,\n",
       " 'sed_1933_474_disk': 344094.84375,\n",
       " 'sed_2407_591_disk': 379814.21875,\n",
       " 'sed_2998_186_disk': 449824.625,\n",
       " 'sed_3184_197_disk': 479177.75,\n",
       " 'sed_3381_209_disk': 518590.03125,\n",
       " 'sed_3590_222_disk': 634970.875,\n",
       " 'sed_3812_236_disk': 923390.375,\n",
       " 'sed_4048_251_disk': 1113602.375,\n",
       " 'sed_4299_266_disk': 1210490.5,\n",
       " 'sed_4565_283_disk': 1381209.125,\n",
       " 'sed_4848_300_disk': 1414523.75,\n",
       " 'sed_5148_319_disk': 1499567.75,\n",
       " 'sed_5467_339_disk': 1613156.875,\n",
       " 'sed_5806_360_disk': 1713128.875,\n",
       " 'sed_6166_382_disk': 1791538.75,\n",
       " 'sed_6548_406_disk': 1886935.875,\n",
       " 'sed_6954_431_disk': 1969618.875,\n",
       " 'sed_7385_458_disk': 2066022.0,\n",
       " 'sed_7843_486_disk': 2103254.25,\n",
       " 'sed_8329_517_disk': 2150599.5,\n",
       " 'sed_8846_549_disk': 2236845.5,\n",
       " 'sed_9395_583_disk': 2268974.0,\n",
       " 'sed_9978_1489_disk': 2317666.5,\n",
       " 'bin': 94,\n",
       " 'index': 9999}"
      ]
     },
     "execution_count": 90,
     "metadata": {},
     "output_type": "execute_result"
    }
   ],
   "source": [
    "row1.asDict()"
   ]
  },
  {
   "cell_type": "code",
   "execution_count": 91,
   "metadata": {},
   "outputs": [
    {
     "data": {
      "text/plain": [
       "dict_keys(['galaxy_id', 'halo_id', 'position_x', 'position_y', 'position_z', 'redshift', 'ra', 'dec', 'sed_1000_246_disk', 'sed_11467_1710_disk', 'sed_1246_306_disk', 'sed_13177_1966_disk', 'sed_15143_2259_disk', 'sed_1552_381_disk', 'sed_17402_2596_disk', 'sed_1933_474_disk', 'sed_2407_591_disk', 'sed_2998_186_disk', 'sed_3184_197_disk', 'sed_3381_209_disk', 'sed_3590_222_disk', 'sed_3812_236_disk', 'sed_4048_251_disk', 'sed_4299_266_disk', 'sed_4565_283_disk', 'sed_4848_300_disk', 'sed_5148_319_disk', 'sed_5467_339_disk', 'sed_5806_360_disk', 'sed_6166_382_disk', 'sed_6548_406_disk', 'sed_6954_431_disk', 'sed_7385_458_disk', 'sed_7843_486_disk', 'sed_8329_517_disk', 'sed_8846_549_disk', 'sed_9395_583_disk', 'sed_9978_1489_disk', 'bin', 'index'])"
      ]
     },
     "execution_count": 91,
     "metadata": {},
     "output_type": "execute_result"
    }
   ],
   "source": [
    "row1.asDict().keys()"
   ]
  },
  {
   "cell_type": "code",
   "execution_count": 68,
   "metadata": {},
   "outputs": [
    {
     "data": {
      "text/plain": [
       "dict_values([9562543252, 231600153401, 395.7702206893706, 588.0393014827245, -595.5650222133584, 0.22968448774549377, 56.06102717172886, -40.038926045374744, 312888.125, 2359313.75, 375208.5, 2393029.5, 2471097.25, 374504.84375, 2157077.75, 344094.84375, 379814.21875, 449824.625, 479177.75, 518590.03125, 634970.875, 923390.375, 1113602.375, 1210490.5, 1381209.125, 1414523.75, 1499567.75, 1613156.875, 1713128.875, 1791538.75, 1886935.875, 1969618.875, 2066022.0, 2103254.25, 2150599.5, 2236845.5, 2268974.0, 2317666.5, 94, 9999])"
      ]
     },
     "execution_count": 68,
     "metadata": {},
     "output_type": "execute_result"
    }
   ],
   "source": [
    "row1.asDict().values()"
   ]
  },
  {
   "cell_type": "code",
   "execution_count": 69,
   "metadata": {},
   "outputs": [],
   "source": [
    "gal_id=row1[\"galaxy_id\"]"
   ]
  },
  {
   "cell_type": "code",
   "execution_count": 70,
   "metadata": {},
   "outputs": [
    {
     "data": {
      "text/plain": [
       "0.22968448774549377"
      ]
     },
     "execution_count": 70,
     "metadata": {},
     "output_type": "execute_result"
    }
   ],
   "source": [
    "gal_z=row1[\"redshift\"]\n",
    "gal_z"
   ]
  },
  {
   "cell_type": "code",
   "execution_count": 72,
   "metadata": {},
   "outputs": [],
   "source": [
    "def GetSEDArr(row,keylist):\n",
    "    \"\"\"\n",
    "    From the row and a key list, return an array containing the SED\n",
    "    \n",
    "    \"\"\"\n",
    "    \n",
    "    #print(row)\n",
    "    thesedarr=np.zeros(NWL) # numpy array containing the SED \n",
    "\n",
    "    idx=0\n",
    "    for mykey in keylist:\n",
    "        #print(mykey,\" \",row[mykey])\n",
    "        thesedarr[idx]=row[mykey]\n",
    "        idx+=1  \n",
    "        \n",
    "    return thesedarr"
   ]
  },
  {
   "cell_type": "markdown",
   "metadata": {},
   "source": [
    "### Get the SED"
   ]
  },
  {
   "cell_type": "code",
   "execution_count": 73,
   "metadata": {},
   "outputs": [],
   "source": [
    "sed_disk=GetSEDArr(row1,all_sed_disk_columns)\n",
    "sed_bulge=GetSEDArr(row2,all_sed_bulge_columns)\n",
    "sed_disk_no_host_extinction=GetSEDArr(row3,all_sed_disk_no_host_extinction_columns)\n",
    "sed_bulge_no_host_extinction=GetSEDArr(row4,all_sed_bulge_no_host_extinction_columns)"
   ]
  },
  {
   "cell_type": "markdown",
   "metadata": {},
   "source": [
    "## Extract the X,Y for the plot"
   ]
  },
  {
   "cell_type": "code",
   "execution_count": 74,
   "metadata": {},
   "outputs": [],
   "source": [
    "X=all_disk_wl_av[wl_indexes]\n",
    "Y1=sed_disk[wl_indexes]/all_disk_wl_wdt[wl_indexes]    # renormilize to bin size\n",
    "Y2=sed_bulge[wl_indexes]/all_disk_wl_wdt[wl_indexes]    # renormilize to bin size\n",
    "Y3=sed_disk_no_host_extinction[wl_indexes]/all_disk_wl_wdt[wl_indexes]    # renormilize to bin size\n",
    "Y4=sed_bulge_no_host_extinction[wl_indexes]/all_disk_wl_wdt[wl_indexes]    # renormilize to bin size"
   ]
  },
  {
   "cell_type": "markdown",
   "metadata": {},
   "source": [
    "# Plot SED"
   ]
  },
  {
   "cell_type": "code",
   "execution_count": 75,
   "metadata": {},
   "outputs": [],
   "source": [
    "%matplotlib inline\n",
    "import matplotlib.pyplot as plt\n",
    "plt.rcParams[\"figure.figsize\"] = (10,6)"
   ]
  },
  {
   "cell_type": "code",
   "execution_count": 76,
   "metadata": {},
   "outputs": [
    {
     "data": {
      "text/plain": [
       "<matplotlib.legend.Legend at 0x7f3760561438>"
      ]
     },
     "execution_count": 76,
     "metadata": {},
     "output_type": "execute_result"
    },
    {
     "data": {
      "image/png": "[encoded data removed]",
      "text/plain": [
       "<Figure size 720x432 with 1 Axes>"
      ]
     },
     "metadata": {},
     "output_type": "display_data"
    }
   ],
   "source": [
    "plt.plot(X/10,Y1,'bo-',label=\"disk\")\n",
    "plt.plot(X/10,Y2,'ro-',label=\"bulge\")\n",
    "\n",
    "plt.plot(X/10,Y3,'go-',label=\"disk : no_host_extinction\")\n",
    "plt.plot(X/10,Y4,'mo-',label=\"bulge : no_host_extinction\")\n",
    "\n",
    "title = \"SED galaxy id = {}, z= {:2.5f}\".format(gal_id,gal_z)\n",
    "plt.xlabel(\"$\\lambda$ (nm)\")\n",
    "plt.title(title)\n",
    "plt.legend()"
   ]
  },
  {
   "cell_type": "code",
   "execution_count": null,
   "metadata": {},
   "outputs": [],
   "source": []
  }
 ],
 "metadata": {
  "kernelspec": {
   "display_name": "Python 3",
   "language": "python",
   "name": "python3"
  },
  "language_info": {
   "codemirror_mode": {
    "name": "ipython",
    "version": 3
   },
   "file_extension": ".py",
   "mimetype": "text/x-python",
   "name": "python",
   "nbconvert_exporter": "python",
   "pygments_lexer": "ipython3",
   "version": "3.6.5"
  }
 },
 "nbformat": 4,
 "nbformat_minor": 2
}
