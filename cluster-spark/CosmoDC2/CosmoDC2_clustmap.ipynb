{
 "cells": [
  {
   "cell_type": "markdown",
   "metadata": {},
   "source": [
    "# Cluster map"
   ]
  },
  {
   "cell_type": "code",
   "execution_count": 1,
   "metadata": {},
   "outputs": [],
   "source": [
    "%matplotlib inline\n",
    "\n",
    "import os\n",
    "\n",
    "import numpy as np\n",
    "import matplotlib.pyplot as plt\n",
    "import pandas as pd"
   ]
  },
  {
   "cell_type": "code",
   "execution_count": 2,
   "metadata": {},
   "outputs": [],
   "source": [
    "import pyarrow"
   ]
  },
  {
   "cell_type": "code",
   "execution_count": 3,
   "metadata": {},
   "outputs": [
    {
     "name": "stdout",
     "output_type": "stream",
     "text": [
      "<SparkContext master=mesos://vm-75063.lal.in2p3.fr:5050 appName=PySparkShell>\n",
      "2.4.4\n"
     ]
    }
   ],
   "source": [
    "# Verify SparkContext\n",
    "print(sc)\n",
    "\n",
    "# Print Spark version\n",
    "print(sc.version)"
   ]
  },
  {
   "cell_type": "code",
   "execution_count": 4,
   "metadata": {},
   "outputs": [],
   "source": [
    "from pyspark.sql.functions import col, pandas_udf \n",
    "from pyspark.sql.types import LongType\n",
    "\n",
    "from pyspark.sql.types import IntegerType,FloatType\n",
    "from pyspark.sql.functions import pandas_udf, PandasUDFType\n",
    "\n",
    "from pyspark.sql import functions as F\n",
    "from pyspark.sql.functions import randn\n"
   ]
  },
  {
   "cell_type": "code",
   "execution_count": 5,
   "metadata": {},
   "outputs": [],
   "source": [
    "# here is how we create a function ('Ang2Pix') that can be called by dataframes\n",
    "# it takes as input the \"ra\" and \"dec\" values (which are not very different from theta/phi)\n",
    "# and returns the pixel number (but as pandas series for efficiency)\n",
    "import numpy as np\n",
    "import pandas as pd\n",
    "import healpy as hp\n",
    "\n",
    "nside=512"
   ]
  },
  {
   "cell_type": "code",
   "execution_count": 6,
   "metadata": {},
   "outputs": [
    {
     "name": "stdout",
     "output_type": "stream",
     "text": [
      "DEPRECATED: Use of this script to execute hdfs command is deprecated.\n",
      "Instead use the hdfs command for it.\n",
      "\n",
      "Found 5 items\n",
      "drwxr-xr-x   - stephane.plaszczynski lsst          0 2020-12-11 15:12 /lsst/DC2/cosmoDC2/cosmoDC2_v1.1.4_image\n",
      "drwxr-xr-x   - stephane.plaszczynski lsst          0 2019-10-16 10:52 /lsst/DC2/cosmoDC2/cosmoDC2_v1.1.4_image_double.parquet\n",
      "drwxr-xr-x   - stephane.plaszczynski lsst          0 2020-04-23 17:28 /lsst/DC2/cosmoDC2/cosmoDC2_v1.1.4_image_nofaint.parquet\n",
      "drwxr-xr-x   - stephane.plaszczynski lsst          0 2020-09-07 19:17 /lsst/DC2/cosmoDC2/shear_cosmoDC2\n",
      "drwxr-xr-x   - stephane.plaszczynski lsst          0 2019-04-16 18:40 /lsst/DC2/cosmoDC2/xyz_v1.1.4_hive\n"
     ]
    }
   ],
   "source": [
    "! hadoop dfs -ls /lsst/DC2/cosmoDC2"
   ]
  },
  {
   "cell_type": "code",
   "execution_count": 31,
   "metadata": {},
   "outputs": [
    {
     "name": "stdout",
     "output_type": "stream",
     "text": [
      "DEPRECATED: Use of this script to execute hdfs command is deprecated.\n",
      "Instead use the hdfs command for it.\n",
      "\n",
      "Found 20 items\n",
      "drwxr-xr-x   - stephane.plaszczynski lsst           0 2020-06-12 10:23 /lsst/DC2/DR6axCdc2.parquet\n",
      "drwxr-xr-x   - stephane.plaszczynski lsst           0 2020-12-11 12:11 /lsst/DC2/cosmoDC2\n",
      "-rw-r--r--   3 stephane.plaszczynski lsst 83486737444 2020-05-28 19:33 /lsst/DC2/dc2_object_run2.2i_dr3.parquet\n",
      "-rw-r--r--   3 stephane.plaszczynski lsst 44384598496 2020-06-05 13:15 /lsst/DC2/dc2_object_run2.2i_dr6.parquet\n",
      "drwxr-xr-x   - stephane.plaszczynski lsst           0 2020-10-07 20:49 /lsst/DC2/dc2_object_run2.2i_dr6_wfd_v1\n",
      "drwxr-xr-x   - stephane.plaszczynski lsst           0 2020-06-26 10:36 /lsst/DC2/dc2_object_run2.2i_dr6b\n",
      "drwxr-xr-x   - stephane.plaszczynski lsst           0 2020-07-28 18:46 /lsst/DC2/dc2_object_run2.2i_dr6c\n",
      "drwxr-xr-x   - stephane.plaszczynski lsst           0 2020-09-07 11:52 /lsst/DC2/dc2_object_run2.2i_dr6d\n",
      "drwxr-xr-x   - stephane.plaszczynski lsst           0 2019-10-21 15:54 /lsst/DC2/df1.parquet\n",
      "drwxr-xr-x   - stephane.plaszczynski lsst           0 2019-11-08 16:58 /lsst/DC2/df2.parquet\n",
      "drwxr-xr-x   - stephane.plaszczynski lsst           0 2019-12-06 18:48 /lsst/DC2/df3.parquet\n",
      "drwxr-xr-x   - stephane.plaszczynski lsst           0 2019-12-10 11:35 /lsst/DC2/df4.parquet\n",
      "drwxr-xr-x   - stephane.plaszczynski lsst           0 2019-09-24 11:18 /lsst/DC2/object_catalog\n",
      "drwxr-xr-x   - stephane.plaszczynski lsst           0 2019-12-13 15:52 /lsst/DC2/refcatXobj.parquet\n",
      "-rw-r--r--   3 stephane.plaszczynski lsst  3628146240 2019-12-09 19:05 /lsst/DC2/refcat_v3_dc2_r2p1i.fits\n",
      "drwxr-xr-x   - stephane.plaszczynski lsst           0 2019-12-13 13:48 /lsst/DC2/refcat_v3_dc2_r2p1i.parquet\n",
      "drwxr-xr-x   - stephane.plaszczynski lsst           0 2020-06-08 15:29 /lsst/DC2/run21xstars.parquet\n",
      "drwxr-xr-x   - stephane.plaszczynski lsst           0 2020-06-09 13:03 /lsst/DC2/run22xCdc2_r0.5.parquet\n",
      "drwxr-xr-x   - stephane.plaszczynski lsst           0 2020-06-08 17:21 /lsst/DC2/run22xstars.parquet\n",
      "drwxr-xr-x   - stephane.plaszczynski lsst           0 2019-12-13 13:39 /lsst/DC2/starsXcosmoDC2.parquet\n"
     ]
    }
   ],
   "source": [
    "! hadoop dfs -ls /lsst/DC2"
   ]
  },
  {
   "cell_type": "code",
   "execution_count": 7,
   "metadata": {},
   "outputs": [],
   "source": [
    "#base_dir=\"/lsst/DC2/cosmoDC2/shear_cosmoDC2\""
   ]
  },
  {
   "cell_type": "code",
   "execution_count": 11,
   "metadata": {},
   "outputs": [],
   "source": [
    "#fullfilename=\"/lsst/DC2/cosmoDC2/cosmoDC2_v1.1.4_image.parquet\"\n",
    "fullfilename=\"/lsst/DC2/cosmoDC2/cosmoDC2_v1.1.4_image\"\n",
    "datafile=fullfilename\n",
    "FLAG_ONE_FILE_INPUT=True"
   ]
  },
  {
   "cell_type": "code",
   "execution_count": 9,
   "metadata": {},
   "outputs": [],
   "source": [
    "#from subprocess import Popen, PIPE\n",
    "#hdfs_path = base_dir\n",
    "#process = Popen(f'hdfs dfs -ls -h {hdfs_path}', shell=True, stdout=PIPE, stderr=PIPE)\n",
    "#std_out, std_err = process.communicate()\n",
    "#list_of_file_names = [fn.split(' ')[-1].split('/')[-1] for fn in std_out.decode().readlines()[1:]][:-1]\n",
    "#list_of_file_names_with_full_address = [fn.split(' ')[-1] for fn in std_out.decode().readlines()[1:]][:-1]"
   ]
  },
  {
   "cell_type": "code",
   "execution_count": 10,
   "metadata": {},
   "outputs": [],
   "source": [
    "#for fn in std_out.readlines():\n",
    "#    print(fn)"
   ]
  },
  {
   "cell_type": "code",
   "execution_count": 12,
   "metadata": {},
   "outputs": [],
   "source": [
    "from pyspark.sql import SparkSession\n",
    "\n",
    "# Initialise our Spark session\n",
    "spark = SparkSession.builder.getOrCreate()"
   ]
  },
  {
   "cell_type": "code",
   "execution_count": 13,
   "metadata": {},
   "outputs": [],
   "source": [
    "# Read the data as DataFrame\n",
    "if FLAG_ONE_FILE_INPUT:\n",
    "    df = spark.read.format(\"parquet\").load(datafile)\n",
    "else: # read all files\n",
    "    #the_list_of_files=os.listdir(base_dir)\n",
    "    #the_sorted_list_of_files=sorted(the_list_of_files)\n",
    "    #print(\"sorted files : \",the_sorted_list_of_files[:5])\n",
    "    #selected_files=[]\n",
    "    #for filename in the_sorted_list_of_files:\n",
    "    #    sel_filename=re.findall(\"^dc2_object_run2.2i_dr6c_tract[0-9][0-9][0-9][0-9].parquet$\",filename)\n",
    "    #    if len(sel_filename) > 0:\n",
    "    #        selected_files.append(sel_filename[0])\n",
    "    #print(\"selected files : \", selected_files[:5])\n",
    "    #InputPath = [base_dir + \"/{}\".format(filename) for filename in selected_files]\n",
    "    InputPath = all_files  # filename from the decoded index file\n",
    "    df = spark.read.parquet(*InputPath)        "
   ]
  },
  {
   "cell_type": "code",
   "execution_count": 14,
   "metadata": {},
   "outputs": [
    {
     "name": "stdout",
     "output_type": "stream",
     "text": [
      "root\n",
      " |-- sed_2998_186_disk: float (nullable = true)\n",
      " |-- sed_17402_2596_disk: float (nullable = true)\n",
      " |-- sed_15143_2259_bulge: float (nullable = true)\n",
      " |-- Mag_true_y_lsst_z0: float (nullable = true)\n",
      " |-- sed_8329_517_bulge: float (nullable = true)\n",
      " |-- mag_i_lsst: double (nullable = true)\n",
      " |-- sed_13177_1966_disk: float (nullable = true)\n",
      " |-- mag_true_z_sdss: float (nullable = true)\n",
      " |-- sed_2407_591_no_host_extinction: float (nullable = true)\n",
      " |-- sed_1933_474_disk_no_host_extinction: float (nullable = true)\n",
      " |-- sed_3590_222: float (nullable = true)\n",
      " |-- sed_4048_251: float (nullable = true)\n",
      " |-- sed_8329_517: float (nullable = true)\n",
      " |-- mag_u_lsst_no_host_extinction: double (nullable = true)\n",
      " |-- velocity_x: double (nullable = true)\n",
      " |-- sed_1246_306_bulge: float (nullable = true)\n",
      " |-- sed_17402_2596_no_host_extinction: float (nullable = true)\n",
      " |-- sed_1552_381: float (nullable = true)\n",
      " |-- Mag_true_u_lsst_z0_no_host_extinction: float (nullable = true)\n",
      " |-- sed_6548_406_disk_no_host_extinction: float (nullable = true)\n",
      " |-- mag_true_z_lsst_no_host_extinction: float (nullable = true)\n",
      " |-- sed_6954_431_bulge: float (nullable = true)\n",
      " |-- mag_g_sdss_no_host_extinction: double (nullable = true)\n",
      " |-- sed_4048_251_bulge: float (nullable = true)\n",
      " |-- sed_3381_209_disk: float (nullable = true)\n",
      " |-- position_y: double (nullable = true)\n",
      " |-- sed_1552_381_disk_no_host_extinction: float (nullable = true)\n",
      " |-- Mag_true_g_lsst_z0: float (nullable = true)\n",
      " |-- Mag_true_i_lsst_z0: float (nullable = true)\n",
      " |-- Mag_true_u_sdss_z0: float (nullable = true)\n",
      " |-- sed_3184_197_bulge: float (nullable = true)\n",
      " |-- galaxy_id: long (nullable = true)\n",
      " |-- shear_2: double (nullable = true)\n",
      " |-- mag_y_lsst: double (nullable = true)\n",
      " |-- sed_5806_360_bulge_no_host_extinction: float (nullable = true)\n",
      " |-- Mag_true_r_lsst_z0: float (nullable = true)\n",
      " |-- Mag_true_z_lsst_z0: float (nullable = true)\n",
      " |-- sed_1000_246_bulge_no_host_extinction: float (nullable = true)\n",
      " |-- sed_4048_251_no_host_extinction: float (nullable = true)\n",
      " |-- sed_6166_382_disk: float (nullable = true)\n",
      " |-- sed_2407_591_bulge_no_host_extinction: float (nullable = true)\n",
      " |-- sed_3590_222_bulge_no_host_extinction: float (nullable = true)\n",
      " |-- redshift: double (nullable = true)\n",
      " |-- mag_true_u_lsst: float (nullable = true)\n",
      " |-- size_disk_true: float (nullable = true)\n",
      " |-- position_z: double (nullable = true)\n",
      " |-- sed_3184_197_disk: float (nullable = true)\n",
      " |-- mag_true_i: float (nullable = true)\n",
      " |-- sed_1933_474_no_host_extinction: float (nullable = true)\n",
      " |-- mag_u_lsst: double (nullable = true)\n",
      " |-- size_minor_true: float (nullable = true)\n",
      " |-- sed_5806_360_no_host_extinction: float (nullable = true)\n",
      " |-- mag_g: double (nullable = true)\n",
      " |-- sed_5148_319: float (nullable = true)\n",
      " |-- mag_r: double (nullable = true)\n",
      " |-- sed_5806_360_disk: float (nullable = true)\n",
      " |-- sed_11467_1710_disk_no_host_extinction: float (nullable = true)\n",
      " |-- sed_4048_251_disk: float (nullable = true)\n",
      " |-- ellipticity_2_disk_true: double (nullable = true)\n",
      " |-- mag_r_lsst: double (nullable = true)\n",
      " |-- sed_8329_517_disk: float (nullable = true)\n",
      " |-- sed_8846_549_disk_no_host_extinction: float (nullable = true)\n",
      " |-- mag_true_y_lsst_no_host_extinction: float (nullable = true)\n",
      " |-- sed_3812_236_bulge: float (nullable = true)\n",
      " |-- sed_1552_381_bulge: float (nullable = true)\n",
      " |-- sed_6548_406: float (nullable = true)\n",
      " |-- size_minor_bulge_true: float (nullable = true)\n",
      " |-- mag_true_r_sdss_no_host_extinction: float (nullable = true)\n",
      " |-- shear_2_phosim: double (nullable = true)\n",
      " |-- mag_true_r: float (nullable = true)\n",
      " |-- sed_7385_458_disk: float (nullable = true)\n",
      " |-- sed_3381_209_disk_no_host_extinction: float (nullable = true)\n",
      " |-- mag_z_sdss_no_host_extinction: double (nullable = true)\n",
      " |-- shear_2_treecorr: double (nullable = true)\n",
      " |-- mag_true_g: float (nullable = true)\n",
      " |-- sed_1246_306_disk: float (nullable = true)\n",
      " |-- sed_7385_458_bulge: float (nullable = true)\n",
      " |-- sed_5806_360_bulge: float (nullable = true)\n",
      " |-- sed_4299_266: float (nullable = true)\n",
      " |-- sed_2998_186_disk_no_host_extinction: float (nullable = true)\n",
      " |-- sed_4848_300: float (nullable = true)\n",
      " |-- sed_15143_2259_no_host_extinction: float (nullable = true)\n",
      " |-- sed_4565_283: float (nullable = true)\n",
      " |-- sed_4848_300_no_host_extinction: float (nullable = true)\n",
      " |-- sed_1933_474_bulge: float (nullable = true)\n",
      " |-- sed_6166_382_bulge_no_host_extinction: float (nullable = true)\n",
      " |-- sed_9978_1489_disk: float (nullable = true)\n",
      " |-- sed_6548_406_disk: float (nullable = true)\n",
      " |-- mag_true_r_lsst_no_host_extinction: float (nullable = true)\n",
      " |-- velocity_y: double (nullable = true)\n",
      " |-- sed_3381_209: float (nullable = true)\n",
      " |-- mag_true_r_lsst: float (nullable = true)\n",
      " |-- Mag_true_z_sdss_z0: float (nullable = true)\n",
      " |-- sed_4848_300_disk_no_host_extinction: float (nullable = true)\n",
      " |-- R_v_disk: float (nullable = true)\n",
      " |-- size_minor_disk_true: float (nullable = true)\n",
      " |-- ellipticity_2_true: double (nullable = true)\n",
      " |-- sed_5467_339_disk_no_host_extinction: float (nullable = true)\n",
      " |-- mag_g_sdss: double (nullable = true)\n",
      " |-- sed_3590_222_disk: float (nullable = true)\n",
      " |-- sed_3381_209_no_host_extinction: float (nullable = true)\n",
      " |-- sed_9395_583_disk_no_host_extinction: float (nullable = true)\n",
      " |-- sed_5467_339: float (nullable = true)\n",
      " |-- sed_1246_306_no_host_extinction: float (nullable = true)\n",
      " |-- Mag_true_u_lsst_z0: float (nullable = true)\n",
      " |-- sed_11467_1710_no_host_extinction: float (nullable = true)\n",
      " |-- sed_9978_1489_no_host_extinction: float (nullable = true)\n",
      " |-- stellar_mass_bulge: float (nullable = true)\n",
      " |-- sed_6548_406_bulge: float (nullable = true)\n",
      " |-- convergence: double (nullable = true)\n",
      " |-- sed_1933_474_bulge_no_host_extinction: float (nullable = true)\n",
      " |-- sed_4848_300_bulge_no_host_extinction: float (nullable = true)\n",
      " |-- sed_15143_2259: float (nullable = true)\n",
      " |-- sed_11467_1710_disk: float (nullable = true)\n",
      " |-- sed_9395_583: float (nullable = true)\n",
      " |-- sed_4848_300_bulge: float (nullable = true)\n",
      " |-- magnification: double (nullable = true)\n",
      " |-- mag_true_r_sdss: float (nullable = true)\n",
      " |-- sed_1552_381_no_host_extinction: float (nullable = true)\n",
      " |-- stellar_mass: float (nullable = true)\n",
      " |-- Mag_true_i_lsst_z0_no_host_extinction: float (nullable = true)\n",
      " |-- sed_5148_319_bulge_no_host_extinction: float (nullable = true)\n",
      " |-- mag_true_y_lsst: float (nullable = true)\n",
      " |-- sersic_disk: float (nullable = true)\n",
      " |-- sed_4565_283_no_host_extinction: float (nullable = true)\n",
      " |-- dec_true: double (nullable = true)\n",
      " |-- sed_6166_382_bulge: float (nullable = true)\n",
      " |-- ellipticity_2_bulge_true: double (nullable = true)\n",
      " |-- Mag_true_g_sdss_z0_no_host_extinction: float (nullable = true)\n",
      " |-- sed_17402_2596_bulge_no_host_extinction: float (nullable = true)\n",
      " |-- mag_i_lsst_no_host_extinction: double (nullable = true)\n",
      " |-- mag_true_z: float (nullable = true)\n",
      " |-- sed_7843_486_disk_no_host_extinction: float (nullable = true)\n",
      " |-- sed_2998_186_no_host_extinction: float (nullable = true)\n",
      " |-- sed_3812_236_disk_no_host_extinction: float (nullable = true)\n",
      " |-- sed_9395_583_disk: float (nullable = true)\n",
      " |-- mag_y_lsst_no_host_extinction: double (nullable = true)\n",
      " |-- sed_9395_583_bulge_no_host_extinction: float (nullable = true)\n",
      " |-- halo_id: long (nullable = true)\n",
      " |-- halo_mass: double (nullable = true)\n",
      " |-- R_v_bulge: float (nullable = true)\n",
      " |-- sed_9978_1489: float (nullable = true)\n",
      " |-- A_v_disk: float (nullable = true)\n",
      " |-- sed_9395_583_no_host_extinction: float (nullable = true)\n",
      " |-- Mag_true_z_lsst_z0_no_host_extinction: float (nullable = true)\n",
      " |-- sed_3590_222_no_host_extinction: float (nullable = true)\n",
      " |-- ellipticity_1_true: double (nullable = true)\n",
      " |-- Mag_true_z_sdss_z0_no_host_extinction: float (nullable = true)\n",
      " |-- Mag_true_g_lsst_z0_no_host_extinction: float (nullable = true)\n",
      " |-- sed_4299_266_disk: float (nullable = true)\n",
      " |-- sed_5467_339_bulge: float (nullable = true)\n",
      " |-- mag_i_sdss: double (nullable = true)\n",
      " |-- sed_8329_517_no_host_extinction: float (nullable = true)\n",
      " |-- dec: double (nullable = true)\n",
      " |-- bulge_to_total_ratio_i: float (nullable = true)\n",
      " |-- sed_4299_266_disk_no_host_extinction: float (nullable = true)\n",
      " |-- sed_6954_431: float (nullable = true)\n",
      " |-- mag_true_u: float (nullable = true)\n",
      " |-- mag_true_u_sdss: float (nullable = true)\n",
      " |-- sed_3184_197_no_host_extinction: float (nullable = true)\n",
      " |-- position_angle_true: double (nullable = true)\n",
      " |-- sed_4299_266_bulge: float (nullable = true)\n",
      " |-- sed_1246_306_bulge_no_host_extinction: float (nullable = true)\n",
      " |-- sed_13177_1966_bulge: float (nullable = true)\n",
      " |-- sed_3184_197: float (nullable = true)\n",
      " |-- sed_17402_2596_bulge: float (nullable = true)\n",
      " |-- sed_4565_283_bulge_no_host_extinction: float (nullable = true)\n",
      " |-- sed_6166_382_disk_no_host_extinction: float (nullable = true)\n",
      " |-- ellipticity_bulge_true: float (nullable = true)\n",
      " |-- mag_true_i_sdss: float (nullable = true)\n",
      " |-- mag_true_g_lsst: float (nullable = true)\n",
      " |-- sed_4848_300_disk: float (nullable = true)\n",
      " |-- sed_6954_431_disk_no_host_extinction: float (nullable = true)\n",
      " |-- mag_i_sdss_no_host_extinction: double (nullable = true)\n",
      " |-- mag_z_lsst: double (nullable = true)\n",
      " |-- sed_1246_306_disk_no_host_extinction: float (nullable = true)\n",
      " |-- sed_3812_236_disk: float (nullable = true)\n",
      " |-- sed_8329_517_disk_no_host_extinction: float (nullable = true)\n",
      " |-- Mag_true_y_lsst_z0_no_host_extinction: float (nullable = true)\n",
      " |-- sed_3381_209_bulge: float (nullable = true)\n",
      " |-- sed_2407_591_bulge: float (nullable = true)\n",
      " |-- sed_3184_197_disk_no_host_extinction: float (nullable = true)\n",
      " |-- mag_true_u_sdss_no_host_extinction: float (nullable = true)\n",
      " |-- sed_1552_381_bulge_no_host_extinction: float (nullable = true)\n",
      " |-- sed_5467_339_disk: float (nullable = true)\n",
      " |-- mag_i: double (nullable = true)\n",
      " |-- sed_5148_319_no_host_extinction: float (nullable = true)\n",
      " |-- size_bulge_true: float (nullable = true)\n",
      " |-- sed_3184_197_bulge_no_host_extinction: float (nullable = true)\n",
      " |-- sed_3812_236_no_host_extinction: float (nullable = true)\n",
      " |-- sed_15143_2259_bulge_no_host_extinction: float (nullable = true)\n",
      " |-- Mag_true_r_sdss_z0: float (nullable = true)\n",
      " |-- sed_8846_549_bulge: float (nullable = true)\n",
      " |-- sed_7843_486_no_host_extinction: float (nullable = true)\n",
      " |-- ra_true: double (nullable = true)\n",
      " |-- sed_5148_319_disk: float (nullable = true)\n",
      " |-- sed_8846_549: float (nullable = true)\n",
      " |-- mag_true_z_lsst: float (nullable = true)\n",
      " |-- sed_6954_431_disk: float (nullable = true)\n",
      " |-- sed_3381_209_bulge_no_host_extinction: float (nullable = true)\n",
      " |-- Mag_true_i_sdss_z0: float (nullable = true)\n",
      " |-- Mag_true_r_sdss_z0_no_host_extinction: float (nullable = true)\n",
      " |-- sed_15143_2259_disk: float (nullable = true)\n",
      " |-- ellipticity_disk_true: float (nullable = true)\n",
      " |-- sed_6548_406_no_host_extinction: float (nullable = true)\n",
      " |-- sed_13177_1966_no_host_extinction: float (nullable = true)\n",
      " |-- sed_4565_283_disk_no_host_extinction: float (nullable = true)\n",
      " |-- size_true: float (nullable = true)\n",
      " |-- sed_1000_246_disk_no_host_extinction: float (nullable = true)\n",
      " |-- sed_5148_319_bulge: float (nullable = true)\n",
      " |-- sed_2998_186: float (nullable = true)\n",
      " |-- ellipticity_true: float (nullable = true)\n",
      " |-- sed_3590_222_disk_no_host_extinction: float (nullable = true)\n",
      " |-- sed_1246_306: float (nullable = true)\n",
      " |-- mag_true_i_sdss_no_host_extinction: float (nullable = true)\n",
      " |-- ellipticity_1_bulge_true: double (nullable = true)\n",
      " |-- stellar_mass_disk: float (nullable = true)\n",
      " |-- sed_1000_246_no_host_extinction: float (nullable = true)\n",
      " |-- sed_4565_283_bulge: float (nullable = true)\n",
      " |-- mag_g_lsst: double (nullable = true)\n",
      " |-- sed_7843_486_bulge_no_host_extinction: float (nullable = true)\n",
      " |-- ra: double (nullable = true)\n",
      " |-- is_central: boolean (nullable = true)\n",
      " |-- sed_1552_381_disk: float (nullable = true)\n",
      " |-- mag_true_i_lsst: float (nullable = true)\n",
      " |-- mag_y: double (nullable = true)\n",
      " |-- sed_2407_591: float (nullable = true)\n",
      " |-- sed_4299_266_no_host_extinction: float (nullable = true)\n",
      " |-- ellipticity_1_disk_true: double (nullable = true)\n",
      " |-- sed_8329_517_bulge_no_host_extinction: float (nullable = true)\n",
      " |-- mag_true_z_sdss_no_host_extinction: float (nullable = true)\n",
      " |-- sed_5467_339_bulge_no_host_extinction: float (nullable = true)\n",
      " |-- sed_9978_1489_disk_no_host_extinction: float (nullable = true)\n",
      " |-- sed_11467_1710_bulge_no_host_extinction: float (nullable = true)\n",
      " |-- redshift_true: double (nullable = true)\n",
      " |-- sed_13177_1966_bulge_no_host_extinction: float (nullable = true)\n",
      " |-- sed_4299_266_bulge_no_host_extinction: float (nullable = true)\n",
      " |-- sed_7385_458_disk_no_host_extinction: float (nullable = true)\n",
      " |-- sed_8846_549_disk: float (nullable = true)\n",
      " |-- sed_15143_2259_disk_no_host_extinction: float (nullable = true)\n",
      " |-- sed_9978_1489_bulge: float (nullable = true)\n",
      " |-- sed_9395_583_bulge: float (nullable = true)\n",
      " |-- sed_2998_186_bulge: float (nullable = true)\n",
      " |-- sed_17402_2596_disk_no_host_extinction: float (nullable = true)\n",
      " |-- sed_17402_2596: float (nullable = true)\n",
      " |-- sed_3590_222_bulge: float (nullable = true)\n",
      " |-- sed_8846_549_no_host_extinction: float (nullable = true)\n",
      " |-- mag_u_sdss_no_host_extinction: double (nullable = true)\n",
      " |-- sed_5806_360: float (nullable = true)\n",
      " |-- sed_4565_283_disk: float (nullable = true)\n",
      " |-- sed_7385_458_no_host_extinction: float (nullable = true)\n",
      " |-- Mag_true_r_lsst_z0_no_host_extinction: float (nullable = true)\n",
      " |-- velocity_z: double (nullable = true)\n",
      " |-- sed_13177_1966_disk_no_host_extinction: float (nullable = true)\n",
      " |-- sed_13177_1966: float (nullable = true)\n",
      " |-- mag_true_g_lsst_no_host_extinction: float (nullable = true)\n",
      " |-- shear_1: double (nullable = true)\n",
      " |-- sed_2998_186_bulge_no_host_extinction: float (nullable = true)\n",
      " |-- mag_true_u_lsst_no_host_extinction: float (nullable = true)\n",
      " |-- mag_true_y: float (nullable = true)\n",
      " |-- Mag_true_i_sdss_z0_no_host_extinction: float (nullable = true)\n",
      " |-- position_x: double (nullable = true)\n",
      " |-- sed_7385_458_bulge_no_host_extinction: float (nullable = true)\n",
      " |-- mag_z: double (nullable = true)\n",
      " |-- sed_6166_382: float (nullable = true)\n",
      " |-- sed_7843_486: float (nullable = true)\n",
      " |-- mag_u_sdss: double (nullable = true)\n",
      " |-- sed_5806_360_disk_no_host_extinction: float (nullable = true)\n",
      " |-- sed_7843_486_disk: float (nullable = true)\n",
      " |-- mag_g_lsst_no_host_extinction: double (nullable = true)\n",
      " |-- sed_2407_591_disk_no_host_extinction: float (nullable = true)\n",
      " |-- sed_6954_431_no_host_extinction: float (nullable = true)\n",
      " |-- sed_8846_549_bulge_no_host_extinction: float (nullable = true)\n",
      " |-- sed_7843_486_bulge: float (nullable = true)\n",
      " |-- sed_6548_406_bulge_no_host_extinction: float (nullable = true)\n",
      " |-- mag_r_sdss_no_host_extinction: double (nullable = true)\n",
      " |-- sed_1933_474: float (nullable = true)\n",
      " |-- sed_1000_246_bulge: float (nullable = true)\n",
      " |-- mag_u: double (nullable = true)\n",
      " |-- sed_1000_246: float (nullable = true)\n",
      " |-- sed_4048_251_disk_no_host_extinction: float (nullable = true)\n",
      " |-- sed_6954_431_bulge_no_host_extinction: float (nullable = true)\n",
      " |-- mag_z_sdss: double (nullable = true)\n",
      " |-- sed_11467_1710_bulge: float (nullable = true)\n",
      " |-- sed_9978_1489_bulge_no_host_extinction: float (nullable = true)\n",
      " |-- sed_11467_1710: float (nullable = true)\n",
      " |-- R_v: float (nullable = true)\n",
      " |-- sed_6166_382_no_host_extinction: float (nullable = true)\n",
      " |-- sed_2407_591_disk: float (nullable = true)\n",
      " |-- mag_r_sdss: double (nullable = true)\n",
      " |-- sed_5467_339_no_host_extinction: float (nullable = true)\n",
      " |-- mag_true_g_sdss_no_host_extinction: float (nullable = true)\n",
      " |-- A_v: float (nullable = true)\n",
      " |-- sed_7385_458: float (nullable = true)\n",
      " |-- A_v_bulge: float (nullable = true)\n",
      " |-- sed_3812_236: float (nullable = true)\n",
      " |-- Mag_true_u_sdss_z0_no_host_extinction: float (nullable = true)\n",
      " |-- sed_1933_474_disk: float (nullable = true)\n",
      " |-- sersic_bulge: float (nullable = true)\n",
      " |-- Mag_true_g_sdss_z0: float (nullable = true)\n",
      " |-- mag_r_lsst_no_host_extinction: double (nullable = true)\n",
      " |-- mag_true_i_lsst_no_host_extinction: float (nullable = true)\n",
      " |-- mag_z_lsst_no_host_extinction: double (nullable = true)\n",
      " |-- sed_3812_236_bulge_no_host_extinction: float (nullable = true)\n",
      " |-- sed_1000_246_disk: float (nullable = true)\n",
      " |-- sed_5148_319_disk_no_host_extinction: float (nullable = true)\n",
      " |-- mag_true_g_sdss: float (nullable = true)\n",
      " |-- sed_4048_251_bulge_no_host_extinction: float (nullable = true)\n",
      "\n"
     ]
    }
   ],
   "source": [
    "df.printSchema()"
   ]
  },
  {
   "cell_type": "code",
   "execution_count": 15,
   "metadata": {},
   "outputs": [],
   "source": [
    "data=df.select(\"halo_id\",\"ra\",\"dec\",\"position_x\",\"position_y\",\"position_z\",\"redshift\",\"stellar_mass\",\"is_central\")"
   ]
  },
  {
   "cell_type": "code",
   "execution_count": 17,
   "metadata": {},
   "outputs": [
    {
     "name": "stdout",
     "output_type": "stream",
     "text": [
      "+----------+------------------+-------------------+------------------+------------------+-------------------+--------------------+-------------+----------+\n",
      "|   halo_id|                ra|                dec|        position_x|        position_y|         position_z|            redshift| stellar_mass|is_central|\n",
      "+----------+------------------+-------------------+------------------+------------------+-------------------+--------------------+-------------+----------+\n",
      "|    151487| 49.31259353683868|  -40.2957920342933|  45.5167958434199|52.941690364354095| -59.20144739285322|0.021649390521782053|1.61537874E10|      true|\n",
      "|    151487| 49.47752863847466| -40.27953751237621| 45.42154661366637| 53.13958181461818|-59.242194807025754|0.021912149530828096| 1.45056048E8|     false|\n",
      "| 100151487| 51.23465325073303| -40.12060710649598| 43.54176857102085| 54.22216066172425| -58.60158356142716|0.021491185880432306| 3.39115392E8|      true|\n",
      "| 200151487| 49.46696774834902| -39.98940095061212| 45.16455421985035|52.819206345249235| -58.29223310443717|0.021335146372658986| 2.54158784E8|      true|\n",
      "| 300151487|50.803636542046334|-40.039271615821946|12.911322419072542|15.832896971366775|-17.166640053332692|0.006085374726386705| 2.73879296E9|      true|\n",
      "| 400151487| 50.54518847362636| -40.07799054389943|13.137550085363255|15.962756519586268|-17.395363391285212| 0.00623290137713961|  4.0522228E7|      true|\n",
      "| 500151487| 51.02707286253755|  -40.1404041017382| 45.25989478742573| 55.94534538161587| -60.68330146897007|  0.0223237647522454| 2.88517056E8|      true|\n",
      "|    151475| 51.33140040449482| -40.91957436922724| 86.49343571192782|108.08317157584177|-119.99545030190912|0.045172530714958414| 1.03660016E8|      true|\n",
      "| 100151475| 51.13916152512118| -40.49796836532194| 93.08373894489988|115.52178826130613|-126.70004401408451|0.046326508639092046|   1.389996E8|      true|\n",
      "| 200151475| 51.20793607800331| -41.09714186952414| 94.78871520136444|117.92721815512215|-131.97436265542476|0.048128892222936814| 3.56870912E8|      true|\n",
      "| 300151475| 51.21394333839696| -40.79285673066511|  87.1917294784331| 108.4990595428037|-120.11725197375661|   0.045163780350022|  2.2817676E7|      true|\n",
      "| 400151475|50.638437760559995| -41.29998379548825| 80.77888488769531|   98.476689298388|-111.89652563820422|0.042040215567260786| 1.52033376E8|      true|\n",
      "| 500151475|50.116391674548254|-41.023766302700764| 96.78235121176277|115.81791622537963| -131.3136893258968| 0.04728200887845091|  5.5350938E8|      true|\n",
      "| 600151475|50.569220967827526|-39.391530051586344| 95.69258354079555|116.37085390762545|-123.71842290314152| 0.04620169695794596| 3.07253056E8|      true|\n",
      "| 700151475| 51.46505859631285|-40.005944651013635| 80.61135520397778|101.21595355826365|-108.59751096913513| 0.04155876672797998|  1.8066806E7|      true|\n",
      "| 800151475|50.327370953625575|-40.929608741967236| 88.23855225469026| 106.3874365578235|-119.85373698489768| 0.04503470930495679| 1.31174822E9|      true|\n",
      "| 900151475| 50.07451902143816| -39.73055907386359| 95.95054304096061|114.65212324975242|-124.25579017316792|0.046674333402263235| 3.65424384E8|      true|\n",
      "|1000151475|  50.8976304736243| -40.95121263982124| 96.40280495227223|118.61393888231734| -132.6412684480909|0.049486323344247296| 1.82157984E8|      true|\n",
      "|1100151475|50.084721022722455|-41.080350442988674| 90.72348366320973|108.44548185106734| -123.2572421221666| 0.04638220212240851| 3.1771433E10|      true|\n",
      "|1100151475| 50.08508782144439| -41.08541769396502| 90.70608649455326|108.42609674158231|-123.25655440209617|0.046171963085680945| 2.07632486E9|     false|\n",
      "+----------+------------------+-------------------+------------------+------------------+-------------------+--------------------+-------------+----------+\n",
      "only showing top 20 rows\n",
      "\n"
     ]
    }
   ],
   "source": [
    "data.show()"
   ]
  },
  {
   "cell_type": "code",
   "execution_count": 22,
   "metadata": {},
   "outputs": [
    {
     "data": {
      "text/plain": [
       "324194504"
      ]
     },
     "execution_count": 22,
     "metadata": {},
     "output_type": "execute_result"
    }
   ],
   "source": [
    "data.count()"
   ]
  },
  {
   "cell_type": "code",
   "execution_count": 17,
   "metadata": {},
   "outputs": [],
   "source": [
    "#data.describe().show()"
   ]
  },
  {
   "cell_type": "code",
   "execution_count": 23,
   "metadata": {},
   "outputs": [],
   "source": [
    "center_clu=data.filter(data.is_central==True)"
   ]
  },
  {
   "cell_type": "code",
   "execution_count": 24,
   "metadata": {},
   "outputs": [
    {
     "data": {
      "text/plain": [
       "241445447"
      ]
     },
     "execution_count": 24,
     "metadata": {},
     "output_type": "execute_result"
    }
   ],
   "source": [
    "center_clu.count()"
   ]
  },
  {
   "cell_type": "code",
   "execution_count": 25,
   "metadata": {},
   "outputs": [
    {
     "name": "stdout",
     "output_type": "stream",
     "text": [
      "+----------+------------------+-------------------+------------------+------------------+-------------------+--------------------+-------------+----------+\n",
      "|   halo_id|                ra|                dec|        position_x|        position_y|         position_z|            redshift| stellar_mass|is_central|\n",
      "+----------+------------------+-------------------+------------------+------------------+-------------------+--------------------+-------------+----------+\n",
      "|    151487| 49.31259353683868|  -40.2957920342933|  45.5167958434199|52.941690364354095| -59.20144739285322|0.021649390521782053|1.61537874E10|      true|\n",
      "| 100151487| 51.23465325073303| -40.12060710649598| 43.54176857102085| 54.22216066172425| -58.60158356142716|0.021491185880432306| 3.39115392E8|      true|\n",
      "| 200151487| 49.46696774834902| -39.98940095061212| 45.16455421985035|52.819206345249235| -58.29223310443717|0.021335146372658986| 2.54158784E8|      true|\n",
      "| 300151487|50.803636542046334|-40.039271615821946|12.911322419072542|15.832896971366775|-17.166640053332692|0.006085374726386705| 2.73879296E9|      true|\n",
      "| 400151487| 50.54518847362636| -40.07799054389943|13.137550085363255|15.962756519586268|-17.395363391285212| 0.00623290137713961|  4.0522228E7|      true|\n",
      "| 500151487| 51.02707286253755|  -40.1404041017382| 45.25989478742573| 55.94534538161587| -60.68330146897007|  0.0223237647522454| 2.88517056E8|      true|\n",
      "|    151475| 51.33140040449482| -40.91957436922724| 86.49343571192782|108.08317157584177|-119.99545030190912|0.045172530714958414| 1.03660016E8|      true|\n",
      "| 100151475| 51.13916152512118| -40.49796836532194| 93.08373894489988|115.52178826130613|-126.70004401408451|0.046326508639092046|   1.389996E8|      true|\n",
      "| 200151475| 51.20793607800331| -41.09714186952414| 94.78871520136444|117.92721815512215|-131.97436265542476|0.048128892222936814| 3.56870912E8|      true|\n",
      "| 300151475| 51.21394333839696| -40.79285673066511|  87.1917294784331| 108.4990595428037|-120.11725197375661|   0.045163780350022|  2.2817676E7|      true|\n",
      "| 400151475|50.638437760559995| -41.29998379548825| 80.77888488769531|   98.476689298388|-111.89652563820422|0.042040215567260786| 1.52033376E8|      true|\n",
      "| 500151475|50.116391674548254|-41.023766302700764| 96.78235121176277|115.81791622537963| -131.3136893258968| 0.04728200887845091|  5.5350938E8|      true|\n",
      "| 600151475|50.569220967827526|-39.391530051586344| 95.69258354079555|116.37085390762545|-123.71842290314152| 0.04620169695794596| 3.07253056E8|      true|\n",
      "| 700151475| 51.46505859631285|-40.005944651013635| 80.61135520397778|101.21595355826365|-108.59751096913513| 0.04155876672797998|  1.8066806E7|      true|\n",
      "| 800151475|50.327370953625575|-40.929608741967236| 88.23855225469026| 106.3874365578235|-119.85373698489768| 0.04503470930495679| 1.31174822E9|      true|\n",
      "| 900151475| 50.07451902143816| -39.73055907386359| 95.95054304096061|114.65212324975242|-124.25579017316792|0.046674333402263235| 3.65424384E8|      true|\n",
      "|1000151475|  50.8976304736243| -40.95121263982124| 96.40280495227223|118.61393888231734| -132.6412684480909|0.049486323344247296| 1.82157984E8|      true|\n",
      "|1100151475|50.084721022722455|-41.080350442988674| 90.72348366320973|108.44548185106734| -123.2572421221666| 0.04638220212240851| 3.1771433E10|      true|\n",
      "|1200151475| 49.94651504347869|-39.556325649089096| 83.04708776339679| 98.78445477552818|-106.59793262750331| 0.04075301296267808| 4.69134592E8|      true|\n",
      "|1300151475| 50.47606253427721|-40.059955294907056| 87.63357887805348|106.21782759545555|-115.79156795018156| 0.04389399303913932|1.41420401E10|      true|\n",
      "+----------+------------------+-------------------+------------------+------------------+-------------------+--------------------+-------------+----------+\n",
      "only showing top 20 rows\n",
      "\n"
     ]
    }
   ],
   "source": [
    "center_clu.show()"
   ]
  },
  {
   "cell_type": "code",
   "execution_count": 28,
   "metadata": {},
   "outputs": [],
   "source": [
    "from pyspark.ml.feature import Bucketizer"
   ]
  },
  {
   "cell_type": "code",
   "execution_count": 29,
   "metadata": {},
   "outputs": [],
   "source": [
    "minmax = center_clu.agg(F.min(\"stellar_mass\"), F.max(\"stellar_mass\")).head()"
   ]
  },
  {
   "cell_type": "code",
   "execution_count": 30,
   "metadata": {},
   "outputs": [
    {
     "data": {
      "text/plain": [
       "Row(min(stellar_mass)=21214.576171875, max(stellar_mass)=4468432699392.0)"
      ]
     },
     "execution_count": 30,
     "metadata": {},
     "output_type": "execute_result"
    }
   ],
   "source": [
    "minmax"
   ]
  },
  {
   "cell_type": "code",
   "execution_count": null,
   "metadata": {},
   "outputs": [],
   "source": []
  }
 ],
 "metadata": {
  "kernelspec": {
   "display_name": "Python 3",
   "language": "python",
   "name": "python3"
  },
  "language_info": {
   "codemirror_mode": {
    "name": "ipython",
    "version": 3
   },
   "file_extension": ".py",
   "mimetype": "text/x-python",
   "name": "python",
   "nbconvert_exporter": "python",
   "pygments_lexer": "ipython3",
   "version": "3.6.5"
  }
 },
 "nbformat": 4,
 "nbformat_minor": 2
}
