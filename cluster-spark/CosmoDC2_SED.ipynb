{
 "cells": [
  {
   "cell_type": "markdown",
   "metadata": {},
   "source": [
    "# Work on SED of CosmoDC2\n",
    "\n",
    "- author : Sylvie Dagoret-Campagne\n",
    "- Creation : January 29th 2021"
   ]
  },
  {
   "cell_type": "code",
   "execution_count": 57,
   "metadata": {},
   "outputs": [],
   "source": [
    "%matplotlib inline\n",
    "\n",
    "import os\n",
    "\n",
    "import numpy as np\n",
    "import matplotlib.pyplot as plt\n",
    "import pandas as pd"
   ]
  },
  {
   "cell_type": "code",
   "execution_count": 58,
   "metadata": {},
   "outputs": [],
   "source": [
    "import pyarrow\n",
    "import re # to decode SED"
   ]
  },
  {
   "cell_type": "code",
   "execution_count": 59,
   "metadata": {},
   "outputs": [
    {
     "name": "stdout",
     "output_type": "stream",
     "text": [
      "<SparkContext master=mesos://vm-75063.lal.in2p3.fr:5050 appName=PySparkShell>\n",
      "2.4.4\n"
     ]
    }
   ],
   "source": [
    "# Verify SparkContext\n",
    "print(sc)\n",
    "\n",
    "# Print Spark version\n",
    "print(sc.version)"
   ]
  },
  {
   "cell_type": "code",
   "execution_count": 60,
   "metadata": {},
   "outputs": [],
   "source": [
    "# Spark imports\n",
    "from pyspark.sql import SparkSession\n",
    "from pyspark.sql.types import IntegerType\n",
    "from pyspark.sql import functions as F"
   ]
  },
  {
   "cell_type": "code",
   "execution_count": 61,
   "metadata": {},
   "outputs": [],
   "source": [
    "from pyspark.sql.functions import col, pandas_udf \n",
    "from pyspark.sql.types import LongType\n",
    "\n",
    "from pyspark.sql.types import IntegerType,FloatType\n",
    "from pyspark.sql.functions import pandas_udf, PandasUDFType\n",
    "\n",
    "from pyspark.sql import functions as F\n",
    "from pyspark.sql.functions import randn"
   ]
  },
  {
   "cell_type": "code",
   "execution_count": 62,
   "metadata": {},
   "outputs": [],
   "source": [
    "# here is how we create a function ('Ang2Pix') that can be called by dataframes\n",
    "# it takes as input the \"ra\" and \"dec\" values (which are not very different from theta/phi)\n",
    "# and returns the pixel number (but as pandas series for efficiency)\n",
    "import numpy as np\n",
    "import pandas as pd\n",
    "import healpy as hp\n",
    "\n",
    "nside=512"
   ]
  },
  {
   "cell_type": "code",
   "execution_count": 63,
   "metadata": {},
   "outputs": [
    {
     "name": "stdout",
     "output_type": "stream",
     "text": [
      "DEPRECATED: Use of this script to execute hdfs command is deprecated.\n",
      "Instead use the hdfs command for it.\n",
      "\n",
      "Found 5 items\n",
      "drwxr-xr-x   - stephane.plaszczynski lsst          0 2020-12-11 15:12 /lsst/DC2/cosmoDC2/cosmoDC2_v1.1.4_image\n",
      "drwxr-xr-x   - stephane.plaszczynski lsst          0 2019-10-16 10:52 /lsst/DC2/cosmoDC2/cosmoDC2_v1.1.4_image_double.parquet\n",
      "drwxr-xr-x   - stephane.plaszczynski lsst          0 2020-04-23 17:28 /lsst/DC2/cosmoDC2/cosmoDC2_v1.1.4_image_nofaint.parquet\n",
      "drwxr-xr-x   - stephane.plaszczynski lsst          0 2020-09-07 19:17 /lsst/DC2/cosmoDC2/shear_cosmoDC2\n",
      "drwxr-xr-x   - stephane.plaszczynski lsst          0 2019-04-16 18:40 /lsst/DC2/cosmoDC2/xyz_v1.1.4_hive\n"
     ]
    }
   ],
   "source": [
    "! hadoop dfs -ls /lsst/DC2/cosmoDC2"
   ]
  },
  {
   "cell_type": "code",
   "execution_count": 64,
   "metadata": {},
   "outputs": [],
   "source": [
    "fullfilename=\"/lsst/DC2/cosmoDC2/cosmoDC2_v1.1.4_image\"\n",
    "datafile=fullfilename\n",
    "FLAG_ONE_FILE_INPUT=True"
   ]
  },
  {
   "cell_type": "code",
   "execution_count": 65,
   "metadata": {},
   "outputs": [],
   "source": [
    "from pyspark.sql import SparkSession\n",
    "\n",
    "# Initialise our Spark session\n",
    "spark = SparkSession.builder.getOrCreate()"
   ]
  },
  {
   "cell_type": "code",
   "execution_count": 66,
   "metadata": {},
   "outputs": [],
   "source": [
    "# Read the data as DataFrame\n",
    "if FLAG_ONE_FILE_INPUT:\n",
    "    df = spark.read.format(\"parquet\").load(datafile)\n",
    "else: # read all files\n",
    "    #the_list_of_files=os.listdir(base_dir)\n",
    "    #the_sorted_list_of_files=sorted(the_list_of_files)\n",
    "    #print(\"sorted files : \",the_sorted_list_of_files[:5])\n",
    "    #selected_files=[]\n",
    "    #for filename in the_sorted_list_of_files:\n",
    "    #    sel_filename=re.findall(\"^dc2_object_run2.2i_dr6c_tract[0-9][0-9][0-9][0-9].parquet$\",filename)\n",
    "    #    if len(sel_filename) > 0:\n",
    "    #        selected_files.append(sel_filename[0])\n",
    "    #print(\"selected files : \", selected_files[:5])\n",
    "    #InputPath = [base_dir + \"/{}\".format(filename) for filename in selected_files]\n",
    "    InputPath = all_files  # filename from the decoded index file\n",
    "    df = spark.read.parquet(*InputPath)        "
   ]
  },
  {
   "cell_type": "code",
   "execution_count": 67,
   "metadata": {
    "scrolled": false
   },
   "outputs": [
    {
     "name": "stdout",
     "output_type": "stream",
     "text": [
      "root\n",
      " |-- sed_2998_186_disk: float (nullable = true)\n",
      " |-- sed_17402_2596_disk: float (nullable = true)\n",
      " |-- sed_15143_2259_bulge: float (nullable = true)\n",
      " |-- Mag_true_y_lsst_z0: float (nullable = true)\n",
      " |-- sed_8329_517_bulge: float (nullable = true)\n",
      " |-- mag_i_lsst: double (nullable = true)\n",
      " |-- sed_13177_1966_disk: float (nullable = true)\n",
      " |-- mag_true_z_sdss: float (nullable = true)\n",
      " |-- sed_2407_591_no_host_extinction: float (nullable = true)\n",
      " |-- sed_1933_474_disk_no_host_extinction: float (nullable = true)\n",
      " |-- sed_3590_222: float (nullable = true)\n",
      " |-- sed_4048_251: float (nullable = true)\n",
      " |-- sed_8329_517: float (nullable = true)\n",
      " |-- mag_u_lsst_no_host_extinction: double (nullable = true)\n",
      " |-- velocity_x: double (nullable = true)\n",
      " |-- sed_1246_306_bulge: float (nullable = true)\n",
      " |-- sed_17402_2596_no_host_extinction: float (nullable = true)\n",
      " |-- sed_1552_381: float (nullable = true)\n",
      " |-- Mag_true_u_lsst_z0_no_host_extinction: float (nullable = true)\n",
      " |-- sed_6548_406_disk_no_host_extinction: float (nullable = true)\n",
      " |-- mag_true_z_lsst_no_host_extinction: float (nullable = true)\n",
      " |-- sed_6954_431_bulge: float (nullable = true)\n",
      " |-- mag_g_sdss_no_host_extinction: double (nullable = true)\n",
      " |-- sed_4048_251_bulge: float (nullable = true)\n",
      " |-- sed_3381_209_disk: float (nullable = true)\n",
      " |-- position_y: double (nullable = true)\n",
      " |-- sed_1552_381_disk_no_host_extinction: float (nullable = true)\n",
      " |-- Mag_true_g_lsst_z0: float (nullable = true)\n",
      " |-- Mag_true_i_lsst_z0: float (nullable = true)\n",
      " |-- Mag_true_u_sdss_z0: float (nullable = true)\n",
      " |-- sed_3184_197_bulge: float (nullable = true)\n",
      " |-- galaxy_id: long (nullable = true)\n",
      " |-- shear_2: double (nullable = true)\n",
      " |-- mag_y_lsst: double (nullable = true)\n",
      " |-- sed_5806_360_bulge_no_host_extinction: float (nullable = true)\n",
      " |-- Mag_true_r_lsst_z0: float (nullable = true)\n",
      " |-- Mag_true_z_lsst_z0: float (nullable = true)\n",
      " |-- sed_1000_246_bulge_no_host_extinction: float (nullable = true)\n",
      " |-- sed_4048_251_no_host_extinction: float (nullable = true)\n",
      " |-- sed_6166_382_disk: float (nullable = true)\n",
      " |-- sed_2407_591_bulge_no_host_extinction: float (nullable = true)\n",
      " |-- sed_3590_222_bulge_no_host_extinction: float (nullable = true)\n",
      " |-- redshift: double (nullable = true)\n",
      " |-- mag_true_u_lsst: float (nullable = true)\n",
      " |-- size_disk_true: float (nullable = true)\n",
      " |-- position_z: double (nullable = true)\n",
      " |-- sed_3184_197_disk: float (nullable = true)\n",
      " |-- mag_true_i: float (nullable = true)\n",
      " |-- sed_1933_474_no_host_extinction: float (nullable = true)\n",
      " |-- mag_u_lsst: double (nullable = true)\n",
      " |-- size_minor_true: float (nullable = true)\n",
      " |-- sed_5806_360_no_host_extinction: float (nullable = true)\n",
      " |-- mag_g: double (nullable = true)\n",
      " |-- sed_5148_319: float (nullable = true)\n",
      " |-- mag_r: double (nullable = true)\n",
      " |-- sed_5806_360_disk: float (nullable = true)\n",
      " |-- sed_11467_1710_disk_no_host_extinction: float (nullable = true)\n",
      " |-- sed_4048_251_disk: float (nullable = true)\n",
      " |-- ellipticity_2_disk_true: double (nullable = true)\n",
      " |-- mag_r_lsst: double (nullable = true)\n",
      " |-- sed_8329_517_disk: float (nullable = true)\n",
      " |-- sed_8846_549_disk_no_host_extinction: float (nullable = true)\n",
      " |-- mag_true_y_lsst_no_host_extinction: float (nullable = true)\n",
      " |-- sed_3812_236_bulge: float (nullable = true)\n",
      " |-- sed_1552_381_bulge: float (nullable = true)\n",
      " |-- sed_6548_406: float (nullable = true)\n",
      " |-- size_minor_bulge_true: float (nullable = true)\n",
      " |-- mag_true_r_sdss_no_host_extinction: float (nullable = true)\n",
      " |-- shear_2_phosim: double (nullable = true)\n",
      " |-- mag_true_r: float (nullable = true)\n",
      " |-- sed_7385_458_disk: float (nullable = true)\n",
      " |-- sed_3381_209_disk_no_host_extinction: float (nullable = true)\n",
      " |-- mag_z_sdss_no_host_extinction: double (nullable = true)\n",
      " |-- shear_2_treecorr: double (nullable = true)\n",
      " |-- mag_true_g: float (nullable = true)\n",
      " |-- sed_1246_306_disk: float (nullable = true)\n",
      " |-- sed_7385_458_bulge: float (nullable = true)\n",
      " |-- sed_5806_360_bulge: float (nullable = true)\n",
      " |-- sed_4299_266: float (nullable = true)\n",
      " |-- sed_2998_186_disk_no_host_extinction: float (nullable = true)\n",
      " |-- sed_4848_300: float (nullable = true)\n",
      " |-- sed_15143_2259_no_host_extinction: float (nullable = true)\n",
      " |-- sed_4565_283: float (nullable = true)\n",
      " |-- sed_4848_300_no_host_extinction: float (nullable = true)\n",
      " |-- sed_1933_474_bulge: float (nullable = true)\n",
      " |-- sed_6166_382_bulge_no_host_extinction: float (nullable = true)\n",
      " |-- sed_9978_1489_disk: float (nullable = true)\n",
      " |-- sed_6548_406_disk: float (nullable = true)\n",
      " |-- mag_true_r_lsst_no_host_extinction: float (nullable = true)\n",
      " |-- velocity_y: double (nullable = true)\n",
      " |-- sed_3381_209: float (nullable = true)\n",
      " |-- mag_true_r_lsst: float (nullable = true)\n",
      " |-- Mag_true_z_sdss_z0: float (nullable = true)\n",
      " |-- sed_4848_300_disk_no_host_extinction: float (nullable = true)\n",
      " |-- R_v_disk: float (nullable = true)\n",
      " |-- size_minor_disk_true: float (nullable = true)\n",
      " |-- ellipticity_2_true: double (nullable = true)\n",
      " |-- sed_5467_339_disk_no_host_extinction: float (nullable = true)\n",
      " |-- mag_g_sdss: double (nullable = true)\n",
      " |-- sed_3590_222_disk: float (nullable = true)\n",
      " |-- sed_3381_209_no_host_extinction: float (nullable = true)\n",
      " |-- sed_9395_583_disk_no_host_extinction: float (nullable = true)\n",
      " |-- sed_5467_339: float (nullable = true)\n",
      " |-- sed_1246_306_no_host_extinction: float (nullable = true)\n",
      " |-- Mag_true_u_lsst_z0: float (nullable = true)\n",
      " |-- sed_11467_1710_no_host_extinction: float (nullable = true)\n",
      " |-- sed_9978_1489_no_host_extinction: float (nullable = true)\n",
      " |-- stellar_mass_bulge: float (nullable = true)\n",
      " |-- sed_6548_406_bulge: float (nullable = true)\n",
      " |-- convergence: double (nullable = true)\n",
      " |-- sed_1933_474_bulge_no_host_extinction: float (nullable = true)\n",
      " |-- sed_4848_300_bulge_no_host_extinction: float (nullable = true)\n",
      " |-- sed_15143_2259: float (nullable = true)\n",
      " |-- sed_11467_1710_disk: float (nullable = true)\n",
      " |-- sed_9395_583: float (nullable = true)\n",
      " |-- sed_4848_300_bulge: float (nullable = true)\n",
      " |-- magnification: double (nullable = true)\n",
      " |-- mag_true_r_sdss: float (nullable = true)\n",
      " |-- sed_1552_381_no_host_extinction: float (nullable = true)\n",
      " |-- stellar_mass: float (nullable = true)\n",
      " |-- Mag_true_i_lsst_z0_no_host_extinction: float (nullable = true)\n",
      " |-- sed_5148_319_bulge_no_host_extinction: float (nullable = true)\n",
      " |-- mag_true_y_lsst: float (nullable = true)\n",
      " |-- sersic_disk: float (nullable = true)\n",
      " |-- sed_4565_283_no_host_extinction: float (nullable = true)\n",
      " |-- dec_true: double (nullable = true)\n",
      " |-- sed_6166_382_bulge: float (nullable = true)\n",
      " |-- ellipticity_2_bulge_true: double (nullable = true)\n",
      " |-- Mag_true_g_sdss_z0_no_host_extinction: float (nullable = true)\n",
      " |-- sed_17402_2596_bulge_no_host_extinction: float (nullable = true)\n",
      " |-- mag_i_lsst_no_host_extinction: double (nullable = true)\n",
      " |-- mag_true_z: float (nullable = true)\n",
      " |-- sed_7843_486_disk_no_host_extinction: float (nullable = true)\n",
      " |-- sed_2998_186_no_host_extinction: float (nullable = true)\n",
      " |-- sed_3812_236_disk_no_host_extinction: float (nullable = true)\n",
      " |-- sed_9395_583_disk: float (nullable = true)\n",
      " |-- mag_y_lsst_no_host_extinction: double (nullable = true)\n",
      " |-- sed_9395_583_bulge_no_host_extinction: float (nullable = true)\n",
      " |-- halo_id: long (nullable = true)\n",
      " |-- halo_mass: double (nullable = true)\n",
      " |-- R_v_bulge: float (nullable = true)\n",
      " |-- sed_9978_1489: float (nullable = true)\n",
      " |-- A_v_disk: float (nullable = true)\n",
      " |-- sed_9395_583_no_host_extinction: float (nullable = true)\n",
      " |-- Mag_true_z_lsst_z0_no_host_extinction: float (nullable = true)\n",
      " |-- sed_3590_222_no_host_extinction: float (nullable = true)\n",
      " |-- ellipticity_1_true: double (nullable = true)\n",
      " |-- Mag_true_z_sdss_z0_no_host_extinction: float (nullable = true)\n",
      " |-- Mag_true_g_lsst_z0_no_host_extinction: float (nullable = true)\n",
      " |-- sed_4299_266_disk: float (nullable = true)\n",
      " |-- sed_5467_339_bulge: float (nullable = true)\n",
      " |-- mag_i_sdss: double (nullable = true)\n",
      " |-- sed_8329_517_no_host_extinction: float (nullable = true)\n",
      " |-- dec: double (nullable = true)\n",
      " |-- bulge_to_total_ratio_i: float (nullable = true)\n",
      " |-- sed_4299_266_disk_no_host_extinction: float (nullable = true)\n",
      " |-- sed_6954_431: float (nullable = true)\n",
      " |-- mag_true_u: float (nullable = true)\n",
      " |-- mag_true_u_sdss: float (nullable = true)\n",
      " |-- sed_3184_197_no_host_extinction: float (nullable = true)\n",
      " |-- position_angle_true: double (nullable = true)\n",
      " |-- sed_4299_266_bulge: float (nullable = true)\n",
      " |-- sed_1246_306_bulge_no_host_extinction: float (nullable = true)\n",
      " |-- sed_13177_1966_bulge: float (nullable = true)\n",
      " |-- sed_3184_197: float (nullable = true)\n",
      " |-- sed_17402_2596_bulge: float (nullable = true)\n",
      " |-- sed_4565_283_bulge_no_host_extinction: float (nullable = true)\n",
      " |-- sed_6166_382_disk_no_host_extinction: float (nullable = true)\n",
      " |-- ellipticity_bulge_true: float (nullable = true)\n",
      " |-- mag_true_i_sdss: float (nullable = true)\n",
      " |-- mag_true_g_lsst: float (nullable = true)\n",
      " |-- sed_4848_300_disk: float (nullable = true)\n",
      " |-- sed_6954_431_disk_no_host_extinction: float (nullable = true)\n",
      " |-- mag_i_sdss_no_host_extinction: double (nullable = true)\n",
      " |-- mag_z_lsst: double (nullable = true)\n",
      " |-- sed_1246_306_disk_no_host_extinction: float (nullable = true)\n",
      " |-- sed_3812_236_disk: float (nullable = true)\n",
      " |-- sed_8329_517_disk_no_host_extinction: float (nullable = true)\n",
      " |-- Mag_true_y_lsst_z0_no_host_extinction: float (nullable = true)\n",
      " |-- sed_3381_209_bulge: float (nullable = true)\n",
      " |-- sed_2407_591_bulge: float (nullable = true)\n",
      " |-- sed_3184_197_disk_no_host_extinction: float (nullable = true)\n",
      " |-- mag_true_u_sdss_no_host_extinction: float (nullable = true)\n",
      " |-- sed_1552_381_bulge_no_host_extinction: float (nullable = true)\n",
      " |-- sed_5467_339_disk: float (nullable = true)\n",
      " |-- mag_i: double (nullable = true)\n",
      " |-- sed_5148_319_no_host_extinction: float (nullable = true)\n",
      " |-- size_bulge_true: float (nullable = true)\n",
      " |-- sed_3184_197_bulge_no_host_extinction: float (nullable = true)\n",
      " |-- sed_3812_236_no_host_extinction: float (nullable = true)\n",
      " |-- sed_15143_2259_bulge_no_host_extinction: float (nullable = true)\n",
      " |-- Mag_true_r_sdss_z0: float (nullable = true)\n",
      " |-- sed_8846_549_bulge: float (nullable = true)\n",
      " |-- sed_7843_486_no_host_extinction: float (nullable = true)\n",
      " |-- ra_true: double (nullable = true)\n",
      " |-- sed_5148_319_disk: float (nullable = true)\n",
      " |-- sed_8846_549: float (nullable = true)\n",
      " |-- mag_true_z_lsst: float (nullable = true)\n",
      " |-- sed_6954_431_disk: float (nullable = true)\n",
      " |-- sed_3381_209_bulge_no_host_extinction: float (nullable = true)\n",
      " |-- Mag_true_i_sdss_z0: float (nullable = true)\n",
      " |-- Mag_true_r_sdss_z0_no_host_extinction: float (nullable = true)\n",
      " |-- sed_15143_2259_disk: float (nullable = true)\n",
      " |-- ellipticity_disk_true: float (nullable = true)\n",
      " |-- sed_6548_406_no_host_extinction: float (nullable = true)\n",
      " |-- sed_13177_1966_no_host_extinction: float (nullable = true)\n",
      " |-- sed_4565_283_disk_no_host_extinction: float (nullable = true)\n",
      " |-- size_true: float (nullable = true)\n",
      " |-- sed_1000_246_disk_no_host_extinction: float (nullable = true)\n",
      " |-- sed_5148_319_bulge: float (nullable = true)\n",
      " |-- sed_2998_186: float (nullable = true)\n",
      " |-- ellipticity_true: float (nullable = true)\n",
      " |-- sed_3590_222_disk_no_host_extinction: float (nullable = true)\n",
      " |-- sed_1246_306: float (nullable = true)\n",
      " |-- mag_true_i_sdss_no_host_extinction: float (nullable = true)\n",
      " |-- ellipticity_1_bulge_true: double (nullable = true)\n",
      " |-- stellar_mass_disk: float (nullable = true)\n",
      " |-- sed_1000_246_no_host_extinction: float (nullable = true)\n",
      " |-- sed_4565_283_bulge: float (nullable = true)\n",
      " |-- mag_g_lsst: double (nullable = true)\n",
      " |-- sed_7843_486_bulge_no_host_extinction: float (nullable = true)\n",
      " |-- ra: double (nullable = true)\n",
      " |-- is_central: boolean (nullable = true)\n",
      " |-- sed_1552_381_disk: float (nullable = true)\n",
      " |-- mag_true_i_lsst: float (nullable = true)\n",
      " |-- mag_y: double (nullable = true)\n",
      " |-- sed_2407_591: float (nullable = true)\n",
      " |-- sed_4299_266_no_host_extinction: float (nullable = true)\n",
      " |-- ellipticity_1_disk_true: double (nullable = true)\n",
      " |-- sed_8329_517_bulge_no_host_extinction: float (nullable = true)\n",
      " |-- mag_true_z_sdss_no_host_extinction: float (nullable = true)\n",
      " |-- sed_5467_339_bulge_no_host_extinction: float (nullable = true)\n",
      " |-- sed_9978_1489_disk_no_host_extinction: float (nullable = true)\n",
      " |-- sed_11467_1710_bulge_no_host_extinction: float (nullable = true)\n",
      " |-- redshift_true: double (nullable = true)\n",
      " |-- sed_13177_1966_bulge_no_host_extinction: float (nullable = true)\n",
      " |-- sed_4299_266_bulge_no_host_extinction: float (nullable = true)\n",
      " |-- sed_7385_458_disk_no_host_extinction: float (nullable = true)\n",
      " |-- sed_8846_549_disk: float (nullable = true)\n",
      " |-- sed_15143_2259_disk_no_host_extinction: float (nullable = true)\n",
      " |-- sed_9978_1489_bulge: float (nullable = true)\n",
      " |-- sed_9395_583_bulge: float (nullable = true)\n",
      " |-- sed_2998_186_bulge: float (nullable = true)\n",
      " |-- sed_17402_2596_disk_no_host_extinction: float (nullable = true)\n",
      " |-- sed_17402_2596: float (nullable = true)\n",
      " |-- sed_3590_222_bulge: float (nullable = true)\n",
      " |-- sed_8846_549_no_host_extinction: float (nullable = true)\n",
      " |-- mag_u_sdss_no_host_extinction: double (nullable = true)\n",
      " |-- sed_5806_360: float (nullable = true)\n",
      " |-- sed_4565_283_disk: float (nullable = true)\n",
      " |-- sed_7385_458_no_host_extinction: float (nullable = true)\n",
      " |-- Mag_true_r_lsst_z0_no_host_extinction: float (nullable = true)\n",
      " |-- velocity_z: double (nullable = true)\n",
      " |-- sed_13177_1966_disk_no_host_extinction: float (nullable = true)\n",
      " |-- sed_13177_1966: float (nullable = true)\n",
      " |-- mag_true_g_lsst_no_host_extinction: float (nullable = true)\n",
      " |-- shear_1: double (nullable = true)\n",
      " |-- sed_2998_186_bulge_no_host_extinction: float (nullable = true)\n",
      " |-- mag_true_u_lsst_no_host_extinction: float (nullable = true)\n",
      " |-- mag_true_y: float (nullable = true)\n",
      " |-- Mag_true_i_sdss_z0_no_host_extinction: float (nullable = true)\n",
      " |-- position_x: double (nullable = true)\n",
      " |-- sed_7385_458_bulge_no_host_extinction: float (nullable = true)\n",
      " |-- mag_z: double (nullable = true)\n",
      " |-- sed_6166_382: float (nullable = true)\n",
      " |-- sed_7843_486: float (nullable = true)\n",
      " |-- mag_u_sdss: double (nullable = true)\n",
      " |-- sed_5806_360_disk_no_host_extinction: float (nullable = true)\n",
      " |-- sed_7843_486_disk: float (nullable = true)\n",
      " |-- mag_g_lsst_no_host_extinction: double (nullable = true)\n",
      " |-- sed_2407_591_disk_no_host_extinction: float (nullable = true)\n",
      " |-- sed_6954_431_no_host_extinction: float (nullable = true)\n",
      " |-- sed_8846_549_bulge_no_host_extinction: float (nullable = true)\n",
      " |-- sed_7843_486_bulge: float (nullable = true)\n",
      " |-- sed_6548_406_bulge_no_host_extinction: float (nullable = true)\n",
      " |-- mag_r_sdss_no_host_extinction: double (nullable = true)\n",
      " |-- sed_1933_474: float (nullable = true)\n",
      " |-- sed_1000_246_bulge: float (nullable = true)\n",
      " |-- mag_u: double (nullable = true)\n",
      " |-- sed_1000_246: float (nullable = true)\n",
      " |-- sed_4048_251_disk_no_host_extinction: float (nullable = true)\n",
      " |-- sed_6954_431_bulge_no_host_extinction: float (nullable = true)\n",
      " |-- mag_z_sdss: double (nullable = true)\n",
      " |-- sed_11467_1710_bulge: float (nullable = true)\n",
      " |-- sed_9978_1489_bulge_no_host_extinction: float (nullable = true)\n",
      " |-- sed_11467_1710: float (nullable = true)\n",
      " |-- R_v: float (nullable = true)\n",
      " |-- sed_6166_382_no_host_extinction: float (nullable = true)\n",
      " |-- sed_2407_591_disk: float (nullable = true)\n",
      " |-- mag_r_sdss: double (nullable = true)\n",
      " |-- sed_5467_339_no_host_extinction: float (nullable = true)\n",
      " |-- mag_true_g_sdss_no_host_extinction: float (nullable = true)\n",
      " |-- A_v: float (nullable = true)\n",
      " |-- sed_7385_458: float (nullable = true)\n",
      " |-- A_v_bulge: float (nullable = true)\n",
      " |-- sed_3812_236: float (nullable = true)\n",
      " |-- Mag_true_u_sdss_z0_no_host_extinction: float (nullable = true)\n",
      " |-- sed_1933_474_disk: float (nullable = true)\n",
      " |-- sersic_bulge: float (nullable = true)\n",
      " |-- Mag_true_g_sdss_z0: float (nullable = true)\n",
      " |-- mag_r_lsst_no_host_extinction: double (nullable = true)\n",
      " |-- mag_true_i_lsst_no_host_extinction: float (nullable = true)\n",
      " |-- mag_z_lsst_no_host_extinction: double (nullable = true)\n",
      " |-- sed_3812_236_bulge_no_host_extinction: float (nullable = true)\n",
      " |-- sed_1000_246_disk: float (nullable = true)\n",
      " |-- sed_5148_319_disk_no_host_extinction: float (nullable = true)\n",
      " |-- mag_true_g_sdss: float (nullable = true)\n",
      " |-- sed_4048_251_bulge_no_host_extinction: float (nullable = true)\n",
      "\n"
     ]
    }
   ],
   "source": [
    "df.printSchema()"
   ]
  },
  {
   "cell_type": "code",
   "execution_count": 68,
   "metadata": {
    "scrolled": false
   },
   "outputs": [
    {
     "name": "stdout",
     "output_type": "stream",
     "text": [
      "['sed_2998_186_disk', 'sed_17402_2596_disk', 'sed_15143_2259_bulge', 'Mag_true_y_lsst_z0', 'sed_8329_517_bulge', 'mag_i_lsst', 'sed_13177_1966_disk', 'mag_true_z_sdss', 'sed_2407_591_no_host_extinction', 'sed_1933_474_disk_no_host_extinction', 'sed_3590_222', 'sed_4048_251', 'sed_8329_517', 'mag_u_lsst_no_host_extinction', 'velocity_x', 'sed_1246_306_bulge', 'sed_17402_2596_no_host_extinction', 'sed_1552_381', 'Mag_true_u_lsst_z0_no_host_extinction', 'sed_6548_406_disk_no_host_extinction', 'mag_true_z_lsst_no_host_extinction', 'sed_6954_431_bulge', 'mag_g_sdss_no_host_extinction', 'sed_4048_251_bulge', 'sed_3381_209_disk', 'position_y', 'sed_1552_381_disk_no_host_extinction', 'Mag_true_g_lsst_z0', 'Mag_true_i_lsst_z0', 'Mag_true_u_sdss_z0', 'sed_3184_197_bulge', 'galaxy_id', 'shear_2', 'mag_y_lsst', 'sed_5806_360_bulge_no_host_extinction', 'Mag_true_r_lsst_z0', 'Mag_true_z_lsst_z0', 'sed_1000_246_bulge_no_host_extinction', 'sed_4048_251_no_host_extinction', 'sed_6166_382_disk', 'sed_2407_591_bulge_no_host_extinction', 'sed_3590_222_bulge_no_host_extinction', 'redshift', 'mag_true_u_lsst', 'size_disk_true', 'position_z', 'sed_3184_197_disk', 'mag_true_i', 'sed_1933_474_no_host_extinction', 'mag_u_lsst', 'size_minor_true', 'sed_5806_360_no_host_extinction', 'mag_g', 'sed_5148_319', 'mag_r', 'sed_5806_360_disk', 'sed_11467_1710_disk_no_host_extinction', 'sed_4048_251_disk', 'ellipticity_2_disk_true', 'mag_r_lsst', 'sed_8329_517_disk', 'sed_8846_549_disk_no_host_extinction', 'mag_true_y_lsst_no_host_extinction', 'sed_3812_236_bulge', 'sed_1552_381_bulge', 'sed_6548_406', 'size_minor_bulge_true', 'mag_true_r_sdss_no_host_extinction', 'shear_2_phosim', 'mag_true_r', 'sed_7385_458_disk', 'sed_3381_209_disk_no_host_extinction', 'mag_z_sdss_no_host_extinction', 'shear_2_treecorr', 'mag_true_g', 'sed_1246_306_disk', 'sed_7385_458_bulge', 'sed_5806_360_bulge', 'sed_4299_266', 'sed_2998_186_disk_no_host_extinction', 'sed_4848_300', 'sed_15143_2259_no_host_extinction', 'sed_4565_283', 'sed_4848_300_no_host_extinction', 'sed_1933_474_bulge', 'sed_6166_382_bulge_no_host_extinction', 'sed_9978_1489_disk', 'sed_6548_406_disk', 'mag_true_r_lsst_no_host_extinction', 'velocity_y', 'sed_3381_209', 'mag_true_r_lsst', 'Mag_true_z_sdss_z0', 'sed_4848_300_disk_no_host_extinction', 'R_v_disk', 'size_minor_disk_true', 'ellipticity_2_true', 'sed_5467_339_disk_no_host_extinction', 'mag_g_sdss', 'sed_3590_222_disk', 'sed_3381_209_no_host_extinction', 'sed_9395_583_disk_no_host_extinction', 'sed_5467_339', 'sed_1246_306_no_host_extinction', 'Mag_true_u_lsst_z0', 'sed_11467_1710_no_host_extinction', 'sed_9978_1489_no_host_extinction', 'stellar_mass_bulge', 'sed_6548_406_bulge', 'convergence', 'sed_1933_474_bulge_no_host_extinction', 'sed_4848_300_bulge_no_host_extinction', 'sed_15143_2259', 'sed_11467_1710_disk', 'sed_9395_583', 'sed_4848_300_bulge', 'magnification', 'mag_true_r_sdss', 'sed_1552_381_no_host_extinction', 'stellar_mass', 'Mag_true_i_lsst_z0_no_host_extinction', 'sed_5148_319_bulge_no_host_extinction', 'mag_true_y_lsst', 'sersic_disk', 'sed_4565_283_no_host_extinction', 'dec_true', 'sed_6166_382_bulge', 'ellipticity_2_bulge_true', 'Mag_true_g_sdss_z0_no_host_extinction', 'sed_17402_2596_bulge_no_host_extinction', 'mag_i_lsst_no_host_extinction', 'mag_true_z', 'sed_7843_486_disk_no_host_extinction', 'sed_2998_186_no_host_extinction', 'sed_3812_236_disk_no_host_extinction', 'sed_9395_583_disk', 'mag_y_lsst_no_host_extinction', 'sed_9395_583_bulge_no_host_extinction', 'halo_id', 'halo_mass', 'R_v_bulge', 'sed_9978_1489', 'A_v_disk', 'sed_9395_583_no_host_extinction', 'Mag_true_z_lsst_z0_no_host_extinction', 'sed_3590_222_no_host_extinction', 'ellipticity_1_true', 'Mag_true_z_sdss_z0_no_host_extinction', 'Mag_true_g_lsst_z0_no_host_extinction', 'sed_4299_266_disk', 'sed_5467_339_bulge', 'mag_i_sdss', 'sed_8329_517_no_host_extinction', 'dec', 'bulge_to_total_ratio_i', 'sed_4299_266_disk_no_host_extinction', 'sed_6954_431', 'mag_true_u', 'mag_true_u_sdss', 'sed_3184_197_no_host_extinction', 'position_angle_true', 'sed_4299_266_bulge', 'sed_1246_306_bulge_no_host_extinction', 'sed_13177_1966_bulge', 'sed_3184_197', 'sed_17402_2596_bulge', 'sed_4565_283_bulge_no_host_extinction', 'sed_6166_382_disk_no_host_extinction', 'ellipticity_bulge_true', 'mag_true_i_sdss', 'mag_true_g_lsst', 'sed_4848_300_disk', 'sed_6954_431_disk_no_host_extinction', 'mag_i_sdss_no_host_extinction', 'mag_z_lsst', 'sed_1246_306_disk_no_host_extinction', 'sed_3812_236_disk', 'sed_8329_517_disk_no_host_extinction', 'Mag_true_y_lsst_z0_no_host_extinction', 'sed_3381_209_bulge', 'sed_2407_591_bulge', 'sed_3184_197_disk_no_host_extinction', 'mag_true_u_sdss_no_host_extinction', 'sed_1552_381_bulge_no_host_extinction', 'sed_5467_339_disk', 'mag_i', 'sed_5148_319_no_host_extinction', 'size_bulge_true', 'sed_3184_197_bulge_no_host_extinction', 'sed_3812_236_no_host_extinction', 'sed_15143_2259_bulge_no_host_extinction', 'Mag_true_r_sdss_z0', 'sed_8846_549_bulge', 'sed_7843_486_no_host_extinction', 'ra_true', 'sed_5148_319_disk', 'sed_8846_549', 'mag_true_z_lsst', 'sed_6954_431_disk', 'sed_3381_209_bulge_no_host_extinction', 'Mag_true_i_sdss_z0', 'Mag_true_r_sdss_z0_no_host_extinction', 'sed_15143_2259_disk', 'ellipticity_disk_true', 'sed_6548_406_no_host_extinction', 'sed_13177_1966_no_host_extinction', 'sed_4565_283_disk_no_host_extinction', 'size_true', 'sed_1000_246_disk_no_host_extinction', 'sed_5148_319_bulge', 'sed_2998_186', 'ellipticity_true', 'sed_3590_222_disk_no_host_extinction', 'sed_1246_306', 'mag_true_i_sdss_no_host_extinction', 'ellipticity_1_bulge_true', 'stellar_mass_disk', 'sed_1000_246_no_host_extinction', 'sed_4565_283_bulge', 'mag_g_lsst', 'sed_7843_486_bulge_no_host_extinction', 'ra', 'is_central', 'sed_1552_381_disk', 'mag_true_i_lsst', 'mag_y', 'sed_2407_591', 'sed_4299_266_no_host_extinction', 'ellipticity_1_disk_true', 'sed_8329_517_bulge_no_host_extinction', 'mag_true_z_sdss_no_host_extinction', 'sed_5467_339_bulge_no_host_extinction', 'sed_9978_1489_disk_no_host_extinction', 'sed_11467_1710_bulge_no_host_extinction', 'redshift_true', 'sed_13177_1966_bulge_no_host_extinction', 'sed_4299_266_bulge_no_host_extinction', 'sed_7385_458_disk_no_host_extinction', 'sed_8846_549_disk', 'sed_15143_2259_disk_no_host_extinction', 'sed_9978_1489_bulge', 'sed_9395_583_bulge', 'sed_2998_186_bulge', 'sed_17402_2596_disk_no_host_extinction', 'sed_17402_2596', 'sed_3590_222_bulge', 'sed_8846_549_no_host_extinction', 'mag_u_sdss_no_host_extinction', 'sed_5806_360', 'sed_4565_283_disk', 'sed_7385_458_no_host_extinction', 'Mag_true_r_lsst_z0_no_host_extinction', 'velocity_z', 'sed_13177_1966_disk_no_host_extinction', 'sed_13177_1966', 'mag_true_g_lsst_no_host_extinction', 'shear_1', 'sed_2998_186_bulge_no_host_extinction', 'mag_true_u_lsst_no_host_extinction', 'mag_true_y', 'Mag_true_i_sdss_z0_no_host_extinction', 'position_x', 'sed_7385_458_bulge_no_host_extinction', 'mag_z', 'sed_6166_382', 'sed_7843_486', 'mag_u_sdss', 'sed_5806_360_disk_no_host_extinction', 'sed_7843_486_disk', 'mag_g_lsst_no_host_extinction', 'sed_2407_591_disk_no_host_extinction', 'sed_6954_431_no_host_extinction', 'sed_8846_549_bulge_no_host_extinction', 'sed_7843_486_bulge', 'sed_6548_406_bulge_no_host_extinction', 'mag_r_sdss_no_host_extinction', 'sed_1933_474', 'sed_1000_246_bulge', 'mag_u', 'sed_1000_246', 'sed_4048_251_disk_no_host_extinction', 'sed_6954_431_bulge_no_host_extinction', 'mag_z_sdss', 'sed_11467_1710_bulge', 'sed_9978_1489_bulge_no_host_extinction', 'sed_11467_1710', 'R_v', 'sed_6166_382_no_host_extinction', 'sed_2407_591_disk', 'mag_r_sdss', 'sed_5467_339_no_host_extinction', 'mag_true_g_sdss_no_host_extinction', 'A_v', 'sed_7385_458', 'A_v_bulge', 'sed_3812_236', 'Mag_true_u_sdss_z0_no_host_extinction', 'sed_1933_474_disk', 'sersic_bulge', 'Mag_true_g_sdss_z0', 'mag_r_lsst_no_host_extinction', 'mag_true_i_lsst_no_host_extinction', 'mag_z_lsst_no_host_extinction', 'sed_3812_236_bulge_no_host_extinction', 'sed_1000_246_disk', 'sed_5148_319_disk_no_host_extinction', 'mag_true_g_sdss', 'sed_4048_251_bulge_no_host_extinction']\n"
     ]
    }
   ],
   "source": [
    "list_of_columns=df.columns\n",
    "print(list_of_columns)"
   ]
  },
  {
   "cell_type": "markdown",
   "metadata": {},
   "source": [
    "# Extract wavelengths"
   ]
  },
  {
   "cell_type": "markdown",
   "metadata": {},
   "source": [
    "## Decode Wavelength bins"
   ]
  },
  {
   "cell_type": "code",
   "execution_count": 69,
   "metadata": {},
   "outputs": [],
   "source": [
    "all_sed_columns = [ ]             # contain all names of columns with sed\n",
    "all_sed_disk_columns = [ ]        # contain all names of columns with sed disk\n",
    "all_sed_bulge_columns = [ ]        # contain all names of columns with sed bulge\n",
    "\n",
    "all_sed_disk_no_host_extinction_columns = [ ]        # contain all names of columns with sed disk\n",
    "all_sed_bulge_no_host_extinction_columns = [ ]        # contain all names of columns with sed bulge\n",
    "\n",
    "all_disk = []                     # sed ending with disk\n",
    "all_bulge = []                    # sed ending with bulge \n",
    "all_disk_no_host_extinction  = [] # sed ending with disk_no_host_extinction\n",
    "all_bulge_no_host_extinction = [] # sed ending with disk_no_host_extinction\n",
    "\n",
    "index=0\n",
    "for x in list_of_columns:\n",
    "    if re.match(\"^sed_*\",x):\n",
    "        all_sed_columns.append(x)\n",
    "        \n",
    "        # all_sed_disk_columns\n",
    "        if re.match(\"^sed_.*_disk$\",x):\n",
    "            all_sed_disk_columns.append(x)  \n",
    "        # all_sed_disk_columns\n",
    "        if re.match(\"^sed_.*_bulge$\",x):\n",
    "            all_sed_bulge_columns.append(x)   \n",
    "            \n",
    "        # all_sed_disk_columns\n",
    "        if re.match(\"^sed_.*_disk_no_host_extinction$\",x):\n",
    "            all_sed_disk_no_host_extinction_columns.append(x)  \n",
    "        # all_sed_disk_columns\n",
    "        if re.match(\"^sed_.*_bulge_no_host_extinction$\",x):\n",
    "            all_sed_bulge_no_host_extinction_columns.append(x)  \n",
    "            \n",
    "            \n",
    "        # select only with _disk    \n",
    "        nblist=re.findall('sed_([^ ]+)_disk$',x)\n",
    "        if len(nblist)==1:\n",
    "            all_disk.append(nblist[0])\n",
    "        # select only with _bulge    \n",
    "        nblist=re.findall('sed_([^ ]+)_bulge$',x)\n",
    "        if len(nblist)==1:\n",
    "            all_bulge.append(nblist[0])  \n",
    "            \n",
    "        # select only with _disk_no_host_extinction    \n",
    "        nblist=re.findall('sed_([^ ]+)_disk_no_host_extinction$',x)\n",
    "        if len(nblist)==1:\n",
    "            all_disk_no_host_extinction.append(nblist[0])\n",
    "        \n",
    "        # select only with _bulge_no_host_extinction    \n",
    "        nblist=re.findall('sed_([^ ]+)_bulge_no_host_extinction$',x)\n",
    "        if len(nblist)==1:\n",
    "            all_bulge_no_host_extinction.append(nblist[0])\n",
    "                 \n",
    "        index+=1\n",
    "        \n"
   ]
  },
  {
   "cell_type": "code",
   "execution_count": 70,
   "metadata": {},
   "outputs": [],
   "source": [
    "all_disk.sort()\n",
    "all_bulge.sort()\n",
    "all_disk_no_host_extinction.sort()\n",
    "all_bulge_no_host_extinction.sort()"
   ]
  },
  {
   "cell_type": "code",
   "execution_count": 71,
   "metadata": {},
   "outputs": [],
   "source": [
    "all_sed_disk_columns.sort()\n",
    "all_sed_bulge_columns.sort()\n",
    "all_sed_disk_no_host_extinction_columns.sort()\n",
    "all_sed_bulge_no_host_extinction_columns.sort()"
   ]
  },
  {
   "cell_type": "code",
   "execution_count": 72,
   "metadata": {},
   "outputs": [
    {
     "name": "stdout",
     "output_type": "stream",
     "text": [
      "['sed_1000_246_disk', 'sed_11467_1710_disk', 'sed_1246_306_disk', 'sed_13177_1966_disk', 'sed_15143_2259_disk', 'sed_1552_381_disk', 'sed_17402_2596_disk', 'sed_1933_474_disk', 'sed_2407_591_disk', 'sed_2998_186_disk', 'sed_3184_197_disk', 'sed_3381_209_disk', 'sed_3590_222_disk', 'sed_3812_236_disk', 'sed_4048_251_disk', 'sed_4299_266_disk', 'sed_4565_283_disk', 'sed_4848_300_disk', 'sed_5148_319_disk', 'sed_5467_339_disk', 'sed_5806_360_disk', 'sed_6166_382_disk', 'sed_6548_406_disk', 'sed_6954_431_disk', 'sed_7385_458_disk', 'sed_7843_486_disk', 'sed_8329_517_disk', 'sed_8846_549_disk', 'sed_9395_583_disk', 'sed_9978_1489_disk']\n"
     ]
    }
   ],
   "source": [
    "print(all_sed_disk_columns)"
   ]
  },
  {
   "cell_type": "code",
   "execution_count": 73,
   "metadata": {},
   "outputs": [
    {
     "name": "stdout",
     "output_type": "stream",
     "text": [
      "['sed_1000_246_bulge', 'sed_11467_1710_bulge', 'sed_1246_306_bulge', 'sed_13177_1966_bulge', 'sed_15143_2259_bulge', 'sed_1552_381_bulge', 'sed_17402_2596_bulge', 'sed_1933_474_bulge', 'sed_2407_591_bulge', 'sed_2998_186_bulge', 'sed_3184_197_bulge', 'sed_3381_209_bulge', 'sed_3590_222_bulge', 'sed_3812_236_bulge', 'sed_4048_251_bulge', 'sed_4299_266_bulge', 'sed_4565_283_bulge', 'sed_4848_300_bulge', 'sed_5148_319_bulge', 'sed_5467_339_bulge', 'sed_5806_360_bulge', 'sed_6166_382_bulge', 'sed_6548_406_bulge', 'sed_6954_431_bulge', 'sed_7385_458_bulge', 'sed_7843_486_bulge', 'sed_8329_517_bulge', 'sed_8846_549_bulge', 'sed_9395_583_bulge', 'sed_9978_1489_bulge']\n"
     ]
    }
   ],
   "source": [
    "print(all_sed_bulge_columns)"
   ]
  },
  {
   "cell_type": "code",
   "execution_count": 74,
   "metadata": {},
   "outputs": [
    {
     "name": "stdout",
     "output_type": "stream",
     "text": [
      "['sed_1000_246_disk_no_host_extinction', 'sed_11467_1710_disk_no_host_extinction', 'sed_1246_306_disk_no_host_extinction', 'sed_13177_1966_disk_no_host_extinction', 'sed_15143_2259_disk_no_host_extinction', 'sed_1552_381_disk_no_host_extinction', 'sed_17402_2596_disk_no_host_extinction', 'sed_1933_474_disk_no_host_extinction', 'sed_2407_591_disk_no_host_extinction', 'sed_2998_186_disk_no_host_extinction', 'sed_3184_197_disk_no_host_extinction', 'sed_3381_209_disk_no_host_extinction', 'sed_3590_222_disk_no_host_extinction', 'sed_3812_236_disk_no_host_extinction', 'sed_4048_251_disk_no_host_extinction', 'sed_4299_266_disk_no_host_extinction', 'sed_4565_283_disk_no_host_extinction', 'sed_4848_300_disk_no_host_extinction', 'sed_5148_319_disk_no_host_extinction', 'sed_5467_339_disk_no_host_extinction', 'sed_5806_360_disk_no_host_extinction', 'sed_6166_382_disk_no_host_extinction', 'sed_6548_406_disk_no_host_extinction', 'sed_6954_431_disk_no_host_extinction', 'sed_7385_458_disk_no_host_extinction', 'sed_7843_486_disk_no_host_extinction', 'sed_8329_517_disk_no_host_extinction', 'sed_8846_549_disk_no_host_extinction', 'sed_9395_583_disk_no_host_extinction', 'sed_9978_1489_disk_no_host_extinction']\n"
     ]
    }
   ],
   "source": [
    "print(all_sed_disk_no_host_extinction_columns)"
   ]
  },
  {
   "cell_type": "code",
   "execution_count": 75,
   "metadata": {},
   "outputs": [
    {
     "name": "stdout",
     "output_type": "stream",
     "text": [
      "['sed_1000_246_bulge_no_host_extinction', 'sed_11467_1710_bulge_no_host_extinction', 'sed_1246_306_bulge_no_host_extinction', 'sed_13177_1966_bulge_no_host_extinction', 'sed_15143_2259_bulge_no_host_extinction', 'sed_1552_381_bulge_no_host_extinction', 'sed_17402_2596_bulge_no_host_extinction', 'sed_1933_474_bulge_no_host_extinction', 'sed_2407_591_bulge_no_host_extinction', 'sed_2998_186_bulge_no_host_extinction', 'sed_3184_197_bulge_no_host_extinction', 'sed_3381_209_bulge_no_host_extinction', 'sed_3590_222_bulge_no_host_extinction', 'sed_3812_236_bulge_no_host_extinction', 'sed_4048_251_bulge_no_host_extinction', 'sed_4299_266_bulge_no_host_extinction', 'sed_4565_283_bulge_no_host_extinction', 'sed_4848_300_bulge_no_host_extinction', 'sed_5148_319_bulge_no_host_extinction', 'sed_5467_339_bulge_no_host_extinction', 'sed_5806_360_bulge_no_host_extinction', 'sed_6166_382_bulge_no_host_extinction', 'sed_6548_406_bulge_no_host_extinction', 'sed_6954_431_bulge_no_host_extinction', 'sed_7385_458_bulge_no_host_extinction', 'sed_7843_486_bulge_no_host_extinction', 'sed_8329_517_bulge_no_host_extinction', 'sed_8846_549_bulge_no_host_extinction', 'sed_9395_583_bulge_no_host_extinction', 'sed_9978_1489_bulge_no_host_extinction']\n"
     ]
    }
   ],
   "source": [
    "print(all_sed_bulge_no_host_extinction_columns)"
   ]
  },
  {
   "cell_type": "code",
   "execution_count": 76,
   "metadata": {},
   "outputs": [
    {
     "name": "stdout",
     "output_type": "stream",
     "text": [
      "['1000_246', '11467_1710', '1246_306', '13177_1966', '15143_2259', '1552_381', '17402_2596', '1933_474', '2407_591', '2998_186', '3184_197', '3381_209', '3590_222', '3812_236', '4048_251', '4299_266', '4565_283', '4848_300', '5148_319', '5467_339', '5806_360', '6166_382', '6548_406', '6954_431', '7385_458', '7843_486', '8329_517', '8846_549', '9395_583', '9978_1489']\n"
     ]
    }
   ],
   "source": [
    "print(all_disk)"
   ]
  },
  {
   "cell_type": "code",
   "execution_count": 77,
   "metadata": {},
   "outputs": [
    {
     "name": "stdout",
     "output_type": "stream",
     "text": [
      "['1000_246', '11467_1710', '1246_306', '13177_1966', '15143_2259', '1552_381', '17402_2596', '1933_474', '2407_591', '2998_186', '3184_197', '3381_209', '3590_222', '3812_236', '4048_251', '4299_266', '4565_283', '4848_300', '5148_319', '5467_339', '5806_360', '6166_382', '6548_406', '6954_431', '7385_458', '7843_486', '8329_517', '8846_549', '9395_583', '9978_1489']\n"
     ]
    }
   ],
   "source": [
    "print(all_bulge)"
   ]
  },
  {
   "cell_type": "code",
   "execution_count": 78,
   "metadata": {},
   "outputs": [
    {
     "name": "stdout",
     "output_type": "stream",
     "text": [
      "['1000_246', '11467_1710', '1246_306', '13177_1966', '15143_2259', '1552_381', '17402_2596', '1933_474', '2407_591', '2998_186', '3184_197', '3381_209', '3590_222', '3812_236', '4048_251', '4299_266', '4565_283', '4848_300', '5148_319', '5467_339', '5806_360', '6166_382', '6548_406', '6954_431', '7385_458', '7843_486', '8329_517', '8846_549', '9395_583', '9978_1489']\n"
     ]
    }
   ],
   "source": [
    "print(all_disk_no_host_extinction)"
   ]
  },
  {
   "cell_type": "code",
   "execution_count": 79,
   "metadata": {},
   "outputs": [
    {
     "name": "stdout",
     "output_type": "stream",
     "text": [
      "['1000_246', '11467_1710', '1246_306', '13177_1966', '15143_2259', '1552_381', '17402_2596', '1933_474', '2407_591', '2998_186', '3184_197', '3381_209', '3590_222', '3812_236', '4048_251', '4299_266', '4565_283', '4848_300', '5148_319', '5467_339', '5806_360', '6166_382', '6548_406', '6954_431', '7385_458', '7843_486', '8329_517', '8846_549', '9395_583', '9978_1489']\n"
     ]
    }
   ],
   "source": [
    "print(all_bulge_no_host_extinction)"
   ]
  },
  {
   "cell_type": "code",
   "execution_count": 80,
   "metadata": {},
   "outputs": [],
   "source": [
    "def GetWavelength(wllist):\n",
    "    \"\"\"\n",
    "    Decode wavelength from the string in list wllist\n",
    "    \"\"\"\n",
    "    \n",
    "    all_wl_aver =  []\n",
    "    all_wl_width = []\n",
    "    \n",
    "    \n",
    "    for wlstr in wllist:\n",
    "        strarr= wlstr.split(\"_\")\n",
    "        \n",
    "        wl=float(strarr[0])\n",
    "        wdt=float(strarr[1])\n",
    "        \n",
    "        all_wl_aver.append(wl+wdt/2.)\n",
    "        all_wl_width.append(wdt)\n",
    "        \n",
    "    return np.array(all_wl_aver),np.array(all_wl_width) "
   ]
  },
  {
   "cell_type": "code",
   "execution_count": 161,
   "metadata": {},
   "outputs": [],
   "source": [
    "# Decode wavelength\n",
    "all_disk_wl_av , all_disk_wl_wdt = GetWavelength(all_disk)"
   ]
  },
  {
   "cell_type": "code",
   "execution_count": 162,
   "metadata": {},
   "outputs": [],
   "source": [
    "NWL=len(all_disk_wl_av)"
   ]
  },
  {
   "cell_type": "code",
   "execution_count": 163,
   "metadata": {},
   "outputs": [
    {
     "name": "stdout",
     "output_type": "stream",
     "text": [
      "[ 1123.  12322.   1399.  14160.  16272.5  1742.5 18700.   2170.   2702.5\n",
      "  3091.   3282.5  3485.5  3701.   3930.   4173.5  4432.   4706.5  4998.\n",
      "  5307.5  5636.5  5986.   6357.   6751.   7169.5  7614.   8086.   8587.5\n",
      "  9120.5  9686.5 10722.5]\n"
     ]
    }
   ],
   "source": [
    "print(all_disk_wl_av)"
   ]
  },
  {
   "cell_type": "code",
   "execution_count": 83,
   "metadata": {},
   "outputs": [],
   "source": [
    "wl_indexes=np.argsort(all_disk_wl_av)"
   ]
  },
  {
   "cell_type": "code",
   "execution_count": 84,
   "metadata": {},
   "outputs": [
    {
     "data": {
      "text/plain": [
       "array([ 0,  2,  5,  7,  8,  9, 10, 11, 12, 13, 14, 15, 16, 17, 18, 19, 20,\n",
       "       21, 22, 23, 24, 25, 26, 27, 28, 29,  1,  3,  4,  6])"
      ]
     },
     "execution_count": 84,
     "metadata": {},
     "output_type": "execute_result"
    }
   ],
   "source": [
    "wl_indexes"
   ]
  },
  {
   "cell_type": "code",
   "execution_count": 85,
   "metadata": {},
   "outputs": [
    {
     "data": {
      "text/plain": [
       "array([ 1123. ,  1399. ,  1742.5,  2170. ,  2702.5,  3091. ,  3282.5,\n",
       "        3485.5,  3701. ,  3930. ,  4173.5,  4432. ,  4706.5,  4998. ,\n",
       "        5307.5,  5636.5,  5986. ,  6357. ,  6751. ,  7169.5,  7614. ,\n",
       "        8086. ,  8587.5,  9120.5,  9686.5, 10722.5, 12322. , 14160. ,\n",
       "       16272.5, 18700. ])"
      ]
     },
     "execution_count": 85,
     "metadata": {},
     "output_type": "execute_result"
    }
   ],
   "source": [
    "all_disk_wl_av[wl_indexes]"
   ]
  },
  {
   "cell_type": "code",
   "execution_count": 164,
   "metadata": {},
   "outputs": [
    {
     "data": {
      "text/plain": [
       "array([ 246.,  306.,  381.,  474.,  591.,  186.,  197.,  209.,  222.,\n",
       "        236.,  251.,  266.,  283.,  300.,  319.,  339.,  360.,  382.,\n",
       "        406.,  431.,  458.,  486.,  517.,  549.,  583., 1489., 1710.,\n",
       "       1966., 2259., 2596.])"
      ]
     },
     "execution_count": 164,
     "metadata": {},
     "output_type": "execute_result"
    }
   ],
   "source": [
    "all_disk_wl_wdt[wl_indexes]"
   ]
  },
  {
   "cell_type": "markdown",
   "metadata": {},
   "source": [
    "# Good columns selection"
   ]
  },
  {
   "cell_type": "code",
   "execution_count": 87,
   "metadata": {},
   "outputs": [],
   "source": [
    "selected_cols_disk = [\"galaxy_id\",\"halo_id\",\"position_x\",\"position_y\",\"position_z\",\"redshift\",\"ra\",\"dec\"] + all_sed_disk_columns"
   ]
  },
  {
   "cell_type": "code",
   "execution_count": 88,
   "metadata": {},
   "outputs": [],
   "source": [
    "selected_cols_bulge = [\"galaxy_id\",\"halo_id\",\"position_x\",\"position_y\",\"position_z\",\"redshift\",\"ra\",\"dec\"] + all_sed_bulge_columns"
   ]
  },
  {
   "cell_type": "code",
   "execution_count": 89,
   "metadata": {},
   "outputs": [],
   "source": [
    "selected_cols_disk_no_host_extinction = [\"galaxy_id\",\"halo_id\",\"position_x\",\"position_y\",\"position_z\",\"redshift\",\"ra\",\"dec\"] + all_sed_disk_no_host_extinction_columns"
   ]
  },
  {
   "cell_type": "code",
   "execution_count": 90,
   "metadata": {},
   "outputs": [],
   "source": [
    "selected_cols_bulge_no_host_extinction = [\"galaxy_id\",\"halo_id\",\"position_x\",\"position_y\",\"position_z\",\"redshift\",\"ra\",\"dec\"] + all_sed_bulge_no_host_extinction_columns"
   ]
  },
  {
   "cell_type": "markdown",
   "metadata": {},
   "source": [
    "# Select relevant dataframe"
   ]
  },
  {
   "cell_type": "code",
   "execution_count": 91,
   "metadata": {},
   "outputs": [],
   "source": [
    "rs1=df.select(selected_cols_disk)\n",
    "rs2=df.select(selected_cols_bulge)\n",
    "rs3=df.select(selected_cols_disk_no_host_extinction)\n",
    "rs4=df.select(selected_cols_bulge_no_host_extinction)"
   ]
  },
  {
   "cell_type": "markdown",
   "metadata": {},
   "source": [
    "# Search a far Galaxy"
   ]
  },
  {
   "cell_type": "code",
   "execution_count": 188,
   "metadata": {},
   "outputs": [],
   "source": [
    "from pyspark.sql.functions import row_number,lit\n",
    "from pyspark.sql.window import Window\n"
   ]
  },
  {
   "cell_type": "code",
   "execution_count": 189,
   "metadata": {},
   "outputs": [],
   "source": [
    "w = Window().orderBy(lit('galaxy_id'))\n",
    "rs0 = rs1.withColumn(\"row_num\", row_number().over(w))"
   ]
  },
  {
   "cell_type": "code",
   "execution_count": null,
   "metadata": {},
   "outputs": [],
   "source": [
    "rs0.filter( (rs0.redshift  > 2.5) & (rs0.redshift  < 2.501) ).show(3) "
   ]
  },
  {
   "cell_type": "markdown",
   "metadata": {},
   "source": [
    "# study galaxy one by one"
   ]
  },
  {
   "cell_type": "code",
   "execution_count": 132,
   "metadata": {},
   "outputs": [],
   "source": [
    "index_gal=2"
   ]
  },
  {
   "cell_type": "code",
   "execution_count": 134,
   "metadata": {},
   "outputs": [],
   "source": [
    "result1=rs1.take(index_gal)\n",
    "result2=rs2.take(index_gal)\n",
    "result3=rs3.take(index_gal)\n",
    "result4=rs4.take(index_gal)"
   ]
  },
  {
   "cell_type": "code",
   "execution_count": 135,
   "metadata": {},
   "outputs": [],
   "source": [
    "row1=result1[0]\n",
    "row2=result2[0]\n",
    "row3=result3[0]\n",
    "row4=result4[0]"
   ]
  },
  {
   "cell_type": "code",
   "execution_count": 125,
   "metadata": {},
   "outputs": [
    {
     "data": {
      "text/plain": [
       "pyspark.sql.types.Row"
      ]
     },
     "execution_count": 125,
     "metadata": {},
     "output_type": "execute_result"
    }
   ],
   "source": [
    "type(row1)"
   ]
  },
  {
   "cell_type": "code",
   "execution_count": 143,
   "metadata": {},
   "outputs": [
    {
     "data": {
      "text/plain": [
       "dict_values([9437500000, 151487, 45.5167958434199, 52.941690364354095, -59.20144739285322, 0.021649390521782053, 49.31259353683868, -40.2957920342933, 485282.40625, 263845472.0, 646467.125, 277871616.0, 332093888.0, 717729.125, 304581344.0, 799648.3125, 2093940.625, 5743269.5, 7899139.0, 9940858.0, 13589259.0, 18072524.0, 29213898.0, 39132880.0, 52965268.0, 58206112.0, 67425120.0, 82118640.0, 95249032.0, 105200000.0, 118230952.0, 130691552.0, 153205600.0, 171108800.0, 185615056.0, 208267216.0, 223102832.0, 241653104.0])"
      ]
     },
     "execution_count": 143,
     "metadata": {},
     "output_type": "execute_result"
    }
   ],
   "source": [
    "row1.asDict().values()"
   ]
  },
  {
   "cell_type": "code",
   "execution_count": 144,
   "metadata": {},
   "outputs": [],
   "source": [
    "gal_id=row1[\"galaxy_id\"]"
   ]
  },
  {
   "cell_type": "code",
   "execution_count": 145,
   "metadata": {},
   "outputs": [],
   "source": [
    "gal_z=row1[\"redshift\"]"
   ]
  },
  {
   "cell_type": "code",
   "execution_count": 153,
   "metadata": {},
   "outputs": [],
   "source": [
    "def GetSEDArr(row,keylist):\n",
    "    \n",
    "    #print(row)\n",
    "    thesedarr=np.zeros(NWL)\n",
    "\n",
    "    idx=0\n",
    "    for mykey in keylist:\n",
    "        #print(mykey,\" \",row[mykey])\n",
    "        thesedarr[idx]=row[mykey]\n",
    "        idx+=1  \n",
    "        \n",
    "    return thesedarr"
   ]
  },
  {
   "cell_type": "code",
   "execution_count": 158,
   "metadata": {},
   "outputs": [],
   "source": [
    "sed_disk=GetSEDArr(row1,all_sed_disk_columns)\n",
    "sed_bulge=GetSEDArr(row2,all_sed_bulge_columns)\n",
    "sed_disk_no_host_extinction=GetSEDArr(row3,all_sed_disk_no_host_extinction_columns)\n",
    "sed_bulge_no_host_extinction=GetSEDArr(row4,all_sed_bulge_no_host_extinction_columns)"
   ]
  },
  {
   "cell_type": "code",
   "execution_count": 165,
   "metadata": {},
   "outputs": [],
   "source": [
    "X=all_disk_wl_av[wl_indexes]\n",
    "Y1=sed_disk[wl_indexes]/all_disl_wl_wdt[wl_indexes]    # renormilize to bin size\n",
    "Y2=sed_bulge[wl_indexes]/all_disl_wl_wdt[wl_indexes]    # renormilize to bin size\n",
    "Y3=sed_disk_no_host_extinction[wl_indexes]/all_disl_wl_wdt[wl_indexes]    # renormilize to bin size\n",
    "Y4=sed_bulge_no_host_extinction[wl_indexes]/all_disl_wl_wdt[wl_indexes]    # renormilize to bin size"
   ]
  },
  {
   "cell_type": "markdown",
   "metadata": {},
   "source": [
    "# Plot SED"
   ]
  },
  {
   "cell_type": "code",
   "execution_count": 174,
   "metadata": {},
   "outputs": [],
   "source": [
    "%matplotlib inline\n",
    "import matplotlib.pyplot as plt\n",
    "plt.rcParams[\"figure.figsize\"] = (10,6)"
   ]
  },
  {
   "cell_type": "code",
   "execution_count": 178,
   "metadata": {},
   "outputs": [
    {
     "data": {
      "text/plain": [
       "<matplotlib.legend.Legend at 0x7f207ec14128>"
      ]
     },
     "execution_count": 178,
     "metadata": {},
     "output_type": "execute_result"
    },
    {
     "data": {
      "image/png": "[encoded data removed]",
      "text/plain": [
       "<Figure size 720x432 with 1 Axes>"
      ]
     },
     "metadata": {},
     "output_type": "display_data"
    }
   ],
   "source": [
    "plt.plot(X/10,Y1,'bo-',label=\"disk\")\n",
    "plt.plot(X/10,Y2,'ro-',label=\"bulge\")\n",
    "\n",
    "plt.plot(X/10,Y3,'go-',label=\"disk : no_host_extinction\")\n",
    "plt.plot(X/10,Y4,'mo-',label=\"bulge : no_host_extinction\")\n",
    "\n",
    "title = \"SED galaxy id = {}, z= {:2.5f}\".format(gal_id,gal_z)\n",
    "plt.xlabel(\"$\\lambda$ (nm)\")\n",
    "plt.title(title)\n",
    "plt.legend()"
   ]
  },
  {
   "cell_type": "code",
   "execution_count": null,
   "metadata": {},
   "outputs": [],
   "source": []
  }
 ],
 "metadata": {
  "kernelspec": {
   "display_name": "Python 3",
   "language": "python",
   "name": "python3"
  },
  "language_info": {
   "codemirror_mode": {
    "name": "ipython",
    "version": 3
   },
   "file_extension": ".py",
   "mimetype": "text/x-python",
   "name": "python",
   "nbconvert_exporter": "python",
   "pygments_lexer": "ipython3",
   "version": "3.6.5"
  }
 },
 "nbformat": 4,
 "nbformat_minor": 2
}
