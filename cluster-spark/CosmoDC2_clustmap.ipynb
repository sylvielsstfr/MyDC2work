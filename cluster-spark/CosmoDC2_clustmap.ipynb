{
 "cells": [
  {
   "cell_type": "markdown",
   "metadata": {},
   "source": [
    "# Recherche des catalogues"
   ]
  },
  {
   "cell_type": "code",
   "execution_count": 1,
   "metadata": {},
   "outputs": [],
   "source": [
    "%matplotlib inline\n",
    "\n",
    "import os\n",
    "\n",
    "import numpy as np\n",
    "import matplotlib.pyplot as plt\n",
    "import pandas as pd"
   ]
  },
  {
   "cell_type": "code",
   "execution_count": 2,
   "metadata": {},
   "outputs": [],
   "source": [
    "import pyarrow"
   ]
  },
  {
   "cell_type": "code",
   "execution_count": 3,
   "metadata": {},
   "outputs": [
    {
     "name": "stdout",
     "output_type": "stream",
     "text": [
      "<SparkContext master=mesos://vm-75063.lal.in2p3.fr:5050 appName=PySparkShell>\n",
      "2.4.4\n"
     ]
    }
   ],
   "source": [
    "# Verify SparkContext\n",
    "print(sc)\n",
    "\n",
    "# Print Spark version\n",
    "print(sc.version)"
   ]
  },
  {
   "cell_type": "code",
   "execution_count": 4,
   "metadata": {},
   "outputs": [],
   "source": [
    "from pyspark.sql.functions import col, pandas_udf \n",
    "from pyspark.sql.types import LongType\n",
    "\n",
    "from pyspark.sql.types import IntegerType,FloatType\n",
    "from pyspark.sql.functions import pandas_udf, PandasUDFType\n",
    "\n",
    "from pyspark.sql import functions as F\n",
    "from pyspark.sql.functions import randn"
   ]
  },
  {
   "cell_type": "code",
   "execution_count": 5,
   "metadata": {},
   "outputs": [],
   "source": [
    "# here is how we create a function ('Ang2Pix') that can be called by dataframes\n",
    "# it takes as input the \"ra\" and \"dec\" values (which are not very different from theta/phi)\n",
    "# and returns the pixel number (but as pandas series for efficiency)\n",
    "import numpy as np\n",
    "import pandas as pd\n",
    "import healpy as hp\n",
    "\n",
    "nside=512"
   ]
  },
  {
   "cell_type": "code",
   "execution_count": 6,
   "metadata": {},
   "outputs": [
    {
     "name": "stdout",
     "output_type": "stream",
     "text": [
      "DEPRECATED: Use of this script to execute hdfs command is deprecated.\n",
      "Instead use the hdfs command for it.\n",
      "\n",
      "Found 5 items\n",
      "drwxr-xr-x   - stephane.plaszczynski lsst          0 2019-09-03 20:04 /lsst/DC2/cosmoDC2/cosmoDC2_v1.1.4_image.parquet\n",
      "drwxr-xr-x   - stephane.plaszczynski lsst          0 2019-10-16 10:52 /lsst/DC2/cosmoDC2/cosmoDC2_v1.1.4_image_double.parquet\n",
      "drwxr-xr-x   - stephane.plaszczynski lsst          0 2020-04-23 17:28 /lsst/DC2/cosmoDC2/cosmoDC2_v1.1.4_image_nofaint.parquet\n",
      "drwxr-xr-x   - stephane.plaszczynski lsst          0 2020-09-07 19:17 /lsst/DC2/cosmoDC2/shear_cosmoDC2\n",
      "drwxr-xr-x   - stephane.plaszczynski lsst          0 2019-04-16 18:40 /lsst/DC2/cosmoDC2/xyz_v1.1.4_hive\n"
     ]
    }
   ],
   "source": [
    "! hadoop dfs -ls /lsst/DC2/cosmoDC2"
   ]
  },
  {
   "cell_type": "code",
   "execution_count": 7,
   "metadata": {},
   "outputs": [
    {
     "name": "stdout",
     "output_type": "stream",
     "text": [
      "DEPRECATED: Use of this script to execute hdfs command is deprecated.\n",
      "Instead use the hdfs command for it.\n",
      "\n",
      "-rw-r--r--   3 stephane.plaszczynski lsst  240603132 2020-09-07 19:14 /lsst/DC2/cosmoDC2/shear_cosmoDC2/10066\n"
     ]
    }
   ],
   "source": [
    "! hadoop dfs -ls /lsst/DC2/cosmoDC2/shear_cosmoDC2/10066/"
   ]
  },
  {
   "cell_type": "code",
   "execution_count": 8,
   "metadata": {},
   "outputs": [],
   "source": [
    "base_dir=\"/lsst/DC2/cosmoDC2/shear_cosmoDC2\""
   ]
  },
  {
   "cell_type": "code",
   "execution_count": 9,
   "metadata": {},
   "outputs": [],
   "source": [
    "fullfilename=\"/lsst/DC2/cosmoDC2/cosmoDC2_v1.1.4_image.parquet\"\n",
    "datafile=fullfilename\n",
    "FLAG_ONE_FILE_INPUT=True"
   ]
  },
  {
   "cell_type": "code",
   "execution_count": 10,
   "metadata": {},
   "outputs": [],
   "source": [
    "#from subprocess import Popen, PIPE\n",
    "#hdfs_path = base_dir\n",
    "#process = Popen(f'hdfs dfs -ls -h {hdfs_path}', shell=True, stdout=PIPE, stderr=PIPE)\n",
    "#std_out, std_err = process.communicate()\n",
    "#list_of_file_names = [fn.split(' ')[-1].split('/')[-1] for fn in std_out.decode().readlines()[1:]][:-1]\n",
    "#list_of_file_names_with_full_address = [fn.split(' ')[-1] for fn in std_out.decode().readlines()[1:]][:-1]"
   ]
  },
  {
   "cell_type": "code",
   "execution_count": 11,
   "metadata": {},
   "outputs": [],
   "source": [
    "#for fn in std_out.readlines():\n",
    "#    print(fn)"
   ]
  },
  {
   "cell_type": "code",
   "execution_count": 12,
   "metadata": {},
   "outputs": [],
   "source": [
    "from pyspark.sql import SparkSession\n",
    "\n",
    "# Initialise our Spark session\n",
    "spark = SparkSession.builder.getOrCreate()"
   ]
  },
  {
   "cell_type": "code",
   "execution_count": 13,
   "metadata": {},
   "outputs": [],
   "source": [
    "# Read the data as DataFrame\n",
    "if FLAG_ONE_FILE_INPUT:\n",
    "    df = spark.read.format(\"parquet\").load(datafile)\n",
    "else: # read all files\n",
    "    #the_list_of_files=os.listdir(base_dir)\n",
    "    #the_sorted_list_of_files=sorted(the_list_of_files)\n",
    "    #print(\"sorted files : \",the_sorted_list_of_files[:5])\n",
    "    #selected_files=[]\n",
    "    #for filename in the_sorted_list_of_files:\n",
    "    #    sel_filename=re.findall(\"^dc2_object_run2.2i_dr6c_tract[0-9][0-9][0-9][0-9].parquet$\",filename)\n",
    "    #    if len(sel_filename) > 0:\n",
    "    #        selected_files.append(sel_filename[0])\n",
    "    #print(\"selected files : \", selected_files[:5])\n",
    "    #InputPath = [base_dir + \"/{}\".format(filename) for filename in selected_files]\n",
    "    InputPath = all_files  # filename from the decoded index file\n",
    "    df = spark.read.parquet(*InputPath)        "
   ]
  },
  {
   "cell_type": "code",
   "execution_count": 14,
   "metadata": {},
   "outputs": [
    {
     "name": "stdout",
     "output_type": "stream",
     "text": [
      "root\n",
      " |-- Mag_true_g_lsst_z0: float (nullable = true)\n",
      " |-- Mag_true_z_lsst_z0: float (nullable = true)\n",
      " |-- ra: float (nullable = true)\n",
      " |-- mag_y: float (nullable = true)\n",
      " |-- mag_z: float (nullable = true)\n",
      " |-- size_true: float (nullable = true)\n",
      " |-- halo_id: long (nullable = true)\n",
      " |-- position_x: float (nullable = true)\n",
      " |-- mag_g: float (nullable = true)\n",
      " |-- Mag_true_u_lsst_z0: float (nullable = true)\n",
      " |-- mag_true_r: float (nullable = true)\n",
      " |-- position_angle_true: float (nullable = true)\n",
      " |-- mag_true_g: float (nullable = true)\n",
      " |-- stellar_mass: float (nullable = true)\n",
      " |-- Mag_true_y_lsst_z0: float (nullable = true)\n",
      " |-- position_y: float (nullable = true)\n",
      " |-- mag_true_i: float (nullable = true)\n",
      " |-- redshift: float (nullable = true)\n",
      " |-- Mag_true_i_lsst_z0: float (nullable = true)\n",
      " |-- mag_r: float (nullable = true)\n",
      " |-- mag_true_y: float (nullable = true)\n",
      " |-- dec: float (nullable = true)\n",
      " |-- mag_true_u: float (nullable = true)\n",
      " |-- Mag_true_r_lsst_z0: float (nullable = true)\n",
      " |-- mag_i: float (nullable = true)\n",
      " |-- position_z: float (nullable = true)\n",
      " |-- mag_u: float (nullable = true)\n",
      " |-- mag_true_z: float (nullable = true)\n",
      " |-- is_central: boolean (nullable = true)\n",
      "\n"
     ]
    }
   ],
   "source": [
    "df.printSchema()"
   ]
  },
  {
   "cell_type": "code",
   "execution_count": 15,
   "metadata": {},
   "outputs": [],
   "source": [
    "rs=df.select(\"redshift\")"
   ]
  },
  {
   "cell_type": "code",
   "execution_count": 16,
   "metadata": {},
   "outputs": [
    {
     "name": "stdout",
     "output_type": "stream",
     "text": [
      "+------------+\n",
      "|    redshift|\n",
      "+------------+\n",
      "|  0.02164939|\n",
      "|  0.02191215|\n",
      "| 0.021491187|\n",
      "| 0.021335145|\n",
      "| 0.006085375|\n",
      "|0.0062329015|\n",
      "| 0.022323765|\n",
      "| 0.013605996|\n",
      "| 0.020426989|\n",
      "| 0.011232678|\n",
      "| 0.007916852|\n",
      "| 0.018281268|\n",
      "| 0.015733609|\n",
      "| 0.021410722|\n",
      "| 0.021449156|\n",
      "|  0.02179927|\n",
      "| 0.020016473|\n",
      "| 0.017602554|\n",
      "| 0.019653492|\n",
      "| 0.021616712|\n",
      "+------------+\n",
      "only showing top 20 rows\n",
      "\n"
     ]
    }
   ],
   "source": [
    "rs.show()"
   ]
  },
  {
   "cell_type": "code",
   "execution_count": 17,
   "metadata": {},
   "outputs": [
    {
     "data": {
      "text/plain": [
       "2256249331"
      ]
     },
     "execution_count": 17,
     "metadata": {},
     "output_type": "execute_result"
    }
   ],
   "source": [
    "df.count()"
   ]
  },
  {
   "cell_type": "code",
   "execution_count": 18,
   "metadata": {},
   "outputs": [
    {
     "name": "stdout",
     "output_type": "stream",
     "text": [
      "+-------+------------------+\n",
      "|summary|          redshift|\n",
      "+-------+------------------+\n",
      "|  count|        2256249331|\n",
      "|   mean| 1.871054622648074|\n",
      "| stddev|0.7098291050264711|\n",
      "|    min|       4.017382E-4|\n",
      "|    max|         3.1891842|\n",
      "+-------+------------------+\n",
      "\n"
     ]
    }
   ],
   "source": [
    "rs.describe().show()"
   ]
  },
  {
   "cell_type": "code",
   "execution_count": 19,
   "metadata": {},
   "outputs": [
    {
     "data": {
      "text/plain": [
       "[Row(min(redshift)=0.00040173818706534803, max(redshift)=3.1891841888427734)]"
      ]
     },
     "execution_count": 19,
     "metadata": {},
     "output_type": "execute_result"
    }
   ],
   "source": [
    "#compute only min and max of \"z\" (see F.min and select in DOC)\n",
    "q=rs[\"redshift\"]\n",
    "rs.agg(F.min(q),F.max(q)).collect()\n"
   ]
  },
  {
   "cell_type": "code",
   "execution_count": 21,
   "metadata": {},
   "outputs": [],
   "source": [
    "minmax = rs.agg(F.min(\"redshift\"), F.max(\"redshift\")).head()"
   ]
  },
  {
   "cell_type": "code",
   "execution_count": 22,
   "metadata": {},
   "outputs": [
    {
     "data": {
      "text/plain": [
       "Row(min(redshift)=0.00040173818706534803, max(redshift)=3.1891841888427734)"
      ]
     },
     "execution_count": 22,
     "metadata": {},
     "output_type": "execute_result"
    }
   ],
   "source": [
    "minmax"
   ]
  },
  {
   "cell_type": "markdown",
   "metadata": {},
   "source": [
    "# Histogram"
   ]
  },
  {
   "cell_type": "code",
   "execution_count": 23,
   "metadata": {},
   "outputs": [
    {
     "name": "stdout",
     "output_type": "stream",
     "text": [
      "0.00040173818706534803 3.1891841888427734 0.03188782450655708\n"
     ]
    }
   ],
   "source": [
    "#histogram caracteristics\n",
    "#get the minmax values in an array: you already saw how to get the output in a dataframe.\n",
    "# then you can put these values in memory with the \"first()\" function\n",
    "minmax=rs.agg(F.min(\"redshift\"), F.max(\"redshift\")).head()\n",
    "zmin=minmax[0]\n",
    "zmax=minmax[1]\n",
    "Nbins=100\n",
    "dz=(zmax-zmin)/Nbins\n",
    "print(zmin,zmax,dz)"
   ]
  },
  {
   "cell_type": "code",
   "execution_count": 24,
   "metadata": {},
   "outputs": [],
   "source": [
    "bin=rs[\"redshift\"]-zmin"
   ]
  },
  {
   "cell_type": "code",
   "execution_count": 26,
   "metadata": {},
   "outputs": [
    {
     "name": "stdout",
     "output_type": "stream",
     "text": [
      "+------------+---+\n",
      "|    redshift|bin|\n",
      "+------------+---+\n",
      "|  0.02164939|  0|\n",
      "|  0.02191215|  0|\n",
      "| 0.021491187|  0|\n",
      "| 0.021335145|  0|\n",
      "| 0.006085375|  0|\n",
      "|0.0062329015|  0|\n",
      "| 0.022323765|  0|\n",
      "| 0.013605996|  0|\n",
      "| 0.020426989|  0|\n",
      "| 0.011232678|  0|\n",
      "| 0.007916852|  0|\n",
      "| 0.018281268|  0|\n",
      "| 0.015733609|  0|\n",
      "| 0.021410722|  0|\n",
      "| 0.021449156|  0|\n",
      "|  0.02179927|  0|\n",
      "| 0.020016473|  0|\n",
      "| 0.017602554|  0|\n",
      "| 0.019653492|  0|\n",
      "| 0.021616712|  0|\n",
      "+------------+---+\n",
      "only showing top 20 rows\n",
      "\n"
     ]
    }
   ],
   "source": [
    "rs=rs.withColumn(\"bin\", ((rs[\"redshift\"]-zmin)/dz).astype('int'))\n",
    "rs.show(20)\n"
   ]
  },
  {
   "cell_type": "code",
   "execution_count": 27,
   "metadata": {},
   "outputs": [
    {
     "name": "stdout",
     "output_type": "stream",
     "text": [
      "+-------+------------------+-----------------+\n",
      "|summary|          redshift|              bin|\n",
      "+-------+------------------+-----------------+\n",
      "|  count|        2256249331|       2256249331|\n",
      "|   mean|1.8710546226480747|58.16348301224161|\n",
      "| stddev|0.7098291050264711|22.26201909111259|\n",
      "|    min|       4.017382E-4|                0|\n",
      "|    max|         3.1891842|              100|\n",
      "+-------+------------------+-----------------+\n",
      "\n"
     ]
    }
   ],
   "source": [
    "rs.describe(['redshift','bin']).show()"
   ]
  },
  {
   "cell_type": "code",
   "execution_count": 28,
   "metadata": {},
   "outputs": [
    {
     "name": "stdout",
     "output_type": "stream",
     "text": [
      "+---+--------+\n",
      "|bin|   count|\n",
      "+---+--------+\n",
      "| 31|22242720|\n",
      "| 85|31862453|\n",
      "| 65|32544087|\n",
      "| 53|31083589|\n",
      "| 78|32375377|\n",
      "| 34|24111062|\n",
      "| 81|32098317|\n",
      "| 28|20255635|\n",
      "| 76|32400298|\n",
      "| 26|18797921|\n",
      "+---+--------+\n",
      "only showing top 10 rows\n",
      "\n"
     ]
    }
   ],
   "source": [
    "# create the h dataframe using groupBy and count\n",
    "h=rs.groupBy(\"bin\").count()\n",
    "# look at some values\n",
    "h.show(10)"
   ]
  },
  {
   "cell_type": "code",
   "execution_count": 29,
   "metadata": {},
   "outputs": [
    {
     "name": "stdout",
     "output_type": "stream",
     "text": [
      "+---+-------+\n",
      "|bin|  count|\n",
      "+---+-------+\n",
      "|  0|  19825|\n",
      "|  1| 147618|\n",
      "|  2| 360349|\n",
      "|  3| 686392|\n",
      "|  4|1047065|\n",
      "+---+-------+\n",
      "only showing top 5 rows\n",
      "\n"
     ]
    }
   ],
   "source": [
    "#sort h (see sort or orderBy in DOC)\n",
    "h=h.sort(\"bin\")\n",
    "#always check some values\n",
    "h.show(5)"
   ]
  },
  {
   "cell_type": "code",
   "execution_count": 30,
   "metadata": {},
   "outputs": [
    {
     "name": "stdout",
     "output_type": "stream",
     "text": [
      "+---+-------+-------------------+\n",
      "|bin|  count|                loc|\n",
      "+---+-------+-------------------+\n",
      "|  0|  19825|0.01634565044034389|\n",
      "|  1| 147618|0.04823347494690097|\n",
      "|  2| 360349|0.08012129945345806|\n",
      "|  3| 686392|0.11200912396001514|\n",
      "|  4|1047065|0.14389694846657222|\n",
      "+---+-------+-------------------+\n",
      "only showing top 5 rows\n",
      "\n"
     ]
    }
   ],
   "source": [
    "# add to h a column (named \"loc\") giving the center of the bin\n",
    "h=h.withColumn(\"loc\", zmin+dz*h[\"bin\"]+dz/2)\n",
    "h.show(5)"
   ]
  },
  {
   "cell_type": "code",
   "execution_count": 31,
   "metadata": {},
   "outputs": [
    {
     "name": "stdout",
     "output_type": "stream",
     "text": [
      "Index(['bin', 'count', 'loc'], dtype='object') size=101\n"
     ]
    }
   ],
   "source": [
    "# convert h to a pandas object (see toPandas in DOC)\n",
    "# you may drop the \"bin\" column first (see drop in DOC)\n",
    "p=h.toPandas()\n",
    "print(p.columns,\"size={}\".format(p.index.size))"
   ]
  },
  {
   "cell_type": "code",
   "execution_count": 32,
   "metadata": {},
   "outputs": [
    {
     "data": {
      "image/png": "[encoded data removed]",
      "text/plain": [
       "<Figure size 432x288 with 1 Axes>"
      ]
     },
     "metadata": {},
     "output_type": "display_data"
    }
   ],
   "source": [
    "%matplotlib inline\n",
    "import matplotlib.pyplot as plt\n",
    "plt.bar(p['loc'].values,p['count'].values,dz,color='white',edgecolor='black')\n",
    "plt.xlabel(\"redshift\");"
   ]
  },
  {
   "cell_type": "code",
   "execution_count": null,
   "metadata": {},
   "outputs": [],
   "source": []
  }
 ],
 "metadata": {
  "kernelspec": {
   "display_name": "Python 3",
   "language": "python",
   "name": "python3"
  },
  "language_info": {
   "codemirror_mode": {
    "name": "ipython",
    "version": 3
   },
   "file_extension": ".py",
   "mimetype": "text/x-python",
   "name": "python",
   "nbconvert_exporter": "python",
   "pygments_lexer": "ipython3",
   "version": "3.6.5"
  }
 },
 "nbformat": 4,
 "nbformat_minor": 2
}
