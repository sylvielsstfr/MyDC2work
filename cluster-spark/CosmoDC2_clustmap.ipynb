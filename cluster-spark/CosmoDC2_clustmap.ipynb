{
 "cells": [
  {
   "cell_type": "markdown",
   "metadata": {},
   "source": [
    "# Cluster map"
   ]
  },
  {
   "cell_type": "code",
   "execution_count": 1,
   "metadata": {},
   "outputs": [],
   "source": [
    "%matplotlib inline\n",
    "\n",
    "import os\n",
    "\n",
    "import numpy as np\n",
    "import matplotlib.pyplot as plt\n",
    "import pandas as pd"
   ]
  },
  {
   "cell_type": "code",
   "execution_count": 2,
   "metadata": {},
   "outputs": [],
   "source": [
    "import pyarrow"
   ]
  },
  {
   "cell_type": "code",
   "execution_count": 3,
   "metadata": {},
   "outputs": [
    {
     "name": "stdout",
     "output_type": "stream",
     "text": [
      "<SparkContext master=mesos://vm-75063.lal.in2p3.fr:5050 appName=PySparkShell>\n",
      "2.4.4\n"
     ]
    }
   ],
   "source": [
    "# Verify SparkContext\n",
    "print(sc)\n",
    "\n",
    "# Print Spark version\n",
    "print(sc.version)"
   ]
  },
  {
   "cell_type": "code",
   "execution_count": 4,
   "metadata": {},
   "outputs": [],
   "source": [
    "from pyspark.sql.functions import col, pandas_udf \n",
    "from pyspark.sql.types import LongType\n",
    "\n",
    "from pyspark.sql.types import IntegerType,FloatType\n",
    "from pyspark.sql.functions import pandas_udf, PandasUDFType\n",
    "\n",
    "from pyspark.sql import functions as F\n",
    "from pyspark.sql.functions import randn\n"
   ]
  },
  {
   "cell_type": "code",
   "execution_count": 5,
   "metadata": {},
   "outputs": [],
   "source": [
    "# here is how we create a function ('Ang2Pix') that can be called by dataframes\n",
    "# it takes as input the \"ra\" and \"dec\" values (which are not very different from theta/phi)\n",
    "# and returns the pixel number (but as pandas series for efficiency)\n",
    "import numpy as np\n",
    "import pandas as pd\n",
    "import healpy as hp\n",
    "\n",
    "nside=512"
   ]
  },
  {
   "cell_type": "code",
   "execution_count": 6,
   "metadata": {},
   "outputs": [
    {
     "name": "stdout",
     "output_type": "stream",
     "text": [
      "DEPRECATED: Use of this script to execute hdfs command is deprecated.\n",
      "Instead use the hdfs command for it.\n",
      "\n",
      "Found 5 items\n",
      "drwxr-xr-x   - stephane.plaszczynski lsst          0 2019-09-03 20:04 /lsst/DC2/cosmoDC2/cosmoDC2_v1.1.4_image.parquet\n",
      "drwxr-xr-x   - stephane.plaszczynski lsst          0 2019-10-16 10:52 /lsst/DC2/cosmoDC2/cosmoDC2_v1.1.4_image_double.parquet\n",
      "drwxr-xr-x   - stephane.plaszczynski lsst          0 2020-04-23 17:28 /lsst/DC2/cosmoDC2/cosmoDC2_v1.1.4_image_nofaint.parquet\n",
      "drwxr-xr-x   - stephane.plaszczynski lsst          0 2020-09-07 19:17 /lsst/DC2/cosmoDC2/shear_cosmoDC2\n",
      "drwxr-xr-x   - stephane.plaszczynski lsst          0 2019-04-16 18:40 /lsst/DC2/cosmoDC2/xyz_v1.1.4_hive\n"
     ]
    }
   ],
   "source": [
    "! hadoop dfs -ls /lsst/DC2/cosmoDC2"
   ]
  },
  {
   "cell_type": "code",
   "execution_count": 7,
   "metadata": {},
   "outputs": [],
   "source": [
    "base_dir=\"/lsst/DC2/cosmoDC2/shear_cosmoDC2\""
   ]
  },
  {
   "cell_type": "code",
   "execution_count": 8,
   "metadata": {},
   "outputs": [],
   "source": [
    "fullfilename=\"/lsst/DC2/cosmoDC2/cosmoDC2_v1.1.4_image.parquet\"\n",
    "datafile=fullfilename\n",
    "FLAG_ONE_FILE_INPUT=True"
   ]
  },
  {
   "cell_type": "code",
   "execution_count": 9,
   "metadata": {},
   "outputs": [],
   "source": [
    "#from subprocess import Popen, PIPE\n",
    "#hdfs_path = base_dir\n",
    "#process = Popen(f'hdfs dfs -ls -h {hdfs_path}', shell=True, stdout=PIPE, stderr=PIPE)\n",
    "#std_out, std_err = process.communicate()\n",
    "#list_of_file_names = [fn.split(' ')[-1].split('/')[-1] for fn in std_out.decode().readlines()[1:]][:-1]\n",
    "#list_of_file_names_with_full_address = [fn.split(' ')[-1] for fn in std_out.decode().readlines()[1:]][:-1]"
   ]
  },
  {
   "cell_type": "code",
   "execution_count": 10,
   "metadata": {},
   "outputs": [],
   "source": [
    "#for fn in std_out.readlines():\n",
    "#    print(fn)"
   ]
  },
  {
   "cell_type": "code",
   "execution_count": 11,
   "metadata": {},
   "outputs": [],
   "source": [
    "from pyspark.sql import SparkSession\n",
    "\n",
    "# Initialise our Spark session\n",
    "spark = SparkSession.builder.getOrCreate()"
   ]
  },
  {
   "cell_type": "code",
   "execution_count": 12,
   "metadata": {},
   "outputs": [],
   "source": [
    "# Read the data as DataFrame\n",
    "if FLAG_ONE_FILE_INPUT:\n",
    "    df = spark.read.format(\"parquet\").load(datafile)\n",
    "else: # read all files\n",
    "    #the_list_of_files=os.listdir(base_dir)\n",
    "    #the_sorted_list_of_files=sorted(the_list_of_files)\n",
    "    #print(\"sorted files : \",the_sorted_list_of_files[:5])\n",
    "    #selected_files=[]\n",
    "    #for filename in the_sorted_list_of_files:\n",
    "    #    sel_filename=re.findall(\"^dc2_object_run2.2i_dr6c_tract[0-9][0-9][0-9][0-9].parquet$\",filename)\n",
    "    #    if len(sel_filename) > 0:\n",
    "    #        selected_files.append(sel_filename[0])\n",
    "    #print(\"selected files : \", selected_files[:5])\n",
    "    #InputPath = [base_dir + \"/{}\".format(filename) for filename in selected_files]\n",
    "    InputPath = all_files  # filename from the decoded index file\n",
    "    df = spark.read.parquet(*InputPath)        "
   ]
  },
  {
   "cell_type": "code",
   "execution_count": 13,
   "metadata": {},
   "outputs": [
    {
     "name": "stdout",
     "output_type": "stream",
     "text": [
      "root\n",
      " |-- Mag_true_g_lsst_z0: float (nullable = true)\n",
      " |-- Mag_true_z_lsst_z0: float (nullable = true)\n",
      " |-- ra: float (nullable = true)\n",
      " |-- mag_y: float (nullable = true)\n",
      " |-- mag_z: float (nullable = true)\n",
      " |-- size_true: float (nullable = true)\n",
      " |-- halo_id: long (nullable = true)\n",
      " |-- position_x: float (nullable = true)\n",
      " |-- mag_g: float (nullable = true)\n",
      " |-- Mag_true_u_lsst_z0: float (nullable = true)\n",
      " |-- mag_true_r: float (nullable = true)\n",
      " |-- position_angle_true: float (nullable = true)\n",
      " |-- mag_true_g: float (nullable = true)\n",
      " |-- stellar_mass: float (nullable = true)\n",
      " |-- Mag_true_y_lsst_z0: float (nullable = true)\n",
      " |-- position_y: float (nullable = true)\n",
      " |-- mag_true_i: float (nullable = true)\n",
      " |-- redshift: float (nullable = true)\n",
      " |-- Mag_true_i_lsst_z0: float (nullable = true)\n",
      " |-- mag_r: float (nullable = true)\n",
      " |-- mag_true_y: float (nullable = true)\n",
      " |-- dec: float (nullable = true)\n",
      " |-- mag_true_u: float (nullable = true)\n",
      " |-- Mag_true_r_lsst_z0: float (nullable = true)\n",
      " |-- mag_i: float (nullable = true)\n",
      " |-- position_z: float (nullable = true)\n",
      " |-- mag_u: float (nullable = true)\n",
      " |-- mag_true_z: float (nullable = true)\n",
      " |-- is_central: boolean (nullable = true)\n",
      "\n"
     ]
    }
   ],
   "source": [
    "df.printSchema()"
   ]
  },
  {
   "cell_type": "code",
   "execution_count": 14,
   "metadata": {},
   "outputs": [],
   "source": [
    "data=df.select(\"halo_id\",\"ra\",\"dec\",\"position_x\",\"position_y\",\"position_z\",\"redshift\",\"stellar_mass\",\"is_central\")"
   ]
  },
  {
   "cell_type": "code",
   "execution_count": 15,
   "metadata": {},
   "outputs": [
    {
     "name": "stdout",
     "output_type": "stream",
     "text": [
      "+-----------+---------+----------+----------+----------+----------+------------+-------------+----------+\n",
      "|    halo_id|       ra|       dec|position_x|position_y|position_z|    redshift| stellar_mass|is_central|\n",
      "+-----------+---------+----------+----------+----------+----------+------------+-------------+----------+\n",
      "|     151487|49.312595| -40.29579| 45.516796|  52.94169|-59.201447|  0.02164939|1.61537874E10|      true|\n",
      "|     151487|49.477528|-40.279537| 45.421547| 53.139584|-59.242195|  0.02191215| 1.45056048E8|     false|\n",
      "|  100151487|51.234653|-40.120605| 43.541767|  54.22216|-58.601585| 0.021491187| 3.39115392E8|      true|\n",
      "|  200151487| 49.46697|-39.989403| 45.164555| 52.819206|-58.292233| 0.021335145| 2.54158784E8|      true|\n",
      "|  300151487|50.803635|-40.039272| 12.911323| 15.832897| -17.16664| 0.006085375| 2.73879296E9|      true|\n",
      "|  400151487| 50.54519| -40.07799|  13.13755| 15.962756|-17.395363|0.0062329015|  4.0522228E7|      true|\n",
      "|  500151487|51.027073|-40.140404| 45.259895| 55.945347|  -60.6833| 0.022323765| 2.88517056E8|      true|\n",
      "|    -151487| 50.63813|-39.092896|  27.74802| 33.826866|-35.547016| 0.013605996|    3426625.2|      true|\n",
      "| -100151487|49.497707|-40.185303|  42.27347| 49.491867|-54.975296| 0.020426989|    241566.38|      true|\n",
      "| -200151487|50.090485|-39.802586| 24.470663|  29.25671|-31.781153| 0.011232678|     921896.3|      true|\n",
      "| -300151487|50.557415|-40.108242| 15.287693| 18.583366| -20.26932| 0.007916852|    2684140.8|      true|\n",
      "| -400151487|50.374958|-40.811375| 36.421146| 43.986443| -49.31397| 0.018281268|    1132889.1|      true|\n",
      "| -500151487|49.660564| -40.19954|  31.57642|  37.18173|-41.222168| 0.015733609|    7000530.5|      true|\n",
      "| -600151487| 51.41506| -40.14236|  43.38423|  54.37579| -58.66488| 0.021410722|    894756.56|      true|\n",
      "| -700151487|50.101273|-41.019165| 42.230103|  50.50892| -57.27005| 0.021449156|     784168.1|      true|\n",
      "| -800151487|51.575916| -40.04323| 43.060562|  54.28202|-58.228207|  0.02179927|     909350.2|      true|\n",
      "| -900151487|50.299767| -39.26512|  41.59264|  50.09816|-53.228657| 0.020016473|   1.219255E7|      true|\n",
      "|-1000151487|51.314518| -40.25564| 35.317135| 44.105885|-47.843166| 0.017602554|    1717013.2|      true|\n",
      "|-1100151487|51.245533|-39.645786|  39.31165| 48.973476| -52.03705| 0.019653492|  1.4701649E7|      true|\n",
      "|-1200151487|50.938084|-39.688946| 42.473656| 52.334858|-55.935757| 0.021616712|  3.2118678E7|      true|\n",
      "+-----------+---------+----------+----------+----------+----------+------------+-------------+----------+\n",
      "only showing top 20 rows\n",
      "\n"
     ]
    }
   ],
   "source": [
    "data.show()"
   ]
  },
  {
   "cell_type": "code",
   "execution_count": 16,
   "metadata": {},
   "outputs": [
    {
     "data": {
      "text/plain": [
       "2256249331"
      ]
     },
     "execution_count": 16,
     "metadata": {},
     "output_type": "execute_result"
    }
   ],
   "source": [
    "data.count()"
   ]
  },
  {
   "cell_type": "code",
   "execution_count": 17,
   "metadata": {},
   "outputs": [],
   "source": [
    "#data.describe().show()"
   ]
  },
  {
   "cell_type": "code",
   "execution_count": 18,
   "metadata": {},
   "outputs": [],
   "source": [
    "center_clu=data.filter(data.is_central==True)"
   ]
  },
  {
   "cell_type": "code",
   "execution_count": 19,
   "metadata": {},
   "outputs": [
    {
     "data": {
      "text/plain": [
       "2173500274"
      ]
     },
     "execution_count": 19,
     "metadata": {},
     "output_type": "execute_result"
    }
   ],
   "source": [
    "center_clu.count()"
   ]
  },
  {
   "cell_type": "code",
   "execution_count": 20,
   "metadata": {},
   "outputs": [
    {
     "name": "stdout",
     "output_type": "stream",
     "text": [
      "+-----------+---------+----------+----------+----------+----------+------------+-------------+----------+\n",
      "|    halo_id|       ra|       dec|position_x|position_y|position_z|    redshift| stellar_mass|is_central|\n",
      "+-----------+---------+----------+----------+----------+----------+------------+-------------+----------+\n",
      "|     151487|49.312595| -40.29579| 45.516796|  52.94169|-59.201447|  0.02164939|1.61537874E10|      true|\n",
      "|  100151487|51.234653|-40.120605| 43.541767|  54.22216|-58.601585| 0.021491187| 3.39115392E8|      true|\n",
      "|  200151487| 49.46697|-39.989403| 45.164555| 52.819206|-58.292233| 0.021335145| 2.54158784E8|      true|\n",
      "|  300151487|50.803635|-40.039272| 12.911323| 15.832897| -17.16664| 0.006085375| 2.73879296E9|      true|\n",
      "|  400151487| 50.54519| -40.07799|  13.13755| 15.962756|-17.395363|0.0062329015|  4.0522228E7|      true|\n",
      "|  500151487|51.027073|-40.140404| 45.259895| 55.945347|  -60.6833| 0.022323765| 2.88517056E8|      true|\n",
      "|    -151487| 50.63813|-39.092896|  27.74802| 33.826866|-35.547016| 0.013605996|    3426625.2|      true|\n",
      "| -100151487|49.497707|-40.185303|  42.27347| 49.491867|-54.975296| 0.020426989|    241566.38|      true|\n",
      "| -200151487|50.090485|-39.802586| 24.470663|  29.25671|-31.781153| 0.011232678|     921896.3|      true|\n",
      "| -300151487|50.557415|-40.108242| 15.287693| 18.583366| -20.26932| 0.007916852|    2684140.8|      true|\n",
      "| -400151487|50.374958|-40.811375| 36.421146| 43.986443| -49.31397| 0.018281268|    1132889.1|      true|\n",
      "| -500151487|49.660564| -40.19954|  31.57642|  37.18173|-41.222168| 0.015733609|    7000530.5|      true|\n",
      "| -600151487| 51.41506| -40.14236|  43.38423|  54.37579| -58.66488| 0.021410722|    894756.56|      true|\n",
      "| -700151487|50.101273|-41.019165| 42.230103|  50.50892| -57.27005| 0.021449156|     784168.1|      true|\n",
      "| -800151487|51.575916| -40.04323| 43.060562|  54.28202|-58.228207|  0.02179927|     909350.2|      true|\n",
      "| -900151487|50.299767| -39.26512|  41.59264|  50.09816|-53.228657| 0.020016473|   1.219255E7|      true|\n",
      "|-1000151487|51.314518| -40.25564| 35.317135| 44.105885|-47.843166| 0.017602554|    1717013.2|      true|\n",
      "|-1100151487|51.245533|-39.645786|  39.31165| 48.973476| -52.03705| 0.019653492|  1.4701649E7|      true|\n",
      "|-1200151487|50.938084|-39.688946| 42.473656| 52.334858|-55.935757| 0.021616712|  3.2118678E7|      true|\n",
      "|-1300151487|50.422146|-41.341167| 29.419426| 35.589977| -40.62472| 0.015334107|    2056871.9|      true|\n",
      "+-----------+---------+----------+----------+----------+----------+------------+-------------+----------+\n",
      "only showing top 20 rows\n",
      "\n"
     ]
    }
   ],
   "source": [
    "center_clu.show()"
   ]
  },
  {
   "cell_type": "code",
   "execution_count": null,
   "metadata": {},
   "outputs": [],
   "source": [
    "center_clu=center_clu.withColumn(\"logmass\", gal[\"Z\"]+F.randn()*(0.02*(1+gal[\"Z\"])))"
   ]
  },
  {
   "cell_type": "code",
   "execution_count": 21,
   "metadata": {},
   "outputs": [],
   "source": [
    "from pyspark.ml.feature import Bucketizer"
   ]
  },
  {
   "cell_type": "code",
   "execution_count": 22,
   "metadata": {},
   "outputs": [],
   "source": [
    "minmax = center_clu.agg(F.min(\"stellar_mass\"), F.max(\"stellar_mass\")).head()"
   ]
  },
  {
   "cell_type": "code",
   "execution_count": 23,
   "metadata": {},
   "outputs": [
    {
     "data": {
      "text/plain": [
       "Row(min(stellar_mass)=3536.082275390625, max(stellar_mass)=4511717916672.0)"
      ]
     },
     "execution_count": 23,
     "metadata": {},
     "output_type": "execute_result"
    }
   ],
   "source": [
    "minmax"
   ]
  },
  {
   "cell_type": "code",
   "execution_count": null,
   "metadata": {},
   "outputs": [],
   "source": [
    "np."
   ]
  }
 ],
 "metadata": {
  "kernelspec": {
   "display_name": "Python 3",
   "language": "python",
   "name": "python3"
  },
  "language_info": {
   "codemirror_mode": {
    "name": "ipython",
    "version": 3
   },
   "file_extension": ".py",
   "mimetype": "text/x-python",
   "name": "python",
   "nbconvert_exporter": "python",
   "pygments_lexer": "ipython3",
   "version": "3.6.5"
  }
 },
 "nbformat": 4,
 "nbformat_minor": 2
}
