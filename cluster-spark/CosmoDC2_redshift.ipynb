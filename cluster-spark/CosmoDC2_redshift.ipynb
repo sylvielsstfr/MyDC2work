{
 "cells": [
  {
   "cell_type": "markdown",
   "metadata": {},
   "source": [
    "# Work on Redshift of CosmoDC2\n",
    "\n",
    "- author : Sylvie Dagoret-Campagne\n",
    "- creation date : November 19th 2020\n",
    "- last update : January 29th 2021"
   ]
  },
  {
   "cell_type": "code",
   "execution_count": 1,
   "metadata": {},
   "outputs": [],
   "source": [
    "%matplotlib inline\n",
    "\n",
    "import os\n",
    "\n",
    "import numpy as np\n",
    "import matplotlib.pyplot as plt\n",
    "import pandas as pd"
   ]
  },
  {
   "cell_type": "code",
   "execution_count": 2,
   "metadata": {},
   "outputs": [],
   "source": [
    "import pyarrow"
   ]
  },
  {
   "cell_type": "code",
   "execution_count": 3,
   "metadata": {},
   "outputs": [
    {
     "name": "stdout",
     "output_type": "stream",
     "text": [
      "<SparkContext master=mesos://vm-75063.lal.in2p3.fr:5050 appName=PySparkShell>\n",
      "2.4.4\n"
     ]
    }
   ],
   "source": [
    "# Verify SparkContext\n",
    "print(sc)\n",
    "\n",
    "# Print Spark version\n",
    "print(sc.version)"
   ]
  },
  {
   "cell_type": "code",
   "execution_count": 4,
   "metadata": {},
   "outputs": [],
   "source": [
    "from pyspark.sql.functions import col, pandas_udf \n",
    "from pyspark.sql.types import LongType\n",
    "\n",
    "from pyspark.sql.types import IntegerType,FloatType\n",
    "from pyspark.sql.functions import pandas_udf, PandasUDFType\n",
    "\n",
    "from pyspark.sql import functions as F\n",
    "from pyspark.sql.functions import randn"
   ]
  },
  {
   "cell_type": "code",
   "execution_count": 5,
   "metadata": {},
   "outputs": [],
   "source": [
    "# here is how we create a function ('Ang2Pix') that can be called by dataframes\n",
    "# it takes as input the \"ra\" and \"dec\" values (which are not very different from theta/phi)\n",
    "# and returns the pixel number (but as pandas series for efficiency)\n",
    "import numpy as np\n",
    "import pandas as pd\n",
    "import healpy as hp\n",
    "\n",
    "nside=512"
   ]
  },
  {
   "cell_type": "code",
   "execution_count": 6,
   "metadata": {},
   "outputs": [
    {
     "name": "stdout",
     "output_type": "stream",
     "text": [
      "DEPRECATED: Use of this script to execute hdfs command is deprecated.\n",
      "Instead use the hdfs command for it.\n",
      "\n",
      "Found 5 items\n",
      "drwxr-xr-x   - stephane.plaszczynski lsst          0 2020-12-11 15:12 /lsst/DC2/cosmoDC2/cosmoDC2_v1.1.4_image\n",
      "drwxr-xr-x   - stephane.plaszczynski lsst          0 2019-10-16 10:52 /lsst/DC2/cosmoDC2/cosmoDC2_v1.1.4_image_double.parquet\n",
      "drwxr-xr-x   - stephane.plaszczynski lsst          0 2020-04-23 17:28 /lsst/DC2/cosmoDC2/cosmoDC2_v1.1.4_image_nofaint.parquet\n",
      "drwxr-xr-x   - stephane.plaszczynski lsst          0 2020-09-07 19:17 /lsst/DC2/cosmoDC2/shear_cosmoDC2\n",
      "drwxr-xr-x   - stephane.plaszczynski lsst          0 2019-04-16 18:40 /lsst/DC2/cosmoDC2/xyz_v1.1.4_hive\n"
     ]
    }
   ],
   "source": [
    "! hadoop dfs -ls /lsst/DC2/cosmoDC2"
   ]
  },
  {
   "cell_type": "code",
   "execution_count": 10,
   "metadata": {},
   "outputs": [],
   "source": [
    "fullfilename=\"/lsst/DC2/cosmoDC2/cosmoDC2_v1.1.4_image\"\n",
    "datafile=fullfilename\n",
    "FLAG_ONE_FILE_INPUT=True"
   ]
  },
  {
   "cell_type": "code",
   "execution_count": 11,
   "metadata": {},
   "outputs": [],
   "source": [
    "from pyspark.sql import SparkSession\n",
    "\n",
    "# Initialise our Spark session\n",
    "spark = SparkSession.builder.getOrCreate()"
   ]
  },
  {
   "cell_type": "code",
   "execution_count": 12,
   "metadata": {},
   "outputs": [],
   "source": [
    "# Read the data as DataFrame\n",
    "if FLAG_ONE_FILE_INPUT:\n",
    "    df = spark.read.format(\"parquet\").load(datafile)\n",
    "else: # read all files\n",
    "    #the_list_of_files=os.listdir(base_dir)\n",
    "    #the_sorted_list_of_files=sorted(the_list_of_files)\n",
    "    #print(\"sorted files : \",the_sorted_list_of_files[:5])\n",
    "    #selected_files=[]\n",
    "    #for filename in the_sorted_list_of_files:\n",
    "    #    sel_filename=re.findall(\"^dc2_object_run2.2i_dr6c_tract[0-9][0-9][0-9][0-9].parquet$\",filename)\n",
    "    #    if len(sel_filename) > 0:\n",
    "    #        selected_files.append(sel_filename[0])\n",
    "    #print(\"selected files : \", selected_files[:5])\n",
    "    #InputPath = [base_dir + \"/{}\".format(filename) for filename in selected_files]\n",
    "    InputPath = all_files  # filename from the decoded index file\n",
    "    df = spark.read.parquet(*InputPath)        "
   ]
  },
  {
   "cell_type": "code",
   "execution_count": 13,
   "metadata": {
    "scrolled": false
   },
   "outputs": [
    {
     "name": "stdout",
     "output_type": "stream",
     "text": [
      "root\n",
      " |-- sed_2998_186_disk: float (nullable = true)\n",
      " |-- sed_17402_2596_disk: float (nullable = true)\n",
      " |-- sed_15143_2259_bulge: float (nullable = true)\n",
      " |-- Mag_true_y_lsst_z0: float (nullable = true)\n",
      " |-- sed_8329_517_bulge: float (nullable = true)\n",
      " |-- mag_i_lsst: double (nullable = true)\n",
      " |-- sed_13177_1966_disk: float (nullable = true)\n",
      " |-- mag_true_z_sdss: float (nullable = true)\n",
      " |-- sed_2407_591_no_host_extinction: float (nullable = true)\n",
      " |-- sed_1933_474_disk_no_host_extinction: float (nullable = true)\n",
      " |-- sed_3590_222: float (nullable = true)\n",
      " |-- sed_4048_251: float (nullable = true)\n",
      " |-- sed_8329_517: float (nullable = true)\n",
      " |-- mag_u_lsst_no_host_extinction: double (nullable = true)\n",
      " |-- velocity_x: double (nullable = true)\n",
      " |-- sed_1246_306_bulge: float (nullable = true)\n",
      " |-- sed_17402_2596_no_host_extinction: float (nullable = true)\n",
      " |-- sed_1552_381: float (nullable = true)\n",
      " |-- Mag_true_u_lsst_z0_no_host_extinction: float (nullable = true)\n",
      " |-- sed_6548_406_disk_no_host_extinction: float (nullable = true)\n",
      " |-- mag_true_z_lsst_no_host_extinction: float (nullable = true)\n",
      " |-- sed_6954_431_bulge: float (nullable = true)\n",
      " |-- mag_g_sdss_no_host_extinction: double (nullable = true)\n",
      " |-- sed_4048_251_bulge: float (nullable = true)\n",
      " |-- sed_3381_209_disk: float (nullable = true)\n",
      " |-- position_y: double (nullable = true)\n",
      " |-- sed_1552_381_disk_no_host_extinction: float (nullable = true)\n",
      " |-- Mag_true_g_lsst_z0: float (nullable = true)\n",
      " |-- Mag_true_i_lsst_z0: float (nullable = true)\n",
      " |-- Mag_true_u_sdss_z0: float (nullable = true)\n",
      " |-- sed_3184_197_bulge: float (nullable = true)\n",
      " |-- galaxy_id: long (nullable = true)\n",
      " |-- shear_2: double (nullable = true)\n",
      " |-- mag_y_lsst: double (nullable = true)\n",
      " |-- sed_5806_360_bulge_no_host_extinction: float (nullable = true)\n",
      " |-- Mag_true_r_lsst_z0: float (nullable = true)\n",
      " |-- Mag_true_z_lsst_z0: float (nullable = true)\n",
      " |-- sed_1000_246_bulge_no_host_extinction: float (nullable = true)\n",
      " |-- sed_4048_251_no_host_extinction: float (nullable = true)\n",
      " |-- sed_6166_382_disk: float (nullable = true)\n",
      " |-- sed_2407_591_bulge_no_host_extinction: float (nullable = true)\n",
      " |-- sed_3590_222_bulge_no_host_extinction: float (nullable = true)\n",
      " |-- redshift: double (nullable = true)\n",
      " |-- mag_true_u_lsst: float (nullable = true)\n",
      " |-- size_disk_true: float (nullable = true)\n",
      " |-- position_z: double (nullable = true)\n",
      " |-- sed_3184_197_disk: float (nullable = true)\n",
      " |-- mag_true_i: float (nullable = true)\n",
      " |-- sed_1933_474_no_host_extinction: float (nullable = true)\n",
      " |-- mag_u_lsst: double (nullable = true)\n",
      " |-- size_minor_true: float (nullable = true)\n",
      " |-- sed_5806_360_no_host_extinction: float (nullable = true)\n",
      " |-- mag_g: double (nullable = true)\n",
      " |-- sed_5148_319: float (nullable = true)\n",
      " |-- mag_r: double (nullable = true)\n",
      " |-- sed_5806_360_disk: float (nullable = true)\n",
      " |-- sed_11467_1710_disk_no_host_extinction: float (nullable = true)\n",
      " |-- sed_4048_251_disk: float (nullable = true)\n",
      " |-- ellipticity_2_disk_true: double (nullable = true)\n",
      " |-- mag_r_lsst: double (nullable = true)\n",
      " |-- sed_8329_517_disk: float (nullable = true)\n",
      " |-- sed_8846_549_disk_no_host_extinction: float (nullable = true)\n",
      " |-- mag_true_y_lsst_no_host_extinction: float (nullable = true)\n",
      " |-- sed_3812_236_bulge: float (nullable = true)\n",
      " |-- sed_1552_381_bulge: float (nullable = true)\n",
      " |-- sed_6548_406: float (nullable = true)\n",
      " |-- size_minor_bulge_true: float (nullable = true)\n",
      " |-- mag_true_r_sdss_no_host_extinction: float (nullable = true)\n",
      " |-- shear_2_phosim: double (nullable = true)\n",
      " |-- mag_true_r: float (nullable = true)\n",
      " |-- sed_7385_458_disk: float (nullable = true)\n",
      " |-- sed_3381_209_disk_no_host_extinction: float (nullable = true)\n",
      " |-- mag_z_sdss_no_host_extinction: double (nullable = true)\n",
      " |-- shear_2_treecorr: double (nullable = true)\n",
      " |-- mag_true_g: float (nullable = true)\n",
      " |-- sed_1246_306_disk: float (nullable = true)\n",
      " |-- sed_7385_458_bulge: float (nullable = true)\n",
      " |-- sed_5806_360_bulge: float (nullable = true)\n",
      " |-- sed_4299_266: float (nullable = true)\n",
      " |-- sed_2998_186_disk_no_host_extinction: float (nullable = true)\n",
      " |-- sed_4848_300: float (nullable = true)\n",
      " |-- sed_15143_2259_no_host_extinction: float (nullable = true)\n",
      " |-- sed_4565_283: float (nullable = true)\n",
      " |-- sed_4848_300_no_host_extinction: float (nullable = true)\n",
      " |-- sed_1933_474_bulge: float (nullable = true)\n",
      " |-- sed_6166_382_bulge_no_host_extinction: float (nullable = true)\n",
      " |-- sed_9978_1489_disk: float (nullable = true)\n",
      " |-- sed_6548_406_disk: float (nullable = true)\n",
      " |-- mag_true_r_lsst_no_host_extinction: float (nullable = true)\n",
      " |-- velocity_y: double (nullable = true)\n",
      " |-- sed_3381_209: float (nullable = true)\n",
      " |-- mag_true_r_lsst: float (nullable = true)\n",
      " |-- Mag_true_z_sdss_z0: float (nullable = true)\n",
      " |-- sed_4848_300_disk_no_host_extinction: float (nullable = true)\n",
      " |-- R_v_disk: float (nullable = true)\n",
      " |-- size_minor_disk_true: float (nullable = true)\n",
      " |-- ellipticity_2_true: double (nullable = true)\n",
      " |-- sed_5467_339_disk_no_host_extinction: float (nullable = true)\n",
      " |-- mag_g_sdss: double (nullable = true)\n",
      " |-- sed_3590_222_disk: float (nullable = true)\n",
      " |-- sed_3381_209_no_host_extinction: float (nullable = true)\n",
      " |-- sed_9395_583_disk_no_host_extinction: float (nullable = true)\n",
      " |-- sed_5467_339: float (nullable = true)\n",
      " |-- sed_1246_306_no_host_extinction: float (nullable = true)\n",
      " |-- Mag_true_u_lsst_z0: float (nullable = true)\n",
      " |-- sed_11467_1710_no_host_extinction: float (nullable = true)\n",
      " |-- sed_9978_1489_no_host_extinction: float (nullable = true)\n",
      " |-- stellar_mass_bulge: float (nullable = true)\n",
      " |-- sed_6548_406_bulge: float (nullable = true)\n",
      " |-- convergence: double (nullable = true)\n",
      " |-- sed_1933_474_bulge_no_host_extinction: float (nullable = true)\n",
      " |-- sed_4848_300_bulge_no_host_extinction: float (nullable = true)\n",
      " |-- sed_15143_2259: float (nullable = true)\n",
      " |-- sed_11467_1710_disk: float (nullable = true)\n",
      " |-- sed_9395_583: float (nullable = true)\n",
      " |-- sed_4848_300_bulge: float (nullable = true)\n",
      " |-- magnification: double (nullable = true)\n",
      " |-- mag_true_r_sdss: float (nullable = true)\n",
      " |-- sed_1552_381_no_host_extinction: float (nullable = true)\n",
      " |-- stellar_mass: float (nullable = true)\n",
      " |-- Mag_true_i_lsst_z0_no_host_extinction: float (nullable = true)\n",
      " |-- sed_5148_319_bulge_no_host_extinction: float (nullable = true)\n",
      " |-- mag_true_y_lsst: float (nullable = true)\n",
      " |-- sersic_disk: float (nullable = true)\n",
      " |-- sed_4565_283_no_host_extinction: float (nullable = true)\n",
      " |-- dec_true: double (nullable = true)\n",
      " |-- sed_6166_382_bulge: float (nullable = true)\n",
      " |-- ellipticity_2_bulge_true: double (nullable = true)\n",
      " |-- Mag_true_g_sdss_z0_no_host_extinction: float (nullable = true)\n",
      " |-- sed_17402_2596_bulge_no_host_extinction: float (nullable = true)\n",
      " |-- mag_i_lsst_no_host_extinction: double (nullable = true)\n",
      " |-- mag_true_z: float (nullable = true)\n",
      " |-- sed_7843_486_disk_no_host_extinction: float (nullable = true)\n",
      " |-- sed_2998_186_no_host_extinction: float (nullable = true)\n",
      " |-- sed_3812_236_disk_no_host_extinction: float (nullable = true)\n",
      " |-- sed_9395_583_disk: float (nullable = true)\n",
      " |-- mag_y_lsst_no_host_extinction: double (nullable = true)\n",
      " |-- sed_9395_583_bulge_no_host_extinction: float (nullable = true)\n",
      " |-- halo_id: long (nullable = true)\n",
      " |-- halo_mass: double (nullable = true)\n",
      " |-- R_v_bulge: float (nullable = true)\n",
      " |-- sed_9978_1489: float (nullable = true)\n",
      " |-- A_v_disk: float (nullable = true)\n",
      " |-- sed_9395_583_no_host_extinction: float (nullable = true)\n",
      " |-- Mag_true_z_lsst_z0_no_host_extinction: float (nullable = true)\n",
      " |-- sed_3590_222_no_host_extinction: float (nullable = true)\n",
      " |-- ellipticity_1_true: double (nullable = true)\n",
      " |-- Mag_true_z_sdss_z0_no_host_extinction: float (nullable = true)\n",
      " |-- Mag_true_g_lsst_z0_no_host_extinction: float (nullable = true)\n",
      " |-- sed_4299_266_disk: float (nullable = true)\n",
      " |-- sed_5467_339_bulge: float (nullable = true)\n",
      " |-- mag_i_sdss: double (nullable = true)\n",
      " |-- sed_8329_517_no_host_extinction: float (nullable = true)\n",
      " |-- dec: double (nullable = true)\n",
      " |-- bulge_to_total_ratio_i: float (nullable = true)\n",
      " |-- sed_4299_266_disk_no_host_extinction: float (nullable = true)\n",
      " |-- sed_6954_431: float (nullable = true)\n",
      " |-- mag_true_u: float (nullable = true)\n",
      " |-- mag_true_u_sdss: float (nullable = true)\n",
      " |-- sed_3184_197_no_host_extinction: float (nullable = true)\n",
      " |-- position_angle_true: double (nullable = true)\n",
      " |-- sed_4299_266_bulge: float (nullable = true)\n",
      " |-- sed_1246_306_bulge_no_host_extinction: float (nullable = true)\n",
      " |-- sed_13177_1966_bulge: float (nullable = true)\n",
      " |-- sed_3184_197: float (nullable = true)\n",
      " |-- sed_17402_2596_bulge: float (nullable = true)\n",
      " |-- sed_4565_283_bulge_no_host_extinction: float (nullable = true)\n",
      " |-- sed_6166_382_disk_no_host_extinction: float (nullable = true)\n",
      " |-- ellipticity_bulge_true: float (nullable = true)\n",
      " |-- mag_true_i_sdss: float (nullable = true)\n",
      " |-- mag_true_g_lsst: float (nullable = true)\n",
      " |-- sed_4848_300_disk: float (nullable = true)\n",
      " |-- sed_6954_431_disk_no_host_extinction: float (nullable = true)\n",
      " |-- mag_i_sdss_no_host_extinction: double (nullable = true)\n",
      " |-- mag_z_lsst: double (nullable = true)\n",
      " |-- sed_1246_306_disk_no_host_extinction: float (nullable = true)\n",
      " |-- sed_3812_236_disk: float (nullable = true)\n",
      " |-- sed_8329_517_disk_no_host_extinction: float (nullable = true)\n",
      " |-- Mag_true_y_lsst_z0_no_host_extinction: float (nullable = true)\n",
      " |-- sed_3381_209_bulge: float (nullable = true)\n",
      " |-- sed_2407_591_bulge: float (nullable = true)\n",
      " |-- sed_3184_197_disk_no_host_extinction: float (nullable = true)\n",
      " |-- mag_true_u_sdss_no_host_extinction: float (nullable = true)\n",
      " |-- sed_1552_381_bulge_no_host_extinction: float (nullable = true)\n",
      " |-- sed_5467_339_disk: float (nullable = true)\n",
      " |-- mag_i: double (nullable = true)\n",
      " |-- sed_5148_319_no_host_extinction: float (nullable = true)\n",
      " |-- size_bulge_true: float (nullable = true)\n",
      " |-- sed_3184_197_bulge_no_host_extinction: float (nullable = true)\n",
      " |-- sed_3812_236_no_host_extinction: float (nullable = true)\n",
      " |-- sed_15143_2259_bulge_no_host_extinction: float (nullable = true)\n",
      " |-- Mag_true_r_sdss_z0: float (nullable = true)\n",
      " |-- sed_8846_549_bulge: float (nullable = true)\n",
      " |-- sed_7843_486_no_host_extinction: float (nullable = true)\n",
      " |-- ra_true: double (nullable = true)\n",
      " |-- sed_5148_319_disk: float (nullable = true)\n",
      " |-- sed_8846_549: float (nullable = true)\n",
      " |-- mag_true_z_lsst: float (nullable = true)\n",
      " |-- sed_6954_431_disk: float (nullable = true)\n",
      " |-- sed_3381_209_bulge_no_host_extinction: float (nullable = true)\n",
      " |-- Mag_true_i_sdss_z0: float (nullable = true)\n",
      " |-- Mag_true_r_sdss_z0_no_host_extinction: float (nullable = true)\n",
      " |-- sed_15143_2259_disk: float (nullable = true)\n",
      " |-- ellipticity_disk_true: float (nullable = true)\n",
      " |-- sed_6548_406_no_host_extinction: float (nullable = true)\n",
      " |-- sed_13177_1966_no_host_extinction: float (nullable = true)\n",
      " |-- sed_4565_283_disk_no_host_extinction: float (nullable = true)\n",
      " |-- size_true: float (nullable = true)\n",
      " |-- sed_1000_246_disk_no_host_extinction: float (nullable = true)\n",
      " |-- sed_5148_319_bulge: float (nullable = true)\n",
      " |-- sed_2998_186: float (nullable = true)\n",
      " |-- ellipticity_true: float (nullable = true)\n",
      " |-- sed_3590_222_disk_no_host_extinction: float (nullable = true)\n",
      " |-- sed_1246_306: float (nullable = true)\n",
      " |-- mag_true_i_sdss_no_host_extinction: float (nullable = true)\n",
      " |-- ellipticity_1_bulge_true: double (nullable = true)\n",
      " |-- stellar_mass_disk: float (nullable = true)\n",
      " |-- sed_1000_246_no_host_extinction: float (nullable = true)\n",
      " |-- sed_4565_283_bulge: float (nullable = true)\n",
      " |-- mag_g_lsst: double (nullable = true)\n",
      " |-- sed_7843_486_bulge_no_host_extinction: float (nullable = true)\n",
      " |-- ra: double (nullable = true)\n",
      " |-- is_central: boolean (nullable = true)\n",
      " |-- sed_1552_381_disk: float (nullable = true)\n",
      " |-- mag_true_i_lsst: float (nullable = true)\n",
      " |-- mag_y: double (nullable = true)\n",
      " |-- sed_2407_591: float (nullable = true)\n",
      " |-- sed_4299_266_no_host_extinction: float (nullable = true)\n",
      " |-- ellipticity_1_disk_true: double (nullable = true)\n",
      " |-- sed_8329_517_bulge_no_host_extinction: float (nullable = true)\n",
      " |-- mag_true_z_sdss_no_host_extinction: float (nullable = true)\n",
      " |-- sed_5467_339_bulge_no_host_extinction: float (nullable = true)\n",
      " |-- sed_9978_1489_disk_no_host_extinction: float (nullable = true)\n",
      " |-- sed_11467_1710_bulge_no_host_extinction: float (nullable = true)\n",
      " |-- redshift_true: double (nullable = true)\n",
      " |-- sed_13177_1966_bulge_no_host_extinction: float (nullable = true)\n",
      " |-- sed_4299_266_bulge_no_host_extinction: float (nullable = true)\n",
      " |-- sed_7385_458_disk_no_host_extinction: float (nullable = true)\n",
      " |-- sed_8846_549_disk: float (nullable = true)\n",
      " |-- sed_15143_2259_disk_no_host_extinction: float (nullable = true)\n",
      " |-- sed_9978_1489_bulge: float (nullable = true)\n",
      " |-- sed_9395_583_bulge: float (nullable = true)\n",
      " |-- sed_2998_186_bulge: float (nullable = true)\n",
      " |-- sed_17402_2596_disk_no_host_extinction: float (nullable = true)\n",
      " |-- sed_17402_2596: float (nullable = true)\n",
      " |-- sed_3590_222_bulge: float (nullable = true)\n",
      " |-- sed_8846_549_no_host_extinction: float (nullable = true)\n",
      " |-- mag_u_sdss_no_host_extinction: double (nullable = true)\n",
      " |-- sed_5806_360: float (nullable = true)\n",
      " |-- sed_4565_283_disk: float (nullable = true)\n",
      " |-- sed_7385_458_no_host_extinction: float (nullable = true)\n",
      " |-- Mag_true_r_lsst_z0_no_host_extinction: float (nullable = true)\n",
      " |-- velocity_z: double (nullable = true)\n",
      " |-- sed_13177_1966_disk_no_host_extinction: float (nullable = true)\n",
      " |-- sed_13177_1966: float (nullable = true)\n",
      " |-- mag_true_g_lsst_no_host_extinction: float (nullable = true)\n",
      " |-- shear_1: double (nullable = true)\n",
      " |-- sed_2998_186_bulge_no_host_extinction: float (nullable = true)\n",
      " |-- mag_true_u_lsst_no_host_extinction: float (nullable = true)\n",
      " |-- mag_true_y: float (nullable = true)\n",
      " |-- Mag_true_i_sdss_z0_no_host_extinction: float (nullable = true)\n",
      " |-- position_x: double (nullable = true)\n",
      " |-- sed_7385_458_bulge_no_host_extinction: float (nullable = true)\n",
      " |-- mag_z: double (nullable = true)\n",
      " |-- sed_6166_382: float (nullable = true)\n",
      " |-- sed_7843_486: float (nullable = true)\n",
      " |-- mag_u_sdss: double (nullable = true)\n",
      " |-- sed_5806_360_disk_no_host_extinction: float (nullable = true)\n",
      " |-- sed_7843_486_disk: float (nullable = true)\n",
      " |-- mag_g_lsst_no_host_extinction: double (nullable = true)\n",
      " |-- sed_2407_591_disk_no_host_extinction: float (nullable = true)\n",
      " |-- sed_6954_431_no_host_extinction: float (nullable = true)\n",
      " |-- sed_8846_549_bulge_no_host_extinction: float (nullable = true)\n",
      " |-- sed_7843_486_bulge: float (nullable = true)\n",
      " |-- sed_6548_406_bulge_no_host_extinction: float (nullable = true)\n",
      " |-- mag_r_sdss_no_host_extinction: double (nullable = true)\n",
      " |-- sed_1933_474: float (nullable = true)\n",
      " |-- sed_1000_246_bulge: float (nullable = true)\n",
      " |-- mag_u: double (nullable = true)\n",
      " |-- sed_1000_246: float (nullable = true)\n",
      " |-- sed_4048_251_disk_no_host_extinction: float (nullable = true)\n",
      " |-- sed_6954_431_bulge_no_host_extinction: float (nullable = true)\n",
      " |-- mag_z_sdss: double (nullable = true)\n",
      " |-- sed_11467_1710_bulge: float (nullable = true)\n",
      " |-- sed_9978_1489_bulge_no_host_extinction: float (nullable = true)\n",
      " |-- sed_11467_1710: float (nullable = true)\n",
      " |-- R_v: float (nullable = true)\n",
      " |-- sed_6166_382_no_host_extinction: float (nullable = true)\n",
      " |-- sed_2407_591_disk: float (nullable = true)\n",
      " |-- mag_r_sdss: double (nullable = true)\n",
      " |-- sed_5467_339_no_host_extinction: float (nullable = true)\n",
      " |-- mag_true_g_sdss_no_host_extinction: float (nullable = true)\n",
      " |-- A_v: float (nullable = true)\n",
      " |-- sed_7385_458: float (nullable = true)\n",
      " |-- A_v_bulge: float (nullable = true)\n",
      " |-- sed_3812_236: float (nullable = true)\n",
      " |-- Mag_true_u_sdss_z0_no_host_extinction: float (nullable = true)\n",
      " |-- sed_1933_474_disk: float (nullable = true)\n",
      " |-- sersic_bulge: float (nullable = true)\n",
      " |-- Mag_true_g_sdss_z0: float (nullable = true)\n",
      " |-- mag_r_lsst_no_host_extinction: double (nullable = true)\n",
      " |-- mag_true_i_lsst_no_host_extinction: float (nullable = true)\n",
      " |-- mag_z_lsst_no_host_extinction: double (nullable = true)\n",
      " |-- sed_3812_236_bulge_no_host_extinction: float (nullable = true)\n",
      " |-- sed_1000_246_disk: float (nullable = true)\n",
      " |-- sed_5148_319_disk_no_host_extinction: float (nullable = true)\n",
      " |-- mag_true_g_sdss: float (nullable = true)\n",
      " |-- sed_4048_251_bulge_no_host_extinction: float (nullable = true)\n",
      "\n"
     ]
    }
   ],
   "source": [
    "df.printSchema()"
   ]
  },
  {
   "cell_type": "code",
   "execution_count": 14,
   "metadata": {},
   "outputs": [],
   "source": [
    "rs=df.select(\"redshift\")"
   ]
  },
  {
   "cell_type": "code",
   "execution_count": 15,
   "metadata": {},
   "outputs": [
    {
     "name": "stdout",
     "output_type": "stream",
     "text": [
      "+--------------------+\n",
      "|            redshift|\n",
      "+--------------------+\n",
      "|0.021649390521782053|\n",
      "|0.021912149530828096|\n",
      "|0.021491185880432306|\n",
      "|0.021335146372658986|\n",
      "|0.006085374726386705|\n",
      "| 0.00623290137713961|\n",
      "|  0.0223237647522454|\n",
      "|0.045172530714958414|\n",
      "|0.046326508639092046|\n",
      "|0.048128892222936814|\n",
      "|   0.045163780350022|\n",
      "|0.042040215567260786|\n",
      "| 0.04728200887845091|\n",
      "| 0.04620169695794596|\n",
      "| 0.04155876672797998|\n",
      "| 0.04503470930495679|\n",
      "|0.046674333402263235|\n",
      "|0.049486323344247296|\n",
      "| 0.04638220212240851|\n",
      "|0.046171963085680945|\n",
      "+--------------------+\n",
      "only showing top 20 rows\n",
      "\n"
     ]
    }
   ],
   "source": [
    "rs.show()"
   ]
  },
  {
   "cell_type": "code",
   "execution_count": 16,
   "metadata": {},
   "outputs": [
    {
     "data": {
      "text/plain": [
       "324194504"
      ]
     },
     "execution_count": 16,
     "metadata": {},
     "output_type": "execute_result"
    }
   ],
   "source": [
    "df.count()"
   ]
  },
  {
   "cell_type": "code",
   "execution_count": 17,
   "metadata": {},
   "outputs": [
    {
     "name": "stdout",
     "output_type": "stream",
     "text": [
      "+-------+--------------------+\n",
      "|summary|            redshift|\n",
      "+-------+--------------------+\n",
      "|  count|           324194504|\n",
      "|   mean|  1.7477061026301262|\n",
      "| stddev|  0.7008758837216199|\n",
      "|    min|4.017381763912198E-4|\n",
      "|    max|   3.189184186507539|\n",
      "+-------+--------------------+\n",
      "\n"
     ]
    }
   ],
   "source": [
    "rs.describe().show()"
   ]
  },
  {
   "cell_type": "code",
   "execution_count": 18,
   "metadata": {},
   "outputs": [
    {
     "data": {
      "text/plain": [
       "[Row(min(redshift)=0.0004017381763912198, max(redshift)=3.189184186507539)]"
      ]
     },
     "execution_count": 18,
     "metadata": {},
     "output_type": "execute_result"
    }
   ],
   "source": [
    "#compute only min and max of \"z\" (see F.min and select in DOC)\n",
    "q=rs[\"redshift\"]\n",
    "rs.agg(F.min(q),F.max(q)).collect()\n"
   ]
  },
  {
   "cell_type": "code",
   "execution_count": 19,
   "metadata": {},
   "outputs": [],
   "source": [
    "minmax = rs.agg(F.min(\"redshift\"), F.max(\"redshift\")).head()"
   ]
  },
  {
   "cell_type": "code",
   "execution_count": 20,
   "metadata": {},
   "outputs": [
    {
     "data": {
      "text/plain": [
       "Row(min(redshift)=0.0004017381763912198, max(redshift)=3.189184186507539)"
      ]
     },
     "execution_count": 20,
     "metadata": {},
     "output_type": "execute_result"
    }
   ],
   "source": [
    "minmax"
   ]
  },
  {
   "cell_type": "markdown",
   "metadata": {},
   "source": [
    "# Histogram"
   ]
  },
  {
   "cell_type": "code",
   "execution_count": 21,
   "metadata": {},
   "outputs": [
    {
     "name": "stdout",
     "output_type": "stream",
     "text": [
      "0.0004017381763912198 3.189184186507539 0.03188782448331148\n"
     ]
    }
   ],
   "source": [
    "#histogram caracteristics\n",
    "#get the minmax values in an array: you already saw how to get the output in a dataframe.\n",
    "# then you can put these values in memory with the \"first()\" function\n",
    "minmax=rs.agg(F.min(\"redshift\"), F.max(\"redshift\")).head()\n",
    "zmin=minmax[0]\n",
    "zmax=minmax[1]\n",
    "Nbins=100\n",
    "dz=(zmax-zmin)/Nbins\n",
    "print(zmin,zmax,dz)"
   ]
  },
  {
   "cell_type": "code",
   "execution_count": 22,
   "metadata": {},
   "outputs": [],
   "source": [
    "bin=rs[\"redshift\"]-zmin"
   ]
  },
  {
   "cell_type": "code",
   "execution_count": 23,
   "metadata": {},
   "outputs": [
    {
     "name": "stdout",
     "output_type": "stream",
     "text": [
      "+--------------------+---+\n",
      "|            redshift|bin|\n",
      "+--------------------+---+\n",
      "|0.021649390521782053|  0|\n",
      "|0.021912149530828096|  0|\n",
      "|0.021491185880432306|  0|\n",
      "|0.021335146372658986|  0|\n",
      "|0.006085374726386705|  0|\n",
      "| 0.00623290137713961|  0|\n",
      "|  0.0223237647522454|  0|\n",
      "|0.045172530714958414|  1|\n",
      "|0.046326508639092046|  1|\n",
      "|0.048128892222936814|  1|\n",
      "|   0.045163780350022|  1|\n",
      "|0.042040215567260786|  1|\n",
      "| 0.04728200887845091|  1|\n",
      "| 0.04620169695794596|  1|\n",
      "| 0.04155876672797998|  1|\n",
      "| 0.04503470930495679|  1|\n",
      "|0.046674333402263235|  1|\n",
      "|0.049486323344247296|  1|\n",
      "| 0.04638220212240851|  1|\n",
      "|0.046171963085680945|  1|\n",
      "+--------------------+---+\n",
      "only showing top 20 rows\n",
      "\n"
     ]
    }
   ],
   "source": [
    "rs=rs.withColumn(\"bin\", ((rs[\"redshift\"]-zmin)/dz).astype('int'))\n",
    "rs.show(20)\n"
   ]
  },
  {
   "cell_type": "code",
   "execution_count": 24,
   "metadata": {},
   "outputs": [
    {
     "name": "stdout",
     "output_type": "stream",
     "text": [
      "+-------+--------------------+------------------+\n",
      "|summary|            redshift|               bin|\n",
      "+-------+--------------------+------------------+\n",
      "|  count|           324194504|         324194504|\n",
      "|   mean|  1.7477061026301262| 54.29512010481214|\n",
      "| stddev|  0.7008758837216199|21.981589444605728|\n",
      "|    min|4.017381763912198E-4|                 0|\n",
      "|    max|   3.189184186507539|                99|\n",
      "+-------+--------------------+------------------+\n",
      "\n"
     ]
    }
   ],
   "source": [
    "rs.describe(['redshift','bin']).show()"
   ]
  },
  {
   "cell_type": "code",
   "execution_count": 25,
   "metadata": {},
   "outputs": [
    {
     "name": "stdout",
     "output_type": "stream",
     "text": [
      "+---+-------+\n",
      "|bin|  count|\n",
      "+---+-------+\n",
      "| 31|3833220|\n",
      "| 85|3468014|\n",
      "| 65|4624266|\n",
      "| 53|4766192|\n",
      "| 78|3937513|\n",
      "| 34|4126149|\n",
      "| 81|3672885|\n",
      "| 28|3587912|\n",
      "| 76|3977208|\n",
      "| 26|3342606|\n",
      "+---+-------+\n",
      "only showing top 10 rows\n",
      "\n"
     ]
    }
   ],
   "source": [
    "# create the h dataframe using groupBy and count\n",
    "h=rs.groupBy(\"bin\").count()\n",
    "# look at some values\n",
    "h.show(10)"
   ]
  },
  {
   "cell_type": "code",
   "execution_count": 26,
   "metadata": {},
   "outputs": [
    {
     "name": "stdout",
     "output_type": "stream",
     "text": [
      "+---+------+\n",
      "|bin| count|\n",
      "+---+------+\n",
      "|  0|  3870|\n",
      "|  1| 28750|\n",
      "|  2| 54336|\n",
      "|  3|120389|\n",
      "|  4|137220|\n",
      "+---+------+\n",
      "only showing top 5 rows\n",
      "\n"
     ]
    }
   ],
   "source": [
    "#sort h (see sort or orderBy in DOC)\n",
    "h=h.sort(\"bin\")\n",
    "#always check some values\n",
    "h.show(5)"
   ]
  },
  {
   "cell_type": "code",
   "execution_count": 27,
   "metadata": {},
   "outputs": [
    {
     "name": "stdout",
     "output_type": "stream",
     "text": [
      "+---+------+--------------------+\n",
      "|bin| count|                 loc|\n",
      "+---+------+--------------------+\n",
      "|  0|  3870| 0.01634565041804696|\n",
      "|  1| 28750|0.048233474901358445|\n",
      "|  2| 54336| 0.08012129938466993|\n",
      "|  3|120389| 0.11200912386798141|\n",
      "|  4|137220|  0.1438969483512929|\n",
      "+---+------+--------------------+\n",
      "only showing top 5 rows\n",
      "\n"
     ]
    }
   ],
   "source": [
    "# add to h a column (named \"loc\") giving the center of the bin\n",
    "h=h.withColumn(\"loc\", zmin+dz*h[\"bin\"]+dz/2)\n",
    "h.show(5)"
   ]
  },
  {
   "cell_type": "code",
   "execution_count": 28,
   "metadata": {},
   "outputs": [
    {
     "name": "stdout",
     "output_type": "stream",
     "text": [
      "Index(['bin', 'count', 'loc'], dtype='object') size=100\n"
     ]
    }
   ],
   "source": [
    "# convert h to a pandas object (see toPandas in DOC)\n",
    "# you may drop the \"bin\" column first (see drop in DOC)\n",
    "p=h.toPandas()\n",
    "print(p.columns,\"size={}\".format(p.index.size))"
   ]
  },
  {
   "cell_type": "code",
   "execution_count": 29,
   "metadata": {},
   "outputs": [
    {
     "data": {
      "image/png": "[encoded data removed]",
      "text/plain": [
       "<Figure size 432x288 with 1 Axes>"
      ]
     },
     "metadata": {},
     "output_type": "display_data"
    }
   ],
   "source": [
    "%matplotlib inline\n",
    "import matplotlib.pyplot as plt\n",
    "plt.bar(p['loc'].values,p['count'].values,dz,color='white',edgecolor='black')\n",
    "plt.xlabel(\"redshift\");"
   ]
  },
  {
   "cell_type": "code",
   "execution_count": null,
   "metadata": {},
   "outputs": [],
   "source": []
  }
 ],
 "metadata": {
  "kernelspec": {
   "display_name": "Python 3",
   "language": "python",
   "name": "python3"
  },
  "language_info": {
   "codemirror_mode": {
    "name": "ipython",
    "version": 3
   },
   "file_extension": ".py",
   "mimetype": "text/x-python",
   "name": "python",
   "nbconvert_exporter": "python",
   "pygments_lexer": "ipython3",
   "version": "3.6.5"
  }
 },
 "nbformat": 4,
 "nbformat_minor": 2
}
