{
 "cells": [
  {
   "cell_type": "markdown",
   "metadata": {},
   "source": [
    "# Recherche des catalogues"
   ]
  },
  {
   "cell_type": "code",
   "execution_count": 1,
   "metadata": {},
   "outputs": [],
   "source": [
    "%matplotlib inline\n",
    "\n",
    "import os\n",
    "\n",
    "import numpy as np\n",
    "import matplotlib.pyplot as plt\n",
    "import pandas as pd"
   ]
  },
  {
   "cell_type": "code",
   "execution_count": 2,
   "metadata": {},
   "outputs": [],
   "source": [
    "import pyarrow"
   ]
  },
  {
   "cell_type": "code",
   "execution_count": 3,
   "metadata": {},
   "outputs": [
    {
     "name": "stdout",
     "output_type": "stream",
     "text": [
      "<SparkContext master=mesos://vm-75063.lal.in2p3.fr:5050 appName=PySparkShell>\n",
      "2.4.4\n"
     ]
    }
   ],
   "source": [
    "# Verify SparkContext\n",
    "print(sc)\n",
    "\n",
    "# Print Spark version\n",
    "print(sc.version)"
   ]
  },
  {
   "cell_type": "code",
   "execution_count": 4,
   "metadata": {},
   "outputs": [],
   "source": [
    "from pyspark.sql.functions import col, pandas_udf \n",
    "from pyspark.sql.types import LongType\n",
    "\n",
    "from pyspark.sql.types import IntegerType,FloatType\n",
    "from pyspark.sql.functions import pandas_udf, PandasUDFType"
   ]
  },
  {
   "cell_type": "code",
   "execution_count": 5,
   "metadata": {},
   "outputs": [],
   "source": [
    "# here is how we create a function ('Ang2Pix') that can be called by dataframes\n",
    "# it takes as input the \"ra\" and \"dec\" values (which are not very different from theta/phi)\n",
    "# and returns the pixel number (but as pandas series for efficiency)\n",
    "import numpy as np\n",
    "import pandas as pd\n",
    "import healpy as hp\n",
    "\n",
    "nside=512"
   ]
  },
  {
   "cell_type": "code",
   "execution_count": 6,
   "metadata": {},
   "outputs": [
    {
     "name": "stdout",
     "output_type": "stream",
     "text": [
      "DEPRECATED: Use of this script to execute hdfs command is deprecated.\n",
      "Instead use the hdfs command for it.\n",
      "\n",
      "Found 5 items\n",
      "drwxr-xr-x   - stephane.plaszczynski lsst          0 2019-09-03 20:04 /lsst/DC2/cosmoDC2/cosmoDC2_v1.1.4_image.parquet\n",
      "drwxr-xr-x   - stephane.plaszczynski lsst          0 2019-10-16 10:52 /lsst/DC2/cosmoDC2/cosmoDC2_v1.1.4_image_double.parquet\n",
      "drwxr-xr-x   - stephane.plaszczynski lsst          0 2020-04-23 17:28 /lsst/DC2/cosmoDC2/cosmoDC2_v1.1.4_image_nofaint.parquet\n",
      "drwxr-xr-x   - stephane.plaszczynski lsst          0 2020-09-07 19:17 /lsst/DC2/cosmoDC2/shear_cosmoDC2\n",
      "drwxr-xr-x   - stephane.plaszczynski lsst          0 2019-04-16 18:40 /lsst/DC2/cosmoDC2/xyz_v1.1.4_hive\n"
     ]
    }
   ],
   "source": [
    "! hadoop dfs -ls /lsst/DC2/cosmoDC2"
   ]
  },
  {
   "cell_type": "code",
   "execution_count": 7,
   "metadata": {},
   "outputs": [
    {
     "name": "stdout",
     "output_type": "stream",
     "text": [
      "DEPRECATED: Use of this script to execute hdfs command is deprecated.\n",
      "Instead use the hdfs command for it.\n",
      "\n",
      "-rw-r--r--   3 stephane.plaszczynski lsst  240603132 2020-09-07 19:14 /lsst/DC2/cosmoDC2/shear_cosmoDC2/10066\n"
     ]
    }
   ],
   "source": [
    "! hadoop dfs -ls /lsst/DC2/cosmoDC2/shear_cosmoDC2/10066/"
   ]
  },
  {
   "cell_type": "code",
   "execution_count": 8,
   "metadata": {},
   "outputs": [],
   "source": [
    "base_dir=\"/lsst/DC2/cosmoDC2/shear_cosmoDC2\""
   ]
  },
  {
   "cell_type": "code",
   "execution_count": 9,
   "metadata": {},
   "outputs": [],
   "source": [
    "fullfilename=\"/lsst/DC2/cosmoDC2/cosmoDC2_v1.1.4_image.parquet\"\n",
    "datafile=fullfilename\n",
    "FLAG_ONE_FILE_INPUT=True"
   ]
  },
  {
   "cell_type": "code",
   "execution_count": 10,
   "metadata": {},
   "outputs": [],
   "source": [
    "#from subprocess import Popen, PIPE\n",
    "#hdfs_path = base_dir\n",
    "#process = Popen(f'hdfs dfs -ls -h {hdfs_path}', shell=True, stdout=PIPE, stderr=PIPE)\n",
    "#std_out, std_err = process.communicate()\n",
    "#list_of_file_names = [fn.split(' ')[-1].split('/')[-1] for fn in std_out.decode().readlines()[1:]][:-1]\n",
    "#list_of_file_names_with_full_address = [fn.split(' ')[-1] for fn in std_out.decode().readlines()[1:]][:-1]"
   ]
  },
  {
   "cell_type": "code",
   "execution_count": 11,
   "metadata": {},
   "outputs": [],
   "source": [
    "#for fn in std_out.readlines():\n",
    "#    print(fn)"
   ]
  },
  {
   "cell_type": "code",
   "execution_count": 12,
   "metadata": {},
   "outputs": [],
   "source": [
    "from pyspark.sql import SparkSession\n",
    "\n",
    "# Initialise our Spark session\n",
    "spark = SparkSession.builder.getOrCreate()"
   ]
  },
  {
   "cell_type": "code",
   "execution_count": 13,
   "metadata": {},
   "outputs": [],
   "source": [
    "# Read the data as DataFrame\n",
    "if FLAG_ONE_FILE_INPUT:\n",
    "    df = spark.read.format(\"parquet\").load(datafile)\n",
    "else: # read all files\n",
    "    #the_list_of_files=os.listdir(base_dir)\n",
    "    #the_sorted_list_of_files=sorted(the_list_of_files)\n",
    "    #print(\"sorted files : \",the_sorted_list_of_files[:5])\n",
    "    #selected_files=[]\n",
    "    #for filename in the_sorted_list_of_files:\n",
    "    #    sel_filename=re.findall(\"^dc2_object_run2.2i_dr6c_tract[0-9][0-9][0-9][0-9].parquet$\",filename)\n",
    "    #    if len(sel_filename) > 0:\n",
    "    #        selected_files.append(sel_filename[0])\n",
    "    #print(\"selected files : \", selected_files[:5])\n",
    "    #InputPath = [base_dir + \"/{}\".format(filename) for filename in selected_files]\n",
    "    InputPath = all_files  # filename from the decoded index file\n",
    "    df = spark.read.parquet(*InputPath)        "
   ]
  },
  {
   "cell_type": "code",
   "execution_count": 14,
   "metadata": {},
   "outputs": [
    {
     "name": "stdout",
     "output_type": "stream",
     "text": [
      "root\n",
      " |-- Mag_true_g_lsst_z0: float (nullable = true)\n",
      " |-- Mag_true_z_lsst_z0: float (nullable = true)\n",
      " |-- ra: float (nullable = true)\n",
      " |-- mag_y: float (nullable = true)\n",
      " |-- mag_z: float (nullable = true)\n",
      " |-- size_true: float (nullable = true)\n",
      " |-- halo_id: long (nullable = true)\n",
      " |-- position_x: float (nullable = true)\n",
      " |-- mag_g: float (nullable = true)\n",
      " |-- Mag_true_u_lsst_z0: float (nullable = true)\n",
      " |-- mag_true_r: float (nullable = true)\n",
      " |-- position_angle_true: float (nullable = true)\n",
      " |-- mag_true_g: float (nullable = true)\n",
      " |-- stellar_mass: float (nullable = true)\n",
      " |-- Mag_true_y_lsst_z0: float (nullable = true)\n",
      " |-- position_y: float (nullable = true)\n",
      " |-- mag_true_i: float (nullable = true)\n",
      " |-- redshift: float (nullable = true)\n",
      " |-- Mag_true_i_lsst_z0: float (nullable = true)\n",
      " |-- mag_r: float (nullable = true)\n",
      " |-- mag_true_y: float (nullable = true)\n",
      " |-- dec: float (nullable = true)\n",
      " |-- mag_true_u: float (nullable = true)\n",
      " |-- Mag_true_r_lsst_z0: float (nullable = true)\n",
      " |-- mag_i: float (nullable = true)\n",
      " |-- position_z: float (nullable = true)\n",
      " |-- mag_u: float (nullable = true)\n",
      " |-- mag_true_z: float (nullable = true)\n",
      " |-- is_central: boolean (nullable = true)\n",
      "\n"
     ]
    }
   ],
   "source": [
    "df.printSchema()"
   ]
  },
  {
   "cell_type": "code",
   "execution_count": null,
   "metadata": {},
   "outputs": [],
   "source": []
  }
 ],
 "metadata": {
  "kernelspec": {
   "display_name": "Python 3",
   "language": "python",
   "name": "python3"
  },
  "language_info": {
   "codemirror_mode": {
    "name": "ipython",
    "version": 3
   },
   "file_extension": ".py",
   "mimetype": "text/x-python",
   "name": "python",
   "nbconvert_exporter": "python",
   "pygments_lexer": "ipython3",
   "version": "3.6.5"
  }
 },
 "nbformat": 4,
 "nbformat_minor": 2
}
