{
 "cells": [
  {
   "cell_type": "markdown",
   "metadata": {},
   "source": [
    "\n",
    "# Use IRSA's Virtual Observatory Table Access Protocol (TAP) Service to access these catalogs.\n",
    "\n",
    "This catalog can be accessed through IRSA's Table Access Protocol (TAP) service. See https://www.ivoa.net/documents/TAP/ for details on the protocol. This service can be accessed through Python using the pvyo library.\n"
   ]
  },
  {
   "cell_type": "markdown",
   "metadata": {},
   "source": [
    "https://irsa.ipac.caltech.edu/data/theory/Cosmosims/gator_docs/CosmoDC2_Mock_V1_Catalog.html\n",
    "\n",
    "https://irsa.ipac.caltech.edu/data/theory/Cosmosims/gator_docs/cosmodc2mockv1_colDescriptions.html\n",
    "\n",
    "https://arxiv.org/pdf/1907.06530.pdf"
   ]
  },
  {
   "cell_type": "code",
   "execution_count": 1,
   "metadata": {},
   "outputs": [],
   "source": [
    "import pyvo as vo"
   ]
  },
  {
   "cell_type": "code",
   "execution_count": 2,
   "metadata": {},
   "outputs": [],
   "source": [
    "service = vo.dal.TAPService(\"https://irsa.ipac.caltech.edu/TAP\")"
   ]
  },
  {
   "cell_type": "code",
   "execution_count": 3,
   "metadata": {},
   "outputs": [
    {
     "name": "stdout",
     "output_type": "stream",
     "text": [
      "cosmodc2mockv1\n",
      "    CosmoDC2MockV1 Catalog - unabridged, spatially partitioned\n",
      "\n",
      "cosmodc2mockv1_heavy\n",
      "    CosmoDC2MockV1 Catalog - stellar mass > 10^7 Msun\n",
      "\n",
      "cosmodc2mockv1_new\n",
      "    CosmoDC2MockV1 Catalog - unabridged\n",
      "\n"
     ]
    }
   ],
   "source": [
    "tables = service.tables\n",
    "for tablename in tables.keys():\n",
    "    if not \"tap_schema\" in tablename:\n",
    "        if \"dc2\" in tablename:\n",
    "            tables[tablename].describe()\n"
   ]
  },
  {
   "cell_type": "markdown",
   "metadata": {},
   "source": [
    "# Choose the DC2 catalog you want to work with.\n",
    "\n",
    "IRSA currently offers 3 versions of the DC2 catalog.\n",
    "\n",
    "cosmodc2mockv1_new has been optimized to make searches with constraints on stellar mass and redshift fast.\n",
    "\n",
    "cosmodc2mockv1 has been optimized to make searches with spatial constraints fast.\n",
    "\n",
    "cosmodc2mockv1_heavy is the same as cosmodc2mockv1_new, except that it does not contain galaxies with stellar masses <= 10^7 solar masses.\n",
    "\n",
    "If you are new to the DC2 catalog, we recommend that you start with cosmodc2mockv1_heavy\n"
   ]
  },
  {
   "cell_type": "code",
   "execution_count": 4,
   "metadata": {},
   "outputs": [],
   "source": [
    "#Choose the abridged table to start with.\n",
    "#Queries should be faster on smaller tables.\n",
    "\n",
    "tablename = 'cosmodc2mockv1_heavy'"
   ]
  },
  {
   "cell_type": "markdown",
   "metadata": {},
   "source": [
    "\n",
    "## How many rows are in the chosen table?\n",
    "\n",
    "With TAP, you can query catalogs with constraints specified in IVOA Astronomical Data Query Language (ADQL; https://www.ivoa.net/documents/latest/ADQL.html), which is based on SQL.\n"
   ]
  },
  {
   "cell_type": "code",
   "execution_count": 5,
   "metadata": {},
   "outputs": [
    {
     "data": {
      "text/plain": [
       "'SELECT count(redshift) FROM cosmodc2mockv1_heavy'"
      ]
     },
     "execution_count": 5,
     "metadata": {},
     "output_type": "execute_result"
    }
   ],
   "source": [
    "#For example, this snippet of ADQL counts the number of elements in \n",
    "#the redshift column of the table we chose.\n",
    "adql = \"SELECT count(redshift) FROM \"+tablename\n",
    "adql"
   ]
  },
  {
   "cell_type": "code",
   "execution_count": 6,
   "metadata": {},
   "outputs": [
    {
     "data": {
      "text/plain": [
       "<Table length=1>\n",
       "count(redshift)\n",
       "    float64    \n",
       "---------------\n",
       "    597488849.0"
      ]
     },
     "execution_count": 6,
     "metadata": {},
     "output_type": "execute_result"
    }
   ],
   "source": [
    "#In order to use TAP with this ADQL string using pyvo, you can do the following:\n",
    "result = service.search(adql)\n",
    "result\n"
   ]
  },
  {
   "cell_type": "code",
   "execution_count": 7,
   "metadata": {},
   "outputs": [],
   "source": [
    "#The above query shows that there are 597,488,849 redshifts \n",
    "#in this table."
   ]
  },
  {
   "cell_type": "markdown",
   "metadata": {},
   "source": [
    "\n",
    "## What is the default maximum number of rows returned by the service?\n",
    "\n",
    "This service will return a maximum of 2 billion rows by default.\n",
    "\n"
   ]
  },
  {
   "cell_type": "code",
   "execution_count": 8,
   "metadata": {},
   "outputs": [
    {
     "name": "stderr",
     "output_type": "stream",
     "text": [
      "WARNING: UnknownElementWarning: None:27:6: UnknownElementWarning: Unknown element queryType [pyvo.utils.xml.elements]\n",
      "WARNING: UnknownElementWarning: None:28:6: UnknownElementWarning: Unknown element resultType [pyvo.utils.xml.elements]\n",
      "WARNING: UnknownElementWarning: None:36:6: UnknownElementWarning: Unknown element queryType [pyvo.utils.xml.elements]\n",
      "WARNING: UnknownElementWarning: None:37:6: UnknownElementWarning: Unknown element resultType [pyvo.utils.xml.elements]\n"
     ]
    },
    {
     "data": {
      "text/plain": [
       "2000000000"
      ]
     },
     "execution_count": 8,
     "metadata": {},
     "output_type": "execute_result"
    }
   ],
   "source": [
    "service.maxrec"
   ]
  },
  {
   "cell_type": "markdown",
   "metadata": {},
   "source": [
    "This default maximum can be changed, and there is no hard upper limit to what it can be changed to."
   ]
  },
  {
   "cell_type": "code",
   "execution_count": 9,
   "metadata": {},
   "outputs": [
    {
     "name": "stdout",
     "output_type": "stream",
     "text": [
      "None\n"
     ]
    }
   ],
   "source": [
    "print(service.hardlimit)"
   ]
  },
  {
   "cell_type": "markdown",
   "metadata": {},
   "source": [
    "\n",
    "## List the columns in the chosen table\n",
    "\n",
    "This table contains 301 columns.\n"
   ]
  },
  {
   "cell_type": "code",
   "execution_count": 10,
   "metadata": {},
   "outputs": [
    {
     "name": "stdout",
     "output_type": "stream",
     "text": [
      "301\n"
     ]
    }
   ],
   "source": [
    "columns = tables[tablename].columns\n",
    "print(len(columns))"
   ]
  },
  {
   "cell_type": "code",
   "execution_count": 11,
   "metadata": {
    "scrolled": false
   },
   "outputs": [
    {
     "name": "stdout",
     "output_type": "stream",
     "text": [
      "ra                              Right ascension, lensed\n",
      "dec                             Declination, lensed\n",
      "ra_true                         Right ascension, not lensed\n",
      "dec_true                        Declination, not lensed\n",
      "redshift                        Cosmological redshift with line-of-sight motion\n",
      "redshift_true                   Cosmological redshift\n",
      "mag_u_lsst                      Apparent magnitude, lensed, in 'u' with LSST\n",
      "mag_g_lsst                      Apparent magnitude, lensed, in 'g' with LSST\n",
      "mag_r_lsst                      Apparent magnitude, lensed, in 'r' with LSST\n",
      "mag_i_lsst                      Apparent magnitude, lensed, in 'i' with LSST\n",
      "mag_z_lsst                      Apparent magnitude, lensed, in 'z' with LSST\n",
      "mag_y_lsst                      Apparent magnitude, lensed, in 'y' with LSST\n",
      "mag_u_sdss                      Apparent magnitude, lensed, in 'u' with SDSS\n",
      "mag_g_sdss                      Apparent magnitude, lensed, in 'g' with SDSS\n",
      "mag_r_sdss                      Apparent magnitude, lensed, in 'r' with SDSS\n",
      "mag_i_sdss                      Apparent magnitude, lensed, in 'i' with SDSS\n",
      "mag_z_sdss                      Apparent magnitude, lensed, in 'z' with SDSS\n",
      "mag_true_u_lsst                 Apparent magnitude, not lensed, in 'u' with LSST\n",
      "mag_true_g_lsst                 Apparent magnitude, not lensed, in 'g' with LSST\n",
      "mag_true_r_lsst                 Apparent magnitude, not lensed, in 'r' with LSST\n",
      "mag_true_i_lsst                 Apparent magnitude, not lensed, in 'i' with LSST\n",
      "mag_true_z_lsst                 Apparent magnitude, not lensed, in 'z' with LSST\n",
      "mag_true_y_lsst                 Apparent magnitude, not lensed, in 'y' with LSST\n",
      "mag_true_u_sdss                 Apparent magnitude, not lensed, in 'u' with SDSS\n",
      "mag_true_g_sdss                 Apparent magnitude, not lensed, in 'g' with SDSS\n",
      "mag_true_r_sdss                 Apparent magnitude, not lensed, in 'r' with SDSS\n",
      "mag_true_i_sdss                 Apparent magnitude, not lensed, in 'i' with SDSS\n",
      "mag_true_z_sdss                 Apparent magnitude, not lensed, in 'z' with SDSS\n",
      "mag_true_u_lsst_z0              Rest-frame absolute magnitude, not lensed, in 'u' with LSST\n",
      "mag_true_g_lsst_z0              Rest-frame absolute magnitude, not lensed, in 'g' with LSST\n",
      "mag_true_r_lsst_z0              Rest-frame absolute magnitude, not lensed, in 'r' with LSST\n",
      "mag_true_i_lsst_z0              Rest-frame absolute magnitude, not lensed, in 'i' with LSST\n",
      "mag_true_z_lsst_z0              Rest-frame absolute magnitude, not lensed, in 'z' with LSST\n",
      "mag_true_y_lsst_z0              Rest-frame absolute magnitude, not lensed, in 'y' with LSST\n",
      "mag_true_u_sdss_z0              Rest-frame absolute magnitude, not lensed, in 'u' with SDSS\n",
      "mag_true_g_sdss_z0              Rest-frame absolute magnitude, not lensed, in 'g' with SDSS\n",
      "mag_true_r_sdss_z0              Rest-frame absolute magnitude, not lensed, in 'r' with SDSS\n",
      "mag_true_i_sdss_z0              Rest-frame absolute magnitude, not lensed, in 'i' with SDSS\n",
      "mag_true_z_sdss_z0              Rest-frame absolute magnitude, not lensed, in 'z' with SDSS\n",
      "mag_u_lsst_no_ext               Apparent magnitude, lensed, in 'u' with LSST without dust extinction in the host galaxy\n",
      "mag_g_lsst_no_ext               Apparent magnitude, lensed, in 'g' with LSST without dust extinction in the host galaxy\n",
      "mag_r_lsst_no_ext               Apparent magnitude, lensed, in 'r' with LSST without dust extinction in the host galaxy\n",
      "mag_i_lsst_no_ext               Apparent magnitude, lensed, in 'i' with LSST without dust extinction in the host galaxy\n",
      "mag_z_lsst_no_ext               Apparent magnitude, lensed, in 'z' with LSST without dust extinction in the host galaxy\n",
      "mag_y_lsst_no_ext               Apparent magnitude, lensed, in 'y' with LSST without dust extinction in the host galaxy\n",
      "mag_u_sdss_no_ext               Apparent magnitude, lensed, in 'u' with SDSS without dust extinction in the host galaxy\n",
      "mag_g_sdss_no_ext               Apparent magnitude, lensed, in 'g' with SDSS without dust extinction in the host galaxy\n",
      "mag_r_sdss_no_ext               Apparent magnitude, lensed, in 'r' with SDSS without dust extinction in the host galaxy\n",
      "mag_i_sdss_no_ext               Apparent magnitude, lensed, in 'i' with SDSS without dust extinction in the host galaxy\n",
      "mag_z_sdss_no_ext               Apparent magnitude, lensed, in 'z' with SDSS without dust extinction in the host galaxy\n",
      "mag_true_u_lsst_no_ext          Apparent magnitude, not lensed, in 'u' with LSST without dust extinction in the host galaxy\n",
      "mag_true_g_lsst_no_ext          Apparent magnitude, not lensed, in 'g' with LSST without dust extinction in the host galaxy\n",
      "mag_true_r_lsst_no_ext          Apparent magnitude, not lensed, in 'r' with LSST without dust extinction in the host galaxy\n",
      "mag_true_i_lsst_no_ext          Apparent magnitude, not lensed, in 'i' with LSST without dust extinction in the host galaxy\n",
      "mag_true_z_lsst_no_ext          Apparent magnitude, not lensed, in 'z' with LSST without dust extinction in the host galaxy\n",
      "mag_true_y_lsst_no_ext          Apparent magnitude, not lensed, in 'y' with LSST without dust extinction in the host galaxy\n",
      "mag_true_u_sdss_no_ext          Apparent magnitude, not lensed, in 'u' with SDSS without dust extinction in the host galaxy\n",
      "mag_true_g_sdss_no_ext          Apparent magnitude, not lensed, in 'g' with SDSS without dust extinction in the host galaxy\n",
      "mag_true_r_sdss_no_ext          Apparent magnitude, not lensed, in 'r' with SDSS without dust extinction in the host galaxy\n",
      "mag_true_i_sdss_no_ext          Apparent magnitude, not lensed, in 'i' with SDSS without dust extinction in the host galaxy\n",
      "mag_true_z_sdss_no_ext          Apparent magnitude, not lensed, in 'z' with SDSS without dust extinction in the host galaxy\n",
      "mag_true_u_lsst_z0_no_ext       Rest-frame absolute magnitude, not lensed, in 'u' with LSST without dust extinction in the host galaxy\n",
      "mag_true_g_lsst_z0_no_ext       Rest-frame absolute magnitude, not lensed, in 'g' with LSST without dust extinction in the host galaxy\n",
      "mag_true_r_lsst_z0_no_ext       Rest-frame absolute magnitude, not lensed, in 'r' with LSST without dust extinction in the host galaxy\n",
      "mag_true_i_lsst_z0_no_ext       Rest-frame absolute magnitude, not lensed, in 'i' with LSST without dust extinction in the host galaxy\n",
      "mag_true_z_lsst_z0_no_ext       Rest-frame absolute magnitude, not lensed, in 'z' with LSST without dust extinction in the host galaxy\n",
      "mag_true_y_lsst_z0_no_ext       Rest-frame absolute magnitude, not lensed, in 'y' with LSST without dust extinction in the host galaxy\n",
      "mag_true_u_sdss_z0_no_ext       Rest-frame absolute magnitude, not lensed, in 'u' with SDSS without dust extinction in the host galaxy\n",
      "mag_true_g_sdss_z0_no_ext       Rest-frame absolute magnitude, not lensed, in 'g' with SDSS without dust extinction in the host galaxy\n",
      "mag_true_r_sdss_z0_no_ext       Rest-frame absolute magnitude, not lensed, in 'r' with SDSS without dust extinction in the host galaxy\n",
      "mag_true_i_sdss_z0_no_ext       Rest-frame absolute magnitude, not lensed, in 'i' with SDSS without dust extinction in the host galaxy\n",
      "mag_true_z_sdss_z0_no_ext       Rest-frame absolute magnitude, not lensed, in 'z' with SDSS without dust extinction in the host galaxy\n",
      "sersic_disk                     Sersic index of disk light profile\n",
      "sersic_bulge                    Sersic index of bulge light profile\n",
      "a_v                             Extinction in V-band, for galaxy light profile\n",
      "a_v_disk                        Extinction in V-band, for disk light profile\n",
      "a_v_bulge                       Extinction in V-band, for bulge light profile\n",
      "r_v                             Ratio of total to selective extinction in B and V bands, for galaxy light profile\n",
      "r_v_disk                        Ratio of total to selective extinction in B and V bands, for disk light profile\n",
      "r_v_bulge                       Ratio of total to selective extinction in B and V bands, for bulge light profile\n",
      "size_true                       Galaxy half-light radius (of major axis), not lensed\n",
      "size_minor_true                 Galaxy half-light radius (of minor axis), not lensed\n",
      "size_disk_true                  Disk half-light radius (of major axis), not lensed\n",
      "size_minor_disk_true            Disk half-light radius (of minor axis), not lensed\n",
      "size_bulge_true                 Bulge half-light radius (of major axis), not lensed\n",
      "size_minor_bulge_true           Bulge half-light radius (of minor axis), not lensed\n",
      "position_angle_true             Position angle (arctan(E2/E1)), for galaxy, not lensed\n",
      "ellipticity_true                Ellipticity (= sqrt(E1^2+E2^2) = (1-q)/(1+q)), for galaxy, not lensed, where q = size_minor_true/size_true\n",
      "ellipticity_1_true              Ellipticity component 1, for galaxy, not lensed\n",
      "ellipticity_2_true              Ellipticity component 2, for galaxy, not lensed\n",
      "ellipticity_disk_true           Ellipticity (= sqrt(E1^2+E2^2) = (1-q)/(1+q)), for disk, not lensed, where q = size_minor_disk_true/size_disk_true\n",
      "ellipticity_1_disk_true         Ellipticity component 1, for disk, not lensed\n",
      "ellipticity_2_disk_true         Ellipticity component 2, for disk, not lensed\n",
      "ellipticity_bulge_true          Ellipticity (= sqrt(E1^2+E2^2) = (1-q)/(1+q)), for bulge, not lensed, where q = size_minor_bulge_true/size_bulge_true\n",
      "ellipticity_1_bulge_true        Ellipticity component 1, for bulge, not lensed\n",
      "ellipticity_2_bulge_true        Ellipticity component 2, for bulge, not lensed\n",
      "shear_1                         Shear (gamma) component 1 in treecorr/GalSim convention\n",
      "shear_2                         Shear (gamma) component 2 in treecorr/GalSim convention\n",
      "shear_2_phosim                  Shear (gamma) component 2 in PhoSim convention ( = -shear_2 )\n",
      "shear_2_treecorr                Shear (gamma) component 2 in treecorr/GalSim convention ( = shear_2 )\n",
      "convergence                     Convergence (kappa)\n",
      "magnification                   Magnification\n",
      "galaxy_id                       Unique integer identifier\n",
      "halo_id                         Unique ID of the main halo that contains the galaxy\n",
      "halo_mass                       Halo mass of the main halo that contains the galaxy\n",
      "stellar_mass                    Total stellar mass of the galaxy\n",
      "stellar_mass_disk               Stellar mass of the disk component\n",
      "stellar_mass_bulge              Stellar mass of the bulge component\n",
      "bulge_to_total_ratio_i          bulge-to-total luminosity ratio in 'i'\n",
      "is_central                      1 if the galaxy is the central galaxy of the main halo, 0 otherwise.\n",
      "position_x                      3D position (x coordinate)\n",
      "position_y                      3D position (y coordinate)\n",
      "position_z                      3D position (z coordinate)\n",
      "velocity_x                      3D velocity (x component)\n",
      "velocity_y                      3D velocity (y component)\n",
      "velocity_z                      3D velocity (z component)\n",
      "sed_1000_246                    Integrated, rest-frame, AB luminosity for a narrow tophat filter from 1000 to 1246 in Angstroms\n",
      "sed_1246_306                    Integrated, rest-frame, AB luminosity for a narrow tophat filter from 1246 to 1552 in Angstroms\n",
      "sed_1552_381                    Integrated, rest-frame, AB luminosity for a narrow tophat filter from 1552 to 1933 in Angstroms\n",
      "sed_1933_474                    Integrated, rest-frame, AB luminosity for a narrow tophat filter from 1933 to 2407 in Angstroms\n",
      "sed_2407_591                    Integrated, rest-frame, AB luminosity for a narrow tophat filter from 2407 to 2998 in Angstroms\n",
      "sed_2998_186                    Integrated, rest-frame, AB luminosity for a narrow tophat filter from 2998 to 3184 in Angstroms\n",
      "sed_3184_197                    Integrated, rest-frame, AB luminosity for a narrow tophat filter from 3184 to 3381 in Angstroms\n",
      "sed_3381_209                    Integrated, rest-frame, AB luminosity for a narrow tophat filter from 3381 to 3590 in Angstroms\n",
      "sed_3590_222                    Integrated, rest-frame, AB luminosity for a narrow tophat filter from 3590 to 3812 in Angstroms\n",
      "sed_3812_236                    Integrated, rest-frame, AB luminosity for a narrow tophat filter from 3812 to 4048 in Angstroms\n",
      "sed_4048_251                    Integrated, rest-frame, AB luminosity for a narrow tophat filter from 4048 to 4299 in Angstroms\n",
      "sed_4299_266                    Integrated, rest-frame, AB luminosity for a narrow tophat filter from 4299 to 4565 in Angstroms\n",
      "sed_4565_283                    Integrated, rest-frame, AB luminosity for a narrow tophat filter from 4565 to 4848 in Angstroms\n",
      "sed_4848_300                    Integrated, rest-frame, AB luminosity for a narrow tophat filter from 4848 to 5148 in Angstroms\n",
      "sed_5148_319                    Integrated, rest-frame, AB luminosity for a narrow tophat filter from 5148 to 5467 in Angstroms\n",
      "sed_5467_339                    Integrated, rest-frame, AB luminosity for a narrow tophat filter from 5467 to 5806 in Angstroms\n",
      "sed_5806_360                    Integrated, rest-frame, AB luminosity for a narrow tophat filter from 5806 to 6166 in Angstroms\n",
      "sed_6166_382                    Integrated, rest-frame, AB luminosity for a narrow tophat filter from 6166 to 6548 in Angstroms\n",
      "sed_6548_406                    Integrated, rest-frame, AB luminosity for a narrow tophat filter from 6548 to 6954 in Angstroms\n",
      "sed_6954_431                    Integrated, rest-frame, AB luminosity for a narrow tophat filter from 6954 to 7385 in Angstroms\n",
      "sed_7385_458                    Integrated, rest-frame, AB luminosity for a narrow tophat filter from 7385 to 7843 in Angstroms\n",
      "sed_7843_486                    Integrated, rest-frame, AB luminosity for a narrow tophat filter from 7843 to 8329 in Angstroms\n",
      "sed_8329_517                    Integrated, rest-frame, AB luminosity for a narrow tophat filter from 8329 to 8846 in Angstroms\n",
      "sed_8846_549                    Integrated, rest-frame, AB luminosity for a narrow tophat filter from 8846 to 9395 in Angstroms\n",
      "sed_9395_583                    Integrated, rest-frame, AB luminosity for a narrow tophat filter from 9395 to 9978 in Angstroms\n",
      "sed_9978_1489                   Integrated, rest-frame, AB luminosity for a narrow tophat filter from 9978 to 11467 in Angstroms\n",
      "sed_11467_1710                  Integrated, rest-frame, AB luminosity for a narrow tophat filter from 11467 to 13177 in Angstroms\n",
      "sed_13177_1966                  Integrated, rest-frame, AB luminosity for a narrow tophat filter from 13177 to 15143 in Angstroms\n",
      "sed_15143_2259                  Integrated, rest-frame, AB luminosity for a narrow tophat filter from 15143 to 17402 in Angstroms\n",
      "sed_17402_2596                  Integrated, rest-frame, AB luminosity for a narrow tophat filter from 17402 to 19998 in Angstroms\n",
      "sed_1000_246_disk               Same as sed_1000_246 but for disk\n",
      "sed_1246_306_disk               Same as sed_1246_306 but for disk\n",
      "sed_1552_381_disk               Same as sed_1552_381 but for disk\n",
      "sed_1933_474_disk               Same as sed_1933_474 but for disk\n",
      "sed_2407_591_disk               Same as sed_2407_591 but for disk\n",
      "sed_2998_186_disk               Same as sed_2998_186 but for disk\n",
      "sed_3184_197_disk               Same as sed_3184_197 but for disk\n",
      "sed_3381_209_disk               Same as sed_3381_209 but for disk\n",
      "sed_3590_222_disk               Same as sed_3590_222 but for disk\n",
      "sed_3812_236_disk               Same as sed_3812_236 but for disk\n",
      "sed_4048_251_disk               Same as sed_4048_251 but for disk\n",
      "sed_4299_266_disk               Same as sed_4299_266 but for disk\n",
      "sed_4565_283_disk               Same as sed_4565_283 but for disk\n",
      "sed_4848_300_disk               Same as sed_4848_300 but for disk\n",
      "sed_5148_319_disk               Same as sed_5148_319 but for disk\n",
      "sed_5467_339_disk               Same as sed_5467_339 but for disk\n",
      "sed_5806_360_disk               Same as sed_5806_360 but for disk\n",
      "sed_6166_382_disk               Same as sed_6166_382 but for disk\n",
      "sed_6548_406_disk               Same as sed_6548_406 but for disk\n",
      "sed_6954_431_disk               Same as sed_6954_431 but for disk\n",
      "sed_7385_458_disk               Same as sed_7385_458 but for disk\n",
      "sed_7843_486_disk               Same as sed_7843_486 but for disk\n",
      "sed_8329_517_disk               Same as sed_8329_517 but for disk\n",
      "sed_8846_549_disk               Same as sed_8846_549 but for disk\n",
      "sed_9395_583_disk               Same as sed_9395_583 but for disk\n",
      "sed_9978_1489_disk              Same as sed_9978_1489 but for disk\n",
      "sed_11467_1710_disk             Same as sed_11467_1710 but for disk\n",
      "sed_13177_1966_disk             Same as sed_13177_1966 but for disk\n",
      "sed_15143_2259_disk             Same as sed_15143_2259 but for disk\n",
      "sed_17402_2596_disk             Same as sed_17402_2596 but for disk\n",
      "sed_1000_246_bulge              Same as sed_1000_246 but for bulge\n",
      "sed_1246_306_bulge              Same as sed_1246_306 but for bulge\n",
      "sed_1552_381_bulge              Same as sed_1552_381 but for bulge\n",
      "sed_1933_474_bulge              Same as sed_1933_474 but for bulge\n",
      "sed_2407_591_bulge              Same as sed_2407_591 but for bulge\n",
      "sed_2998_186_bulge              Same as sed_2998_186 but for bulge\n",
      "sed_3184_197_bulge              Same as sed_3184_197 but for bulge\n",
      "sed_3381_209_bulge              Same as sed_3381_209 but for bulge\n",
      "sed_3590_222_bulge              Same as sed_3590_222 but for bulge\n",
      "sed_3812_236_bulge              Same as sed_3812_236 but for bulge\n",
      "sed_4048_251_bulge              Same as sed_4048_251 but for bulge\n",
      "sed_4299_266_bulge              Same as sed_4299_266 but for bulge\n",
      "sed_4565_283_bulge              Same as sed_4565_283 but for bulge\n",
      "sed_4848_300_bulge              Same as sed_4848_300 but for bulge\n",
      "sed_5148_319_bulge              Same as sed_5148_319 but for bulge\n",
      "sed_5467_339_bulge              Same as sed_5467_339 but for bulge\n",
      "sed_5806_360_bulge              Same as sed_5806_360 but for bulge\n",
      "sed_6166_382_bulge              Same as sed_6166_382 but for bulge\n",
      "sed_6548_406_bulge              Same as sed_6548_406 but for bulge\n",
      "sed_6954_431_bulge              Same as sed_6954_431 but for bulge\n",
      "sed_7385_458_bulge              Same as sed_7385_458 but for bulge\n",
      "sed_7843_486_bulge              Same as sed_7843_486 but for bulge\n",
      "sed_8329_517_bulge              Same as sed_8329_517 but for bulge\n",
      "sed_8846_549_bulge              Same as sed_8846_549 but for bulge\n",
      "sed_9395_583_bulge              Same as sed_9395_583 but for bulge\n",
      "sed_9978_1489_bulge             Same as sed_9978_1489 but for bulge\n",
      "sed_11467_1710_bulge            Same as sed_11467_1710 but for bulge\n",
      "sed_13177_1966_bulge            Same as sed_13177_1966 but for bulge\n",
      "sed_15143_2259_bulge            Same as sed_15143_2259 but for bulge\n",
      "sed_17402_2596_bulge            Same as sed_17402_2596 but for bulge\n",
      "sed_1000_246_no_ext             Same as sed_1000_246 but without dust extinction in the host galaxy\n",
      "sed_1246_306_no_ext             Same as sed_1246_306 but without dust extinction in the host galaxy\n",
      "sed_1552_381_no_ext             Same as sed_1552_381 but without dust extinction in the host galaxy\n",
      "sed_1933_474_no_ext             Same as sed_1933_474 but without dust extinction in the host galaxy\n",
      "sed_2407_591_no_ext             Same as sed_2407_591 but without dust extinction in the host galaxy\n",
      "sed_2998_186_no_ext             Same as sed_2998_186 but without dust extinction in the host galaxy\n",
      "sed_3184_197_no_ext             Same as sed_3184_197 but without dust extinction in the host galaxy\n",
      "sed_3381_209_no_ext             Same as sed_3381_209 but without dust extinction in the host galaxy\n",
      "sed_3590_222_no_ext             Same as sed_3590_222 but without dust extinction in the host galaxy\n",
      "sed_3812_236_no_ext             Same as sed_3812_236 but without dust extinction in the host galaxy\n",
      "sed_4048_251_no_ext             Same as sed_4048_251 but without dust extinction in the host galaxy\n",
      "sed_4299_266_no_ext             Same as sed_4299_266 but without dust extinction in the host galaxy\n",
      "sed_4565_283_no_ext             Same as sed_4565_283 but without dust extinction in the host galaxy\n",
      "sed_4848_300_no_ext             Same as sed_4848_300 but without dust extinction in the host galaxy\n",
      "sed_5148_319_no_ext             Same as sed_5148_319 but without dust extinction in the host galaxy\n",
      "sed_5467_339_no_ext             Same as sed_5467_339 but without dust extinction in the host galaxy\n",
      "sed_5806_360_no_ext             Same as sed_5806_360 but without dust extinction in the host galaxy\n",
      "sed_6166_382_no_ext             Same as sed_6166_382 but without dust extinction in the host galaxy\n",
      "sed_6548_406_no_ext             Same as sed_6548_406 but without dust extinction in the host galaxy\n",
      "sed_6954_431_no_ext             Same as sed_6954_431 but without dust extinction in the host galaxy\n",
      "sed_7385_458_no_ext             Same as sed_7385_458 but without dust extinction in the host galaxy\n",
      "sed_7843_486_no_ext             Same as sed_7843_486 but without dust extinction in the host galaxy\n",
      "sed_8329_517_no_ext             Same as sed_8329_517 but without dust extinction in the host galaxy\n",
      "sed_8846_549_no_ext             Same as sed_8846_549 but without dust extinction in the host galaxy\n",
      "sed_9395_583_no_ext             Same as sed_9395_583 but without dust extinction in the host galaxy\n",
      "sed_9978_1489_no_ext            Same as sed_9978_1489 but without dust extinction in the host galaxy\n",
      "sed_11467_1710_no_ext           Same as sed_11467_1710 but without dust extinction in the host galaxy\n",
      "sed_13177_1966_no_ext           Same as sed_13177_1966 but without dust extinction in the host galaxy\n",
      "sed_15143_2259_no_ext           Same as sed_15143_2259 but without dust extinction in the host galaxy\n",
      "sed_17402_2596_no_ext           Same as sed_17402_2596 but without dust extinction in the host galaxy\n",
      "sed_1000_246_disk_no_ext        Same as sed_1000_246_no_ext but for disk\n",
      "sed_1246_306_disk_no_ext        Same as sed_1246_306_no_ext but for disk\n",
      "sed_1552_381_disk_no_ext        Same as sed_1552_381_no_ext but for disk\n",
      "sed_1933_474_disk_no_ext        Same as sed_1933_474_no_ext but for disk\n",
      "sed_2407_591_disk_no_ext        Same as sed_2407_591_no_ext but for disk\n",
      "sed_2998_186_disk_no_ext        Same as sed_2998_186_no_ext but for disk\n",
      "sed_3184_197_disk_no_ext        Same as sed_3184_197_no_ext but for disk\n",
      "sed_3381_209_disk_no_ext        Same as sed_3381_209_no_ext but for disk\n",
      "sed_3590_222_disk_no_ext        Same as sed_3590_222_no_ext but for disk\n",
      "sed_3812_236_disk_no_ext        Same as sed_3812_236_no_ext but for disk\n",
      "sed_4048_251_disk_no_ext        Same as sed_4048_251_no_ext but for disk\n",
      "sed_4299_266_disk_no_ext        Same as sed_4299_266_no_ext but for disk\n",
      "sed_4565_283_disk_no_ext        Same as sed_4565_283_no_ext but for disk\n",
      "sed_4848_300_disk_no_ext        Same as sed_4848_300_no_ext but for disk\n",
      "sed_5148_319_disk_no_ext        Same as sed_5148_319_no_ext but for disk\n",
      "sed_5467_339_disk_no_ext        Same as sed_5467_339_no_ext but for disk\n",
      "sed_5806_360_disk_no_ext        Same as sed_5806_360_no_ext but for disk\n",
      "sed_6166_382_disk_no_ext        Same as sed_6166_382_no_ext but for disk\n",
      "sed_6548_406_disk_no_ext        Same as sed_6548_406_no_ext but for disk\n",
      "sed_6954_431_disk_no_ext        Same as sed_6954_431_no_ext but for disk\n",
      "sed_7385_458_disk_no_ext        Same as sed_7385_458_no_ext but for disk\n",
      "sed_7843_486_disk_no_ext        Same as sed_7843_486_no_ext but for disk\n",
      "sed_8329_517_disk_no_ext        Same as sed_8329_517_no_ext but for disk\n",
      "sed_8846_549_disk_no_ext        Same as sed_8846_549_no_ext but for disk\n",
      "sed_9395_583_disk_no_ext        Same as sed_9395_583_no_ext but for disk\n",
      "sed_1000_246_bulge_no_ext       Same as sed_1000_246_no_ext but for bulge\n",
      "sed_1246_306_bulge_no_ext       Same as sed_1246_306_no_ext but for bulge\n",
      "sed_1552_381_bulge_no_ext       Same as sed_1552_381_no_ext but for bulge\n",
      "sed_1933_474_bulge_no_ext       Same as sed_1933_474_no_ext but for bulge\n",
      "sed_2407_591_bulge_no_ext       Same as sed_2407_591_no_ext but for bulge\n",
      "sed_2998_186_bulge_no_ext       Same as sed_2998_186_no_ext but for bulge\n",
      "sed_3184_197_bulge_no_ext       Same as sed_3184_197_no_ext but for bulge\n",
      "sed_3381_209_bulge_no_ext       Same as sed_3381_209_no_ext but for bulge\n",
      "sed_3590_222_bulge_no_ext       Same as sed_3590_222_no_ext but for bulge\n",
      "sed_3812_236_bulge_no_ext       Same as sed_3812_236_no_ext but for bulge\n",
      "sed_4048_251_bulge_no_ext       Same as sed_4048_251_no_ext but for bulge\n",
      "sed_4299_266_bulge_no_ext       Same as sed_4299_266_no_ext but for bulge\n",
      "sed_4565_283_bulge_no_ext       Same as sed_4565_283_no_ext but for bulge\n",
      "sed_4848_300_bulge_no_ext       Same as sed_4848_300_no_ext but for bulge\n",
      "sed_5148_319_bulge_no_ext       Same as sed_5148_319_no_ext but for bulge\n",
      "sed_5467_339_bulge_no_ext       Same as sed_5467_339_no_ext but for bulge\n",
      "sed_5806_360_bulge_no_ext       Same as sed_5806_360_no_ext but for bulge\n",
      "sed_6166_382_bulge_no_ext       Same as sed_6166_382_no_ext but for bulge\n",
      "sed_6548_406_bulge_no_ext       Same as sed_6548_406_no_ext but for bulge\n",
      "sed_6954_431_bulge_no_ext       Same as sed_6954_431_no_ext but for bulge\n",
      "sed_7385_458_bulge_no_ext       Same as sed_7385_458_no_ext but for bulge\n",
      "sed_7843_486_bulge_no_ext       Same as sed_7843_486_no_ext but for bulge\n",
      "sed_8329_517_bulge_no_ext       Same as sed_8329_517_no_ext but for bulge\n",
      "sed_8846_549_bulge_no_ext       Same as sed_8846_549_no_ext but for bulge\n",
      "sed_9395_583_bulge_no_ext       Same as sed_9395_583_no_ext but for bulge\n",
      "sed_9978_1489_disk_no_ext       Same as sed_9978_1489_no_ext but for disk\n",
      "sed_11467_1710_disk_no_ext      Same as sed_11467_1710_no_ext but for disk\n",
      "sed_13177_1966_disk_no_ext      Same as sed_13177_1966_no_ext but for disk\n",
      "sed_15143_2259_disk_no_ext      Same as sed_15143_2259_no_ext but for disk\n",
      "sed_17402_2596_disk_no_ext      Same as sed_17402_2596_no_ext but for disk\n",
      "sed_9978_1489_bulge_no_ext      Same as sed_9978_1489_no_ext but for bulge\n",
      "sed_11467_1710_bulge_no_ext     Same as sed_11467_1710_no_ext but for bulge\n",
      "sed_13177_1966_bulge_no_ext     Same as sed_13177_1966_no_ext but for bulge\n",
      "sed_15143_2259_bulge_no_ext     Same as sed_15143_2259_no_ext but for bulge\n",
      "sed_17402_2596_bulge_no_ext     Same as sed_17402_2596_no_ext but for bulge\n",
      "cntr                            None\n",
      "x                               None\n",
      "y                               None\n",
      "z                               None\n",
      "htm20                           None\n"
     ]
    }
   ],
   "source": [
    "for c in columns:\n",
    "    print(f'{f\"{c.name}\":30s}  {c.description}')"
   ]
  },
  {
   "cell_type": "markdown",
   "metadata": {},
   "source": [
    "\n",
    "# Create a histogram of redshifts\n",
    "\n",
    "Let's figure out what redshift range these galaxies cover. Since we found out above that it's a large catalog, we can start with a spatial search over a small area of 0.1 deg. The ADQL that is needed for the spatial constraint is:\n"
   ]
  },
  {
   "cell_type": "code",
   "execution_count": 12,
   "metadata": {},
   "outputs": [
    {
     "data": {
      "text/plain": [
       "\"SELECT redshift FROM cosmodc2mockv1_heavy WHERE CONTAINS(POINT('ICRS', RAMean, DecMean), CIRCLE('ICRS',54.218205903,-37.497959343,.1))=1\""
      ]
     },
     "execution_count": 12,
     "metadata": {},
     "output_type": "execute_result"
    }
   ],
   "source": [
    "adql = \"SELECT redshift FROM \"+tablename+\" WHERE CONTAINS(POINT('ICRS', RAMean, DecMean), CIRCLE('ICRS',54.218205903,-37.497959343,.1))=1\"\n",
    "adql"
   ]
  },
  {
   "cell_type": "code",
   "execution_count": 13,
   "metadata": {},
   "outputs": [],
   "source": [
    "cone_results = service.search(adql)"
   ]
  },
  {
   "cell_type": "code",
   "execution_count": 14,
   "metadata": {},
   "outputs": [
    {
     "data": {
      "text/plain": [
       "Text(0.5, 1.0, 'Redshift Histogram CosmoDC2 Mock Catalog V1 abridged')"
      ]
     },
     "execution_count": 14,
     "metadata": {},
     "output_type": "execute_result"
    },
    {
     "data": {
      "image/png": "[encoded data removed]",
      "text/plain": [
       "<Figure size 432x288 with 1 Axes>"
      ]
     },
     "metadata": {
      "needs_background": "light"
     },
     "output_type": "display_data"
    }
   ],
   "source": [
    "#Plot a histogram\n",
    "import numpy as np\n",
    "import matplotlib.mlab as mlab\n",
    "import matplotlib.pyplot as plt\n",
    "\n",
    "num_bins = 20\n",
    "# the histogram of the data\n",
    "n, bins, patches = plt.hist(cone_results['redshift'], num_bins, \n",
    "                           facecolor='blue', alpha = 0.5)\n",
    "plt.xlabel('Redshift')\n",
    "plt.ylabel('Number')\n",
    "plt.title('Redshift Histogram CosmoDC2 Mock Catalog V1 abridged')"
   ]
  },
  {
   "cell_type": "markdown",
   "metadata": {},
   "source": [
    "\n",
    "\n",
    "We can easily see form this plot that the simulated galaxies go out to z = 3.\n",
    "# Visualize galaxy colors at z ~ 0.5\n",
    "\n",
    "Now let's visualize the galaxy main sequence at z = 2.0. First we'll do a narrow redshift cut with no spatial constraint.\n"
   ]
  },
  {
   "cell_type": "code",
   "execution_count": 15,
   "metadata": {},
   "outputs": [],
   "source": [
    "#Let's do an asynchronous search since this might take awhile.\n",
    "service = vo.dal.TAPService(\"https://irsa.ipac.caltech.edu/TAP\")\n",
    "adql = \"SELECT Mag_true_r_sdss_z0, Mag_true_g_sdss_z0, redshift FROM \"+tablename+\" WHERE redshift > 0.5 and redshift < 0.54\"\n",
    "results = service.run_async(adql)"
   ]
  },
  {
   "cell_type": "code",
   "execution_count": 16,
   "metadata": {},
   "outputs": [
    {
     "data": {
      "text/plain": [
       "3833489"
      ]
     },
     "execution_count": 16,
     "metadata": {},
     "output_type": "execute_result"
    }
   ],
   "source": [
    "len(results['mag_true_r_sdss_z0'])"
   ]
  },
  {
   "cell_type": "code",
   "execution_count": 19,
   "metadata": {},
   "outputs": [],
   "source": [
    "x=results['mag_true_r_sdss_z0']\n",
    "y=results['mag_true_g_sdss_z0']-results['mag_true_r_sdss_z0']"
   ]
  },
  {
   "cell_type": "code",
   "execution_count": 20,
   "metadata": {},
   "outputs": [
    {
     "data": {
      "image/png": "[encoded data removed]",
      "text/plain": [
       "<Figure size 432x288 with 2 Axes>"
      ]
     },
     "metadata": {
      "needs_background": "light"
     },
     "output_type": "display_data"
    }
   ],
   "source": [
    "# Since this results in almost 4 million galaxies, \n",
    "# we will construct a 2D histogram rather than a scatter plot.\n",
    "plt.hist2d(x, y, bins=200, cmap='plasma', cmax = 500)\n",
    "\n",
    "# Plot a colorbar with label.\n",
    "cb = plt.colorbar()\n",
    "cb.set_label('Number')\n",
    "\n",
    "# Add title and labels to plot.\n",
    "#plt.title('Heatmap of 2D normally distributed data points')\n",
    "plt.xlabel('SDSS Mag r')\n",
    "plt.ylabel('SDSS rest-frame g-r color')\n",
    "\n",
    "# Show the plot.\n",
    "plt.show()"
   ]
  },
  {
   "cell_type": "code",
   "execution_count": null,
   "metadata": {},
   "outputs": [],
   "source": []
  }
 ],
 "metadata": {
  "kernelspec": {
   "display_name": "Python 3",
   "language": "python",
   "name": "python3"
  },
  "language_info": {
   "codemirror_mode": {
    "name": "ipython",
    "version": 3
   },
   "file_extension": ".py",
   "mimetype": "text/x-python",
   "name": "python",
   "nbconvert_exporter": "python",
   "pygments_lexer": "ipython3",
   "version": "3.8.5"
  }
 },
 "nbformat": 4,
 "nbformat_minor": 4
}
