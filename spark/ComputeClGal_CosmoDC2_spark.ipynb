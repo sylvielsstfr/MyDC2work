{
 "cells": [
  {
   "cell_type": "markdown",
   "metadata": {},
   "source": [
    "# Compute Cl on galaxy overdensities on CosmoDC2\n",
    "\n",
    "- author : Sylvie Dagoret-Campagne\n",
    "- affliliation : IJCLab/in2p3/CNRS\n",
    "- creation date : July 29th 2020\n"
   ]
  },
  {
   "cell_type": "code",
   "execution_count": 2,
   "metadata": {},
   "outputs": [],
   "source": [
    "%matplotlib inline\n",
    "\n",
    "import os\n",
    "\n",
    "import numpy as np\n",
    "import matplotlib.pyplot as plt\n",
    "import pandas as pd"
   ]
  },
  {
   "cell_type": "code",
   "execution_count": 3,
   "metadata": {},
   "outputs": [],
   "source": [
    "import pyarrow"
   ]
  },
  {
   "cell_type": "code",
   "execution_count": 4,
   "metadata": {},
   "outputs": [
    {
     "data": {
      "text/plain": [
       "'0.15.1'"
      ]
     },
     "execution_count": 4,
     "metadata": {},
     "output_type": "execute_result"
    }
   ],
   "source": [
    "pyarrow.__version__"
   ]
  },
  {
   "cell_type": "code",
   "execution_count": 5,
   "metadata": {},
   "outputs": [],
   "source": [
    "from pyspark.sql.functions import col, pandas_udf \n",
    "from pyspark.sql.types import LongType\n",
    "\n",
    "from pyspark.sql.types import IntegerType,FloatType\n",
    "from pyspark.sql.functions import pandas_udf, PandasUDFType"
   ]
  },
  {
   "cell_type": "code",
   "execution_count": 6,
   "metadata": {},
   "outputs": [],
   "source": [
    "# here is how we create a function ('Ang2Pix') that can be called by dataframes\n",
    "# it takes as input the \"ra\" and \"dec\" values (which are not very different from theta/phi)\n",
    "# and returns the pixel number (but as pandas series for efficiency)\n",
    "import numpy as np\n",
    "import pandas as pd\n",
    "import healpy as hp\n",
    "\n",
    "nside=512"
   ]
  },
  {
   "cell_type": "code",
   "execution_count": 7,
   "metadata": {},
   "outputs": [],
   "source": [
    "npix = hp.nside2npix(nside)\n",
    "lmax = 3 * nside"
   ]
  },
  {
   "cell_type": "code",
   "execution_count": 8,
   "metadata": {},
   "outputs": [],
   "source": [
    "def Ang2Pix_func(ra: pd.Series, dec: pd.Series) -> pd.Series:\n",
    "    return pd.Series(hp.ang2pix(nside,np.radians(90-dec),np.radians(ra)))"
   ]
  },
  {
   "cell_type": "code",
   "execution_count": 9,
   "metadata": {},
   "outputs": [],
   "source": [
    "pd_ang2pix = pandas_udf(Ang2Pix_func, returnType=IntegerType())\n",
    "#gal = gal.withColumn(\"ihealpix\",pd_ang2pix(gal[\"RA\"],gal[\"DEC\"]))"
   ]
  },
  {
   "cell_type": "markdown",
   "metadata": {},
   "source": [
    "## Get parquet files\n"
   ]
  },
  {
   "cell_type": "markdown",
   "metadata": {},
   "source": [
    "### scan all availables files"
   ]
  },
  {
   "cell_type": "code",
   "execution_count": 10,
   "metadata": {},
   "outputs": [],
   "source": [
    "import os,re"
   ]
  },
  {
   "cell_type": "code",
   "execution_count": 11,
   "metadata": {},
   "outputs": [],
   "source": [
    "the_input_dir=\"/global/cfs/cdirs/lsst/shared/DC2-prod/Run2.2i/truth/galtruth\""
   ]
  },
  {
   "cell_type": "code",
   "execution_count": 12,
   "metadata": {},
   "outputs": [],
   "source": [
    "the_list_of_files=os.listdir(the_input_dir)"
   ]
  },
  {
   "cell_type": "code",
   "execution_count": 19,
   "metadata": {},
   "outputs": [
    {
     "data": {
      "text/plain": [
       "['truth_summary_hp9304.sqlite3',\n",
       " 'truth_summary_hp10194.sqlite3',\n",
       " 'truth_summary_hp9945.parquet',\n",
       " 'truth_summary_hp9939.parquet',\n",
       " 'truth_summary_hp9944.sqlite3']"
      ]
     },
     "execution_count": 19,
     "metadata": {},
     "output_type": "execute_result"
    }
   ],
   "source": [
    "the_list_of_files[:5]"
   ]
  },
  {
   "cell_type": "markdown",
   "metadata": {},
   "source": [
    "### sort all files"
   ]
  },
  {
   "cell_type": "code",
   "execution_count": 20,
   "metadata": {},
   "outputs": [],
   "source": [
    "the_sorted_list_of_files=sorted(the_list_of_files)"
   ]
  },
  {
   "cell_type": "markdown",
   "metadata": {},
   "source": [
    "### filter the good parquet files"
   ]
  },
  {
   "cell_type": "code",
   "execution_count": 21,
   "metadata": {},
   "outputs": [],
   "source": [
    "selected_files=[]\n",
    "for filename in the_sorted_list_of_files:\n",
    "    sel_filename=re.findall(\"^truth_summary_hp.*.parquet$\",filename)\n",
    "    if len(sel_filename) > 0:\n",
    "        selected_files.append(sel_filename[0])"
   ]
  },
  {
   "cell_type": "code",
   "execution_count": 22,
   "metadata": {},
   "outputs": [
    {
     "data": {
      "text/plain": [
       "['truth_summary_hp10066.parquet',\n",
       " 'truth_summary_hp10067.parquet',\n",
       " 'truth_summary_hp10068.parquet',\n",
       " 'truth_summary_hp10069.parquet',\n",
       " 'truth_summary_hp10070.parquet']"
      ]
     },
     "execution_count": 22,
     "metadata": {},
     "output_type": "execute_result"
    }
   ],
   "source": [
    "selected_files[:5]"
   ]
  },
  {
   "cell_type": "code",
   "execution_count": 23,
   "metadata": {},
   "outputs": [],
   "source": [
    "InputPath = [the_input_dir + \"/{}\".format(filename) for filename in selected_files]"
   ]
  },
  {
   "cell_type": "markdown",
   "metadata": {},
   "source": [
    "### Read files with spark"
   ]
  },
  {
   "cell_type": "code",
   "execution_count": 24,
   "metadata": {},
   "outputs": [],
   "source": [
    "from pyspark.sql import SparkSession\n",
    "\n",
    "# Initialise our Spark session\n",
    "spark = SparkSession.builder.getOrCreate()\n",
    "\n",
    "# Read the data as DataFrame\n",
    "#df = spark.read.format(\"parquet\").load(datafile)"
   ]
  },
  {
   "cell_type": "code",
   "execution_count": 25,
   "metadata": {},
   "outputs": [],
   "source": [
    "#InputPath = [base_dir + \"/dc2_object_run2.2i_dr6b_tract2897.parquet\",\n",
    "#             base_dir + \"/dc2_object_run2.2i_dr6b_tract2898.parquet\"]\n",
    "\n",
    "df = spark.read.parquet(*InputPath)"
   ]
  },
  {
   "cell_type": "code",
   "execution_count": 26,
   "metadata": {},
   "outputs": [],
   "source": [
    "df = df.repartition(df.rdd.getNumPartitions())"
   ]
  },
  {
   "cell_type": "markdown",
   "metadata": {},
   "source": [
    "### DC2 Object catalog Schema"
   ]
  },
  {
   "cell_type": "code",
   "execution_count": 27,
   "metadata": {},
   "outputs": [
    {
     "name": "stdout",
     "output_type": "stream",
     "text": [
      "root\n",
      " |-- id: long (nullable = true)\n",
      " |-- host_galaxy: long (nullable = true)\n",
      " |-- ra: double (nullable = true)\n",
      " |-- dec: double (nullable = true)\n",
      " |-- redshift: float (nullable = true)\n",
      " |-- is_variable: integer (nullable = true)\n",
      " |-- is_pointsource: integer (nullable = true)\n",
      " |-- flux_u: float (nullable = true)\n",
      " |-- flux_g: float (nullable = true)\n",
      " |-- flux_r: float (nullable = true)\n",
      " |-- flux_i: float (nullable = true)\n",
      " |-- flux_z: float (nullable = true)\n",
      " |-- flux_y: float (nullable = true)\n",
      " |-- flux_u_noMW: float (nullable = true)\n",
      " |-- flux_g_noMW: float (nullable = true)\n",
      " |-- flux_r_noMW: float (nullable = true)\n",
      " |-- flux_i_noMW: float (nullable = true)\n",
      " |-- flux_z_noMW: float (nullable = true)\n",
      " |-- flux_y_noMW: float (nullable = true)\n",
      "\n"
     ]
    }
   ],
   "source": [
    "# Check what we have in the file\n",
    "df.printSchema()"
   ]
  },
  {
   "cell_type": "code",
   "execution_count": 29,
   "metadata": {},
   "outputs": [],
   "source": [
    "df_gal=df.filter('is_pointsource == false')"
   ]
  },
  {
   "cell_type": "code",
   "execution_count": 30,
   "metadata": {},
   "outputs": [],
   "source": [
    "pd_ang2pix = pandas_udf(Ang2Pix_func, returnType=IntegerType())\n",
    "df_gal_healpix = df_gal.withColumn(\"ihealpix\",pd_ang2pix(df_gal[\"ra\"],df_gal[\"dec\"]))"
   ]
  },
  {
   "cell_type": "code",
   "execution_count": 31,
   "metadata": {},
   "outputs": [
    {
     "name": "stdout",
     "output_type": "stream",
     "text": [
      "root\n",
      " |-- id: long (nullable = true)\n",
      " |-- host_galaxy: long (nullable = true)\n",
      " |-- ra: double (nullable = true)\n",
      " |-- dec: double (nullable = true)\n",
      " |-- redshift: float (nullable = true)\n",
      " |-- is_variable: integer (nullable = true)\n",
      " |-- is_pointsource: integer (nullable = true)\n",
      " |-- flux_u: float (nullable = true)\n",
      " |-- flux_g: float (nullable = true)\n",
      " |-- flux_r: float (nullable = true)\n",
      " |-- flux_i: float (nullable = true)\n",
      " |-- flux_z: float (nullable = true)\n",
      " |-- flux_y: float (nullable = true)\n",
      " |-- flux_u_noMW: float (nullable = true)\n",
      " |-- flux_g_noMW: float (nullable = true)\n",
      " |-- flux_r_noMW: float (nullable = true)\n",
      " |-- flux_i_noMW: float (nullable = true)\n",
      " |-- flux_z_noMW: float (nullable = true)\n",
      " |-- flux_y_noMW: float (nullable = true)\n",
      " |-- ihealpix: integer (nullable = true)\n",
      "\n"
     ]
    }
   ],
   "source": [
    "df_gal_healpix.printSchema()"
   ]
  },
  {
   "cell_type": "code",
   "execution_count": 32,
   "metadata": {},
   "outputs": [],
   "source": [
    "df_gal_healpix_small=df_gal_healpix.select('ra','dec','ihealpix')"
   ]
  },
  {
   "cell_type": "code",
   "execution_count": 33,
   "metadata": {},
   "outputs": [
    {
     "name": "stdout",
     "output_type": "stream",
     "text": [
      "+-------+------------------+-------------------+------------------+\n",
      "|summary|                ra|                dec|          ihealpix|\n",
      "+-------+------------------+-------------------+------------------+\n",
      "|  count|         943828477|          943828477|         943828477|\n",
      "|   mean|61.806423064022624|-35.198415981597776| 2474036.867791798|\n",
      "| stddev| 7.668031675203601|  5.873232421766818|131049.71135771515|\n",
      "|    min| 47.73195595578662| -46.60694933341967|           2225472|\n",
      "|    max| 75.97287254648704| -24.59513201507679|           2716447|\n",
      "+-------+------------------+-------------------+------------------+\n",
      "\n"
     ]
    }
   ],
   "source": [
    "df_gal_healpix_small.describe().show()"
   ]
  },
  {
   "cell_type": "code",
   "execution_count": 34,
   "metadata": {},
   "outputs": [
    {
     "name": "stdout",
     "output_type": "stream",
     "text": [
      "+--------+-----+\n",
      "|ihealpix|count|\n",
      "+--------+-----+\n",
      "| 2587928|29491|\n",
      "| 2596134|29005|\n",
      "| 2585905|28652|\n",
      "| 2594125|29454|\n",
      "| 2577756|28733|\n",
      "+--------+-----+\n",
      "only showing top 5 rows\n",
      "\n"
     ]
    }
   ],
   "source": [
    "m=df_gal_healpix_small.groupBy('ihealpix').count()\n",
    "m.show(5)"
   ]
  },
  {
   "cell_type": "code",
   "execution_count": null,
   "metadata": {},
   "outputs": [],
   "source": [
    "#m.orderBy('ihealpix', ascending=True).show(10)"
   ]
  },
  {
   "cell_type": "code",
   "execution_count": 40,
   "metadata": {},
   "outputs": [
    {
     "name": "stdout",
     "output_type": "stream",
     "text": [
      "<class 'pandas.core.frame.DataFrame'>\n",
      "RangeIndex: 34488 entries, 0 to 34487\n",
      "Data columns (total 2 columns):\n",
      " #   Column    Non-Null Count  Dtype\n",
      "---  ------    --------------  -----\n",
      " 0   ihealpix  34488 non-null  int32\n",
      " 1   count     34488 non-null  int64\n",
      "dtypes: int32(1), int64(1)\n",
      "memory usage: 404.3 KB\n"
     ]
    }
   ],
   "source": [
    "# get to python world (to Pandas) : \n",
    "# note that here is the action (lazy evaluation so far)\n",
    "p=m.toPandas()\n",
    "p.info()"
   ]
  },
  {
   "cell_type": "code",
   "execution_count": 36,
   "metadata": {},
   "outputs": [
    {
     "data": {
      "text/html": [
       "<div>\n",
       "<style scoped>\n",
       "    .dataframe tbody tr th:only-of-type {\n",
       "        vertical-align: middle;\n",
       "    }\n",
       "\n",
       "    .dataframe tbody tr th {\n",
       "        vertical-align: top;\n",
       "    }\n",
       "\n",
       "    .dataframe thead th {\n",
       "        text-align: right;\n",
       "    }\n",
       "</style>\n",
       "<table border=\"1\" class=\"dataframe\">\n",
       "  <thead>\n",
       "    <tr style=\"text-align: right;\">\n",
       "      <th></th>\n",
       "      <th>ihealpix</th>\n",
       "      <th>count</th>\n",
       "    </tr>\n",
       "  </thead>\n",
       "  <tbody>\n",
       "    <tr>\n",
       "      <th>0</th>\n",
       "      <td>2587928</td>\n",
       "      <td>29491</td>\n",
       "    </tr>\n",
       "    <tr>\n",
       "      <th>1</th>\n",
       "      <td>2596134</td>\n",
       "      <td>29005</td>\n",
       "    </tr>\n",
       "    <tr>\n",
       "      <th>2</th>\n",
       "      <td>2585905</td>\n",
       "      <td>28652</td>\n",
       "    </tr>\n",
       "    <tr>\n",
       "      <th>3</th>\n",
       "      <td>2594125</td>\n",
       "      <td>29454</td>\n",
       "    </tr>\n",
       "    <tr>\n",
       "      <th>4</th>\n",
       "      <td>2577756</td>\n",
       "      <td>28733</td>\n",
       "    </tr>\n",
       "    <tr>\n",
       "      <th>...</th>\n",
       "      <td>...</td>\n",
       "      <td>...</td>\n",
       "    </tr>\n",
       "    <tr>\n",
       "      <th>34483</th>\n",
       "      <td>2538918</td>\n",
       "      <td>27429</td>\n",
       "    </tr>\n",
       "    <tr>\n",
       "      <th>34484</th>\n",
       "      <td>2701391</td>\n",
       "      <td>3</td>\n",
       "    </tr>\n",
       "    <tr>\n",
       "      <th>34485</th>\n",
       "      <td>2489776</td>\n",
       "      <td>7</td>\n",
       "    </tr>\n",
       "    <tr>\n",
       "      <th>34486</th>\n",
       "      <td>2270484</td>\n",
       "      <td>3</td>\n",
       "    </tr>\n",
       "    <tr>\n",
       "      <th>34487</th>\n",
       "      <td>2540819</td>\n",
       "      <td>1</td>\n",
       "    </tr>\n",
       "  </tbody>\n",
       "</table>\n",
       "<p>34488 rows × 2 columns</p>\n",
       "</div>"
      ],
      "text/plain": [
       "       ihealpix  count\n",
       "0       2587928  29491\n",
       "1       2596134  29005\n",
       "2       2585905  28652\n",
       "3       2594125  29454\n",
       "4       2577756  28733\n",
       "...         ...    ...\n",
       "34483   2538918  27429\n",
       "34484   2701391      3\n",
       "34485   2489776      7\n",
       "34486   2270484      3\n",
       "34487   2540819      1\n",
       "\n",
       "[34488 rows x 2 columns]"
      ]
     },
     "execution_count": 36,
     "metadata": {},
     "output_type": "execute_result"
    }
   ],
   "source": [
    "p"
   ]
  },
  {
   "cell_type": "code",
   "execution_count": 41,
   "metadata": {},
   "outputs": [
    {
     "name": "stderr",
     "output_type": "stream",
     "text": [
      "/global/common/software/lsst/common/miniconda/py3.7-4.7.12.1-pyarrow/envs/desc/lib/python3.7/site-packages/healpy/projaxes.py:209: MatplotlibDeprecationWarning: Passing parameters norm and vmin/vmax simultaneously is deprecated since 3.3 and will become an error two minor releases later. Please pass vmin/vmax directly to the norm when creating it.\n",
      "  **kwds\n"
     ]
    },
    {
     "name": "stdout",
     "output_type": "stream",
     "text": [
      "0.0 180.0 -180.0 180.0\n",
      "The interval between parallels is 30 deg -0.00'.\n",
      "The interval between meridians is 30 deg -0.00'.\n"
     ]
    },
    {
     "data": {
      "image/png": "[encoded data removed]",
      "text/plain": [
       "<Figure size 612x388.8 with 2 Axes>"
      ]
     },
     "metadata": {
      "needs_background": "light"
     },
     "output_type": "display_data"
    }
   ],
   "source": [
    "# the following doesn't has anything to do with spark (only Healpix)\n",
    "hpMap = np.zeros(hp.nside2npix(nside))\n",
    "#fill the map from the pandas object\n",
    "hpMap[p['ihealpix'].values]=p['count'].values\n",
    "#plot using standard healpy function\n",
    "hp.mollview(hpMap,cmap=\"jet\")\n",
    "hp.graticule(color='white')"
   ]
  },
  {
   "cell_type": "code",
   "execution_count": 42,
   "metadata": {},
   "outputs": [],
   "source": [
    "cl = hp.anafast(hpMap)\n",
    "ell = np.arange(len(cl))"
   ]
  },
  {
   "cell_type": "code",
   "execution_count": 44,
   "metadata": {},
   "outputs": [
    {
     "data": {
      "text/plain": [
       "Text(0.5, 1.0, 'CosmoDC2 : $C_\\\\ell$ by healpix/anafast')"
      ]
     },
     "execution_count": 44,
     "metadata": {},
     "output_type": "execute_result"
    },
    {
     "data": {
      "image/png": "[encoded data removed]",
      "text/plain": [
       "<Figure size 432x288 with 1 Axes>"
      ]
     },
     "metadata": {
      "needs_background": "light"
     },
     "output_type": "display_data"
    }
   ],
   "source": [
    "plt.plot(ell,cl,\"ro\")\n",
    "plt.yscale('log')\n",
    "plt.xlabel(\"$\\ell$\")\n",
    "plt.ylabel(\"$C_\\ell$\")\n",
    "plt.title(\"{} : $C_\\ell$ by healpix/anafast\".format(\"CosmoDC2\"))"
   ]
  },
  {
   "cell_type": "code",
   "execution_count": 45,
   "metadata": {},
   "outputs": [
    {
     "data": {
      "text/plain": [
       "1536"
      ]
     },
     "execution_count": 45,
     "metadata": {},
     "output_type": "execute_result"
    }
   ],
   "source": [
    "lmax"
   ]
  },
  {
   "cell_type": "code",
   "execution_count": 47,
   "metadata": {},
   "outputs": [
    {
     "data": {
      "image/png": "[encoded data removed]",
      "text/plain": [
       "<Figure size 432x288 with 1 Axes>"
      ]
     },
     "metadata": {
      "needs_background": "light"
     },
     "output_type": "display_data"
    }
   ],
   "source": [
    "plt.hist(hpMap,bins=int(100))\n",
    "plt.yscale('log')\n",
    "plt.show()"
   ]
  },
  {
   "cell_type": "code",
   "execution_count": 48,
   "metadata": {},
   "outputs": [
    {
     "data": {
      "text/plain": [
       "(3145728,)"
      ]
     },
     "execution_count": 48,
     "metadata": {},
     "output_type": "execute_result"
    }
   ],
   "source": [
    "hpMap.shape"
   ]
  },
  {
   "cell_type": "code",
   "execution_count": null,
   "metadata": {},
   "outputs": [],
   "source": []
  }
 ],
 "metadata": {
  "kernelspec": {
   "display_name": "desc-pyspark",
   "language": "python",
   "name": "desc-pyspark"
  },
  "language_info": {
   "codemirror_mode": {
    "name": "ipython",
    "version": 3
   },
   "file_extension": ".py",
   "mimetype": "text/x-python",
   "name": "python",
   "nbconvert_exporter": "python",
   "pygments_lexer": "ipython3",
   "version": "3.7.6"
  }
 },
 "nbformat": 4,
 "nbformat_minor": 4
}
