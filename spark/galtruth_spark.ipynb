{
 "cells": [
  {
   "cell_type": "markdown",
   "metadata": {},
   "source": [
    "# Get truth from cosmoDC2"
   ]
  },
  {
   "cell_type": "code",
   "execution_count": 1,
   "metadata": {},
   "outputs": [],
   "source": [
    "%matplotlib inline\n",
    "\n",
    "import os\n",
    "\n",
    "import numpy as np\n",
    "import matplotlib.pyplot as plt"
   ]
  },
  {
   "cell_type": "code",
   "execution_count": 2,
   "metadata": {},
   "outputs": [],
   "source": [
    "base_dir=\"/global/cfs/cdirs/lsst/shared/DC2-prod/Run2.2i/truth/galtruth\""
   ]
  },
  {
   "cell_type": "code",
   "execution_count": 3,
   "metadata": {},
   "outputs": [],
   "source": [
    "import os,re"
   ]
  },
  {
   "cell_type": "code",
   "execution_count": 4,
   "metadata": {},
   "outputs": [],
   "source": [
    "the_list_of_files=os.listdir(base_dir)"
   ]
  },
  {
   "cell_type": "code",
   "execution_count": 5,
   "metadata": {},
   "outputs": [
    {
     "data": {
      "text/plain": [
       "['truth_summary_hp9304.sqlite3',\n",
       " 'truth_summary_hp10194.sqlite3',\n",
       " 'truth_summary_hp9945.parquet',\n",
       " 'truth_summary_hp9939.parquet',\n",
       " 'truth_summary_hp9944.sqlite3',\n",
       " 'truth_summary_hp9425.parquet',\n",
       " 'truth_summary_hp9306.sqlite3',\n",
       " 'truth_summary_hp10071.parquet',\n",
       " 'truth_summary_hp9304.parquet',\n",
       " 'truth_summary_hp9937.parquet']"
      ]
     },
     "execution_count": 5,
     "metadata": {},
     "output_type": "execute_result"
    }
   ],
   "source": [
    "the_list_of_files[:10]"
   ]
  },
  {
   "cell_type": "code",
   "execution_count": 7,
   "metadata": {},
   "outputs": [],
   "source": [
    "selected_files=[]\n",
    "for filename in the_list_of_files:\n",
    "    sel_filename=re.findall(\"^truth_summary_hp[0-9][0-9][0-9][0-9].parquet$\",filename)\n",
    "    if len(sel_filename) > 0:\n",
    "        selected_files.append(sel_filename[0])"
   ]
  },
  {
   "cell_type": "code",
   "execution_count": 16,
   "metadata": {},
   "outputs": [
    {
     "data": {
      "text/plain": [
       "94"
      ]
     },
     "execution_count": 16,
     "metadata": {},
     "output_type": "execute_result"
    }
   ],
   "source": [
    "len(selected_files)"
   ]
  },
  {
   "cell_type": "code",
   "execution_count": 8,
   "metadata": {},
   "outputs": [],
   "source": [
    "selected_files=sorted(selected_files)"
   ]
  },
  {
   "cell_type": "code",
   "execution_count": 9,
   "metadata": {},
   "outputs": [
    {
     "data": {
      "text/plain": [
       "['truth_summary_hp8786.parquet',\n",
       " 'truth_summary_hp8787.parquet',\n",
       " 'truth_summary_hp8788.parquet',\n",
       " 'truth_summary_hp8789.parquet',\n",
       " 'truth_summary_hp8790.parquet',\n",
       " 'truth_summary_hp8791.parquet',\n",
       " 'truth_summary_hp8792.parquet',\n",
       " 'truth_summary_hp8793.parquet',\n",
       " 'truth_summary_hp8794.parquet',\n",
       " 'truth_summary_hp8913.parquet',\n",
       " 'truth_summary_hp8914.parquet',\n",
       " 'truth_summary_hp8915.parquet',\n",
       " 'truth_summary_hp8916.parquet',\n",
       " 'truth_summary_hp8917.parquet',\n",
       " 'truth_summary_hp8918.parquet',\n",
       " 'truth_summary_hp8919.parquet',\n",
       " 'truth_summary_hp8920.parquet',\n",
       " 'truth_summary_hp8921.parquet',\n",
       " 'truth_summary_hp9042.parquet',\n",
       " 'truth_summary_hp9043.parquet']"
      ]
     },
     "execution_count": 9,
     "metadata": {},
     "output_type": "execute_result"
    }
   ],
   "source": [
    "selected_files[:20]"
   ]
  },
  {
   "cell_type": "code",
   "execution_count": 10,
   "metadata": {},
   "outputs": [],
   "source": [
    "from pyspark.sql import SparkSession\n",
    "\n",
    "# Initialise our Spark session\n",
    "spark = SparkSession.builder.getOrCreate()\n"
   ]
  },
  {
   "cell_type": "code",
   "execution_count": 11,
   "metadata": {},
   "outputs": [],
   "source": [
    "InputPath = [base_dir + \"/{}\".format(filename) for filename in selected_files[:1]]"
   ]
  },
  {
   "cell_type": "code",
   "execution_count": 12,
   "metadata": {},
   "outputs": [
    {
     "data": {
      "text/plain": [
       "['/global/cfs/cdirs/lsst/shared/DC2-prod/Run2.2i/truth/galtruth/truth_summary_hp8786.parquet']"
      ]
     },
     "execution_count": 12,
     "metadata": {},
     "output_type": "execute_result"
    }
   ],
   "source": [
    "InputPath"
   ]
  },
  {
   "cell_type": "code",
   "execution_count": 13,
   "metadata": {},
   "outputs": [],
   "source": [
    "df = spark.read.parquet(*InputPath)"
   ]
  },
  {
   "cell_type": "code",
   "execution_count": 14,
   "metadata": {},
   "outputs": [],
   "source": [
    "df = df.repartition(df.rdd.getNumPartitions())"
   ]
  },
  {
   "cell_type": "code",
   "execution_count": 15,
   "metadata": {},
   "outputs": [
    {
     "name": "stdout",
     "output_type": "stream",
     "text": [
      "root\n",
      " |-- id: long (nullable = true)\n",
      " |-- host_galaxy: long (nullable = true)\n",
      " |-- ra: double (nullable = true)\n",
      " |-- dec: double (nullable = true)\n",
      " |-- redshift: float (nullable = true)\n",
      " |-- is_variable: integer (nullable = true)\n",
      " |-- is_pointsource: integer (nullable = true)\n",
      " |-- flux_u: float (nullable = true)\n",
      " |-- flux_g: float (nullable = true)\n",
      " |-- flux_r: float (nullable = true)\n",
      " |-- flux_i: float (nullable = true)\n",
      " |-- flux_z: float (nullable = true)\n",
      " |-- flux_y: float (nullable = true)\n",
      " |-- flux_u_noMW: float (nullable = true)\n",
      " |-- flux_g_noMW: float (nullable = true)\n",
      " |-- flux_r_noMW: float (nullable = true)\n",
      " |-- flux_i_noMW: float (nullable = true)\n",
      " |-- flux_z_noMW: float (nullable = true)\n",
      " |-- flux_y_noMW: float (nullable = true)\n",
      "\n"
     ]
    }
   ],
   "source": [
    "# Check what we have in the file\n",
    "df.printSchema()"
   ]
  },
  {
   "cell_type": "code",
   "execution_count": 17,
   "metadata": {},
   "outputs": [],
   "source": [
    "data = df.select('ra', 'dec').collect()"
   ]
  },
  {
   "cell_type": "code",
   "execution_count": 19,
   "metadata": {},
   "outputs": [],
   "source": [
    "#data.describe().show()"
   ]
  },
  {
   "cell_type": "code",
   "execution_count": 20,
   "metadata": {},
   "outputs": [
    {
     "data": {
      "image/png": "[encoded data removed]",
      "text/plain": [
       "<Figure size 720x504 with 2 Axes>"
      ]
     },
     "metadata": {
      "needs_background": "light"
     },
     "output_type": "display_data"
    }
   ],
   "source": [
    "# `collect` returns list of list[ra, dec], so for \n",
    "# plotting purpose we tranpose the output:\n",
    "ra, dec = np.transpose(data)\n",
    "\n",
    "# Plot a 2d histogram of sources\n",
    "plt.figure(figsize=(10,7))\n",
    "plt.hist2d(ra, dec, 100)\n",
    "plt.gca().set_aspect('equal')\n",
    "plt.colorbar(label='Number of objects')\n",
    "plt.xlabel('RA [deg]')\n",
    "plt.ylabel('dec [deg]');"
   ]
  },
  {
   "cell_type": "code",
   "execution_count": 22,
   "metadata": {},
   "outputs": [],
   "source": [
    "base_dir2=\"/global/cfs/cdirs/lsst/shared/xgal/cosmoDC2/cosmoDC2_v1.1.4_rs_scatter_query_tree_double\""
   ]
  },
  {
   "cell_type": "code",
   "execution_count": 23,
   "metadata": {},
   "outputs": [],
   "source": [
    "the_list_of_files2=os.listdir(base_dir2)"
   ]
  },
  {
   "cell_type": "code",
   "execution_count": 24,
   "metadata": {},
   "outputs": [],
   "source": [
    "first_file=\"z_0_1.step_all.healpix_10066.hdf5\""
   ]
  },
  {
   "cell_type": "code",
   "execution_count": 25,
   "metadata": {},
   "outputs": [],
   "source": [
    "full_file=os.path.join(base_dir2,first_file)"
   ]
  },
  {
   "cell_type": "code",
   "execution_count": null,
   "metadata": {},
   "outputs": [],
   "source": []
  },
  {
   "cell_type": "code",
   "execution_count": 31,
   "metadata": {},
   "outputs": [
    {
     "ename": "AttributeError",
     "evalue": "'DataFrameReader' object has no attribute 'hdf5'",
     "output_type": "error",
     "traceback": [
      "\u001b[0;31m---------------------------------------------------------------------------\u001b[0m",
      "\u001b[0;31mAttributeError\u001b[0m                            Traceback (most recent call last)",
      "\u001b[0;32m<ipython-input-31-bdc8f76cbb72>\u001b[0m in \u001b[0;36m<module>\u001b[0;34m\u001b[0m\n\u001b[1;32m      1\u001b[0m \u001b[0;31m#df=spark.read.hdf5(full_file)\u001b[0m\u001b[0;34m\u001b[0m\u001b[0;34m\u001b[0m\u001b[0;34m\u001b[0m\u001b[0m\n\u001b[0;32m----> 2\u001b[0;31m \u001b[0mdf\u001b[0m\u001b[0;34m=\u001b[0m\u001b[0mspark\u001b[0m\u001b[0;34m.\u001b[0m\u001b[0mread\u001b[0m\u001b[0;34m.\u001b[0m\u001b[0moption\u001b[0m\u001b[0;34m(\u001b[0m\u001b[0;34m\"extension\"\u001b[0m\u001b[0;34m,\u001b[0m \u001b[0;34m\"hdf5\"\u001b[0m\u001b[0;34m)\u001b[0m\u001b[0;34m.\u001b[0m\u001b[0moption\u001b[0m\u001b[0;34m(\u001b[0m\u001b[0;34m\"recursion\"\u001b[0m\u001b[0;34m,\u001b[0m \u001b[0;34m\"false\"\u001b[0m\u001b[0;34m)\u001b[0m\u001b[0;34m.\u001b[0m\u001b[0mhdf5\u001b[0m\u001b[0;34m(\u001b[0m\u001b[0mbase_dir2\u001b[0m\u001b[0;34m,\u001b[0m \u001b[0;34m\"z_0_1.step_all.healpix_10066\"\u001b[0m\u001b[0;34m)\u001b[0m\u001b[0;34m\u001b[0m\u001b[0;34m\u001b[0m\u001b[0m\n\u001b[0m",
      "\u001b[0;31mAttributeError\u001b[0m: 'DataFrameReader' object has no attribute 'hdf5'"
     ]
    }
   ],
   "source": [
    "#df=spark.read.hdf5(full_file)\n",
    "df=spark.read.option(\"extension\", \"hdf5\").option(\"recursion\", \"false\").hdf5(base_dir2, \"z_0_1.step_all.healpix_10066\")\n"
   ]
  },
  {
   "cell_type": "code",
   "execution_count": null,
   "metadata": {},
   "outputs": [],
   "source": []
  }
 ],
 "metadata": {
  "kernelspec": {
   "display_name": "desc-pyspark",
   "language": "python",
   "name": "desc-pyspark"
  },
  "language_info": {
   "codemirror_mode": {
    "name": "ipython",
    "version": 3
   },
   "file_extension": ".py",
   "mimetype": "text/x-python",
   "name": "python",
   "nbconvert_exporter": "python",
   "pygments_lexer": "ipython3",
   "version": "3.7.6"
  }
 },
 "nbformat": 4,
 "nbformat_minor": 4
}
