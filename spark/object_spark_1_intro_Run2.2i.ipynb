{
 "cells": [
  {
   "cell_type": "markdown",
   "metadata": {},
   "source": [
    "# DC2 object Run1.1p Apache Spark tutorial -- Part I: Apache Spark access\n",
    "\n",
    "Author: **Julien Peloton** [@JulienPeloton](https://github.com/JulienPeloton)  \n",
    "Based on the work of: **Francois Lanusse [@EiffL](https://github.com/LSSTDESC/DC2-analysis/issues/new?body=@EiffL), Javier Sanchez [@fjaviersanchez](https://github.com/LSSTDESC/DC2-analysis/issues/new?body=@fjaviersanchez)** using GCR.  \n",
    "Last Verifed to Run: **2018-10-22**\n",
    "\n",
    "This notebook will illustrate the basics of accessing the merged object catalogs through Apache Spark as well as how to select useful samples of stars/galaxies from the dpdd catalogs (from DM outputs). It follows the same steps (and sometimes same documentation) as in this [notebook](https://github.com/LSSTDESC/DC2-analysis/blob/master/tutorials/object_gcr_1_intro.ipynb) which uses the Generic Catalog Reader ([GCR](https://github.com/yymao/generic-catalog-reader)).\n",
    "\n",
    "__Learning objectives__:\n",
    "\n",
    "After going through this notebook, you should be able to:\n",
    "  1. Load and efficiently access a DC2 object catalog with Apache Spark\n",
    "  2. Understand and have references for the catalog schema\n",
    "  3. Apply cuts to the catalog using Spark SQL functionalities\n",
    "  4. Have an example of quality cuts and simple star/galaxy separation cut\n",
    "  5. Distribute the computation and the routine to plot to be faster!\n",
    "\n",
    "__Logistics__: This notebook is intended to be run through the JupyterHub NERSC [interface](https://jupyter-dev.nersc.gov) with the `desc-pyspark` kernel. The kernel is automatically installed in your environment when you use the kernel setup script:\n",
    "\n",
    "```\n",
    "source /global/common/software/lsst/common/miniconda/kernels/setup.sh\n",
    "```\n",
    "\n",
    "For more information see [LSSTDESC/jupyter-kernels](https://github.com/LSSTDESC/jupyter-kernels). Note that a general introduction and tutorials for Apache Spark can be found at [astrolabsoftware/spark-tutorials](https://github.com/astrolabsoftware/spark-tutorials) (under construction).\n",
    "\n",
    "__Note concerning resources__\n",
    "\n",
    "```\n",
    "The large-memory login node used by https://jupyter-dev.nersc.gov/\n",
    "is a shared resource, so please be careful not to use too many CPUs\n",
    "or too much memory.\n",
    "\n",
    "That means avoid using `--master local[*]` in your kernel, but limit\n",
    "the resources to a few core. Typically `--master local[4]` is enough for\n",
    "prototyping a program.\n",
    "\n",
    "Then to scale the analysis, the best is to switch to batch mode! \n",
    "There, no limit!\n",
    "```\n",
    "\n",
    "This is already taken care for you in the Spark+DESC kernel setup script (from `desc-pyspark`), but keep this in mind if you use a custom kernel."
   ]
  },
  {
   "cell_type": "code",
   "execution_count": 40,
   "metadata": {},
   "outputs": [],
   "source": [
    "%matplotlib inline\n",
    "\n",
    "import os\n",
    "\n",
    "import numpy as np\n",
    "import matplotlib.pyplot as plt"
   ]
  },
  {
   "cell_type": "code",
   "execution_count": 41,
   "metadata": {},
   "outputs": [],
   "source": [
    "import pyarrow"
   ]
  },
  {
   "cell_type": "code",
   "execution_count": 42,
   "metadata": {},
   "outputs": [
    {
     "data": {
      "text/plain": [
       "'0.15.1'"
      ]
     },
     "execution_count": 42,
     "metadata": {},
     "output_type": "execute_result"
    }
   ],
   "source": [
    "pyarrow.__version__"
   ]
  },
  {
   "cell_type": "markdown",
   "metadata": {},
   "source": [
    "## Accessing the object catalog with Apache Spark\n",
    "\n",
    "In this section, we illustrate how to use Apache Spark to access the object catalogs from DC2 Run1.1p.\n",
    "Let's initialise Spark and load the data into a DataFrame. We will focus on data stored in the `parquet` data format."
   ]
  },
  {
   "cell_type": "code",
   "execution_count": 43,
   "metadata": {},
   "outputs": [],
   "source": [
    "# !ls /global/projecta/projectdirs/lsst/global/in2p3/Run1.1/summary"
   ]
  },
  {
   "cell_type": "code",
   "execution_count": 44,
   "metadata": {},
   "outputs": [],
   "source": [
    "# !ls /global/cfs/cdirs/lsst/shared/DC2-prod/Run2.2i/dpdd/Run2.2i-dr6b/dc2_object_run2.2i_dr6b"
   ]
  },
  {
   "cell_type": "markdown",
   "metadata": {},
   "source": [
    "### scan all availables files"
   ]
  },
  {
   "cell_type": "code",
   "execution_count": 45,
   "metadata": {},
   "outputs": [],
   "source": [
    "import os,re"
   ]
  },
  {
   "cell_type": "code",
   "execution_count": 46,
   "metadata": {},
   "outputs": [],
   "source": [
    "the_input_dir=\"/global/cfs/cdirs/lsst/shared/DC2-prod/Run2.2i/dpdd/Run2.2i-dr6b/dc2_object_run2.2i_dr6b\""
   ]
  },
  {
   "cell_type": "code",
   "execution_count": 47,
   "metadata": {},
   "outputs": [],
   "source": [
    "the_list_of_files=os.listdir(the_input_dir)"
   ]
  },
  {
   "cell_type": "markdown",
   "metadata": {},
   "source": [
    "### sort all files"
   ]
  },
  {
   "cell_type": "code",
   "execution_count": 48,
   "metadata": {},
   "outputs": [],
   "source": [
    "the_sorted_list_of_files=sorted(the_list_of_files)"
   ]
  },
  {
   "cell_type": "markdown",
   "metadata": {},
   "source": [
    "### filter the good parquet files"
   ]
  },
  {
   "cell_type": "code",
   "execution_count": 49,
   "metadata": {},
   "outputs": [],
   "source": [
    "selected_files=[]\n",
    "for filename in the_sorted_list_of_files:\n",
    "    sel_filename=re.findall(\"^dc2_object_run2.2i_dr6b_tract[0-9][0-9][0-9][0-9].parquet$\",filename)\n",
    "    if len(sel_filename) > 0:\n",
    "        selected_files.append(sel_filename[0])"
   ]
  },
  {
   "cell_type": "code",
   "execution_count": 51,
   "metadata": {},
   "outputs": [],
   "source": [
    "# good tracks from Stephane\n",
    "\n",
    "good_tracks=[2897, 2898, 2899, 2900, 2901, 2903, 2904, 2905, 2906, 2907, \n",
    "             3075,3076, 3077, 3078, 3079, 3081, 3082, 3083, 3084, 3085, 3257, 3259,\n",
    "             3260, 3262, 3263, 3264, 3265, 3266, 3267, 3442, 3443, 3444, 3446,\n",
    "             3447, 3449, 3452, 3453, 3635, 3636, 3638, 3639, 3640, 3641, 3642,\n",
    "             3836, 4429, 4440, 5066, 5070, 5072, 5073]"
   ]
  },
  {
   "cell_type": "markdown",
   "metadata": {},
   "source": [
    "### for run 1.1"
   ]
  },
  {
   "cell_type": "code",
   "execution_count": 52,
   "metadata": {},
   "outputs": [
    {
     "name": "stdout",
     "output_type": "stream",
     "text": [
      "Data will be read from: \n",
      " /global/projecta/projectdirs/lsst/global/in2p3/Run1.1/summary/dpdd_object.parquet\n"
     ]
    }
   ],
   "source": [
    "# Where the dpdd data is stored\n",
    "base_dir = '/global/projecta/projectdirs/lsst/global/in2p3/Run1.1/summary'\n",
    "\n",
    "# Load one patch, all tracts\n",
    "datafile = os.path.join(base_dir, 'dpdd_object.parquet')\n",
    "print(\"Data will be read from: \\n\", datafile)"
   ]
  },
  {
   "cell_type": "markdown",
   "metadata": {},
   "source": [
    "### for run 2.2i_dr6b"
   ]
  },
  {
   "cell_type": "code",
   "execution_count": 53,
   "metadata": {},
   "outputs": [
    {
     "name": "stdout",
     "output_type": "stream",
     "text": [
      "Data will be read from: \n",
      " /global/cfs/cdirs/lsst/shared/DC2-prod/Run2.2i/dpdd/Run2.2i-dr6b/dc2_object_run2.2i_dr6b/dc2_object_run2.2i_dr6b_tract2897.parquet\n"
     ]
    }
   ],
   "source": [
    "# Where the dpdd data is stored\n",
    "base_dir = '/global/cfs/cdirs/lsst/shared/DC2-prod/Run2.2i/dpdd/Run2.2i-dr6b/dc2_object_run2.2i_dr6b'\n",
    "\n",
    "# Load one patch, all tracts\n",
    "datafile = os.path.join(base_dir, 'dc2_object_run2.2i_dr6b_tract2897.parquet')\n",
    "print(\"Data will be read from: \\n\", datafile)"
   ]
  },
  {
   "cell_type": "code",
   "execution_count": 54,
   "metadata": {},
   "outputs": [],
   "source": [
    "#InputPath = [base_dir + \"/dc2_object_run2.2i_dr6b_tract{}.parquet\".format(num) for num in good_tracks]"
   ]
  },
  {
   "cell_type": "code",
   "execution_count": 60,
   "metadata": {},
   "outputs": [],
   "source": [
    "InputPath = [base_dir + \"/{}\".format(filename) for filename in selected_files]"
   ]
  },
  {
   "cell_type": "code",
   "execution_count": 62,
   "metadata": {},
   "outputs": [],
   "source": [
    "from pyspark.sql import SparkSession\n",
    "\n",
    "# Initialise our Spark session\n",
    "spark = SparkSession.builder.getOrCreate()\n",
    "\n",
    "# Read the data as DataFrame\n",
    "df = spark.read.format(\"parquet\").load(datafile)"
   ]
  },
  {
   "cell_type": "code",
   "execution_count": 63,
   "metadata": {},
   "outputs": [],
   "source": [
    "#InputPath = [base_dir + \"/dc2_object_run2.2i_dr6b_tract2897.parquet\",\n",
    "#             base_dir + \"/dc2_object_run2.2i_dr6b_tract2898.parquet\"]\n",
    "\n",
    "df = spark.read.parquet(*InputPath)"
   ]
  },
  {
   "cell_type": "code",
   "execution_count": 64,
   "metadata": {},
   "outputs": [],
   "source": [
    "df = df.repartition(df.rdd.getNumPartitions())"
   ]
  },
  {
   "cell_type": "markdown",
   "metadata": {},
   "source": [
    "### DC2 Object catalog Schema\n",
    "\n",
    "\n",
    "To see the quantities available in the catalog, you can use the following:"
   ]
  },
  {
   "cell_type": "code",
   "execution_count": 65,
   "metadata": {},
   "outputs": [
    {
     "name": "stdout",
     "output_type": "stream",
     "text": [
      "root\n",
      " |-- snr_r_cModel: double (nullable = true)\n",
      " |-- blendedness: double (nullable = true)\n",
      " |-- psf_fwhm_u: double (nullable = true)\n",
      " |-- magerr_u_cModel: double (nullable = true)\n",
      " |-- magerr_g_cModel: double (nullable = true)\n",
      " |-- magerr_r: double (nullable = true)\n",
      " |-- magerr_i: double (nullable = true)\n",
      " |-- cModelFlux_r: double (nullable = true)\n",
      " |-- magerr_u: double (nullable = true)\n",
      " |-- tract: long (nullable = true)\n",
      " |-- Ixy_r: double (nullable = true)\n",
      " |-- I_flag_i: boolean (nullable = true)\n",
      " |-- I_flag_u: boolean (nullable = true)\n",
      " |-- IxyPSF_i: double (nullable = true)\n",
      " |-- I_flag: boolean (nullable = true)\n",
      " |-- magerr_g: double (nullable = true)\n",
      " |-- cModelFlux_flag_r: boolean (nullable = true)\n",
      " |-- psFluxErr_r: double (nullable = true)\n",
      " |-- psFlux_flag_u: boolean (nullable = true)\n",
      " |-- psf_fwhm_y: double (nullable = true)\n",
      " |-- Ixx_g: double (nullable = true)\n",
      " |-- cModelFluxErr_g: double (nullable = true)\n",
      " |-- good: boolean (nullable = true)\n",
      " |-- IxxPSF: double (nullable = true)\n",
      " |-- xy_flag: boolean (nullable = true)\n",
      " |-- cModelFlux_flag_u: boolean (nullable = true)\n",
      " |-- psFlux_u: double (nullable = true)\n",
      " |-- cModelFlux_g: double (nullable = true)\n",
      " |-- psFlux_r: double (nullable = true)\n",
      " |-- snr_u_cModel: double (nullable = true)\n",
      " |-- snr_g_cModel: double (nullable = true)\n",
      " |-- psFluxErr_u: double (nullable = true)\n",
      " |-- patch: string (nullable = true)\n",
      " |-- I_flag_y: boolean (nullable = true)\n",
      " |-- x: double (nullable = true)\n",
      " |-- IxyPSF_r: double (nullable = true)\n",
      " |-- IxyPSF_u: double (nullable = true)\n",
      " |-- Iyy_i: double (nullable = true)\n",
      " |-- IxxPSF_g: double (nullable = true)\n",
      " |-- IxxPSF_r: double (nullable = true)\n",
      " |-- cModelFluxErr_u: double (nullable = true)\n",
      " |-- cModelFlux_flag_z: boolean (nullable = true)\n",
      " |-- psFluxErr_g: double (nullable = true)\n",
      " |-- dec: double (nullable = true)\n",
      " |-- parentObjectId: long (nullable = true)\n",
      " |-- I_flag_g: boolean (nullable = true)\n",
      " |-- Ixy_g: double (nullable = true)\n",
      " |-- psFlux_flag_r: boolean (nullable = true)\n",
      " |-- Ixy_i: double (nullable = true)\n",
      " |-- IxyPSF_y: double (nullable = true)\n",
      " |-- cModelFluxErr_i: double (nullable = true)\n",
      " |-- cModelFluxErr_z: double (nullable = true)\n",
      " |-- magerr_y: double (nullable = true)\n",
      " |-- psFluxErr_i: double (nullable = true)\n",
      " |-- magerr_y_cModel: double (nullable = true)\n",
      " |-- snr_i_cModel: double (nullable = true)\n",
      " |-- magerr_z: double (nullable = true)\n",
      " |-- cModelFlux_z: double (nullable = true)\n",
      " |-- Ixx_z: double (nullable = true)\n",
      " |-- mag_g_cModel: double (nullable = true)\n",
      " |-- objectId: long (nullable = true)\n",
      " |-- magerr_z_cModel: double (nullable = true)\n",
      " |-- magerr_r_cModel: double (nullable = true)\n",
      " |-- IyyPSF: double (nullable = true)\n",
      " |-- Ixy_u: double (nullable = true)\n",
      " |-- cModelFluxErr_y: double (nullable = true)\n",
      " |-- Ixx_r: double (nullable = true)\n",
      " |-- psf_fwhm_z: double (nullable = true)\n",
      " |-- Iyy: double (nullable = true)\n",
      " |-- Iyy_z: double (nullable = true)\n",
      " |-- cModelFlux_y: double (nullable = true)\n",
      " |-- psFlux_g: double (nullable = true)\n",
      " |-- cModelFlux_flag_y: boolean (nullable = true)\n",
      " |-- IxyPSF: double (nullable = true)\n",
      " |-- Ixy: double (nullable = true)\n",
      " |-- psFlux_flag_z: boolean (nullable = true)\n",
      " |-- extendedness: double (nullable = true)\n",
      " |-- mag_y: double (nullable = true)\n",
      " |-- I_flag_r: boolean (nullable = true)\n",
      " |-- snr_z_cModel: double (nullable = true)\n",
      " |-- Ixy_y: double (nullable = true)\n",
      " |-- psFlux_i: double (nullable = true)\n",
      " |-- I_flag_z: boolean (nullable = true)\n",
      " |-- Ixx_u: double (nullable = true)\n",
      " |-- mag_i: double (nullable = true)\n",
      " |-- Ixx_i: double (nullable = true)\n",
      " |-- IxyPSF_g: double (nullable = true)\n",
      " |-- mag_r: double (nullable = true)\n",
      " |-- IyyPSF_i: double (nullable = true)\n",
      " |-- IyyPSF_z: double (nullable = true)\n",
      " |-- mag_u_cModel: double (nullable = true)\n",
      " |-- IxxPSF_u: double (nullable = true)\n",
      " |-- Iyy_u: double (nullable = true)\n",
      " |-- IyyPSF_u: double (nullable = true)\n",
      " |-- psFlux_flag_y: boolean (nullable = true)\n",
      " |-- magerr_i_cModel: double (nullable = true)\n",
      " |-- psf_fwhm_i: double (nullable = true)\n",
      " |-- psFluxErr_y: double (nullable = true)\n",
      " |-- IxxPSF_i: double (nullable = true)\n",
      " |-- Iyy_y: double (nullable = true)\n",
      " |-- psFlux_z: double (nullable = true)\n",
      " |-- psf_fwhm_g: double (nullable = true)\n",
      " |-- Ixx_y: double (nullable = true)\n",
      " |-- mag_u: double (nullable = true)\n",
      " |-- mag_z_cModel: double (nullable = true)\n",
      " |-- IxxPSF_y: double (nullable = true)\n",
      " |-- ra: double (nullable = true)\n",
      " |-- Iyy_r: double (nullable = true)\n",
      " |-- yErr: float (nullable = true)\n",
      " |-- mag_y_cModel: double (nullable = true)\n",
      " |-- psFlux_flag_i: boolean (nullable = true)\n",
      " |-- IxxPSF_z: double (nullable = true)\n",
      " |-- IyyPSF_r: double (nullable = true)\n",
      " |-- psFlux_flag_g: boolean (nullable = true)\n",
      " |-- cModelFluxErr_r: double (nullable = true)\n",
      " |-- Iyy_g: double (nullable = true)\n",
      " |-- cModelFlux_flag_i: boolean (nullable = true)\n",
      " |-- clean: boolean (nullable = true)\n",
      " |-- y: double (nullable = true)\n",
      " |-- Ixy_z: double (nullable = true)\n",
      " |-- IyyPSF_y: double (nullable = true)\n",
      " |-- Ixx: double (nullable = true)\n",
      " |-- xErr: float (nullable = true)\n",
      " |-- cModelFlux_u: double (nullable = true)\n",
      " |-- cModelFlux_flag_g: boolean (nullable = true)\n",
      " |-- IxyPSF_z: double (nullable = true)\n",
      " |-- IyyPSF_g: double (nullable = true)\n",
      " |-- psFlux_y: double (nullable = true)\n",
      " |-- snr_y_cModel: double (nullable = true)\n",
      " |-- psf_fwhm_r: double (nullable = true)\n",
      " |-- psNdata: float (nullable = true)\n",
      " |-- mag_r_cModel: double (nullable = true)\n",
      " |-- mag_g: double (nullable = true)\n",
      " |-- mag_z: double (nullable = true)\n",
      " |-- cModelFlux_i: double (nullable = true)\n",
      " |-- mag_i_cModel: double (nullable = true)\n",
      " |-- psFluxErr_z: double (nullable = true)\n",
      "\n"
     ]
    }
   ],
   "source": [
    "# Check what we have in the file\n",
    "df.printSchema()"
   ]
  },
  {
   "cell_type": "markdown",
   "metadata": {},
   "source": [
    "The meaning of these fields follows the standard nomenclature of the LSST Data Products Definition Document [DPDD](http://ls.st/dpdd).\n",
    "\n",
    "The DPDD is an effort made by the LSST project to standardize the format of the official Data Release Products (DRP). While the native outputs of the DM stack are succeptible to change, the DPDD will be more stable. An early adoption of these conventions by the DESC will save time and energy down the road."
   ]
  },
  {
   "cell_type": "markdown",
   "metadata": {},
   "source": [
    "We can see that the catalog includes:\n",
    "\n",
    "* Positions\n",
    "* Fluxes and magnitudes (PSF and [CModel](https://www.sdss.org/dr12/algorithms/magnitudes/#cmodel))\n",
    "* Shapes (using [GalSim's HSM](http://galsim-developers.github.io/GalSim/namespacegalsim_1_1hsm.html))\n",
    "* Quality flags: e.g, does the source have any interpolated pixels? Has any of the measurement algorithms returned an error?\n",
    "* Other useful quantities: `blendedness`, measure of how flux is affected by neighbors: (1 - flux.child/flux.parent) (see 4.9.11 of [Bosch et al. 2018](http://adsabs.harvard.edu/abs/2018PASJ...70S...5B)); `extendedness`, classifies sources in extended and psf-like."
   ]
  },
  {
   "cell_type": "markdown",
   "metadata": {},
   "source": [
    "### Accessing the data (taken from the original GCR notebook)\n",
    "\n",
    "While Run1.1p is still of manageable size, full DC2 will be much larger, accessing the whole data can be challenging. In order to access the data efficiently, it is important to understand how it is physically stored and how to access it, one piece at the time. \n",
    "\n",
    "\n",
    "The coadds produced by the DM stack are structured in terms of large `tracts` and smaller `patches`, illustrated here for DC2:\n",
    "<img src=\"assets/dc2_skymap.png\">\n",
    "Here the tracts have large blue numbers, and the patches are denoted with an `(x,y)` format. For DC2, each tract has 8x8 patches.\n",
    "\n",
    "You can learn more about how to make such a plot of the tract and patches [here](Plotting_the_Run1.1p_skymap.ipynb)\n",
    "\n",
    "Obviously Spark preserves the structure of the data so that any particular quantity can be accessed on a tract/patch bases. The tracts available in the catalog can be listed using the following command:"
   ]
  },
  {
   "cell_type": "code",
   "execution_count": 66,
   "metadata": {},
   "outputs": [
    {
     "name": "stdout",
     "output_type": "stream",
     "text": [
      "+-----+\n",
      "|tract|\n",
      "+-----+\n",
      "| 2906|\n",
      "| 3452|\n",
      "| 3081|\n",
      "| 3640|\n",
      "| 2900|\n",
      "| 2724|\n",
      "| 3076|\n",
      "| 3636|\n",
      "| 2723|\n",
      "| 3258|\n",
      "| 2908|\n",
      "| 4860|\n",
      "| 5065|\n",
      "| 5070|\n",
      "| 3262|\n",
      "| 3444|\n",
      "| 5067|\n",
      "| 2903|\n",
      "| 3080|\n",
      "| 3267|\n",
      "+-----+\n",
      "only showing top 20 rows\n",
      "\n"
     ]
    }
   ],
   "source": [
    "# Show all available tracts\n",
    "df.select('tract').distinct().show()"
   ]
  },
  {
   "cell_type": "code",
   "execution_count": 69,
   "metadata": {},
   "outputs": [],
   "source": [
    "df_stat=df.groupBy(\"tract\").count()"
   ]
  },
  {
   "cell_type": "code",
   "execution_count": 70,
   "metadata": {},
   "outputs": [
    {
     "name": "stdout",
     "output_type": "stream",
     "text": [
      "+-----+-------+\n",
      "|tract|  count|\n",
      "+-----+-------+\n",
      "| 2906|1002613|\n",
      "| 3452|1029384|\n",
      "| 3081|1089114|\n",
      "| 3640|1050906|\n",
      "| 2900|1056562|\n",
      "| 2724|    258|\n",
      "| 3076|1072853|\n",
      "| 3636|1127922|\n",
      "| 2723|     98|\n",
      "| 3258| 991290|\n",
      "| 2908| 863574|\n",
      "| 4860|  37480|\n",
      "| 5065| 313636|\n",
      "| 5070| 839316|\n",
      "| 3262|1069425|\n",
      "| 3444|1090397|\n",
      "| 5067| 803014|\n",
      "| 2903|1042061|\n",
      "| 3080|1072869|\n",
      "| 3267|1015448|\n",
      "+-----+-------+\n",
      "only showing top 20 rows\n",
      "\n"
     ]
    }
   ],
   "source": [
    "df_stat.show()"
   ]
  },
  {
   "cell_type": "code",
   "execution_count": 72,
   "metadata": {},
   "outputs": [
    {
     "name": "stdout",
     "output_type": "stream",
     "text": [
      "<class 'pandas.core.frame.DataFrame'>\n",
      "RangeIndex: 99 entries, 0 to 98\n",
      "Data columns (total 2 columns):\n",
      " #   Column  Non-Null Count  Dtype\n",
      "---  ------  --------------  -----\n",
      " 0   tract   99 non-null     int64\n",
      " 1   count   99 non-null     int64\n",
      "dtypes: int64(2)\n",
      "memory usage: 1.7 KB\n"
     ]
    }
   ],
   "source": [
    "dp_stat=df_stat.toPandas()\n",
    "dp_stat.info()"
   ]
  },
  {
   "cell_type": "code",
   "execution_count": 80,
   "metadata": {},
   "outputs": [],
   "source": [
    "indexes=np.arange(len(dp_stat))"
   ]
  },
  {
   "cell_type": "code",
   "execution_count": 78,
   "metadata": {},
   "outputs": [
    {
     "data": {
      "text/plain": [
       "array([ 0,  1,  2,  3,  4,  5,  6,  7,  8,  9, 10, 11, 12, 13, 14, 15, 16,\n",
       "       17, 18, 19, 20, 21, 22, 23, 24, 25, 26, 27, 28, 29, 30, 31, 32, 33,\n",
       "       34, 35, 36, 37, 38, 39, 40, 41, 42, 43, 44, 45, 46, 47, 48, 49, 50,\n",
       "       51, 52, 53, 54, 55, 56, 57, 58, 59, 60, 61, 62, 63, 64, 65, 66, 67,\n",
       "       68, 69, 70, 71, 72, 73, 74, 75, 76, 77, 78, 79, 80, 81, 82, 83, 84,\n",
       "       85, 86, 87, 88, 89, 90, 91, 92, 93, 94, 95, 96, 97, 98])"
      ]
     },
     "execution_count": 78,
     "metadata": {},
     "output_type": "execute_result"
    }
   ],
   "source": [
    "index"
   ]
  },
  {
   "cell_type": "code",
   "execution_count": 87,
   "metadata": {},
   "outputs": [
    {
     "data": {
      "image/png": "[encoded data removed]",
      "text/plain": [
       "<Figure size 1440x432 with 1 Axes>"
      ]
     },
     "metadata": {
      "needs_background": "light"
     },
     "output_type": "display_data"
    }
   ],
   "source": [
    "width=0.8\n",
    "fig = plt.figure(figsize=(20,6))\n",
    "ax = fig.add_subplot(111)\n",
    "ax.bar(indexes,dp_stat[\"count\"].values,width,color='red')\n",
    "ax.set_xticks(indexes)\n",
    "ax.set_title(\"Number of count per track\")\n",
    "xtickNames = ax.set_xticklabels(dp_stat[\"tract\"].values)\n",
    "plt.setp(xtickNames, rotation=90, fontsize=10)\n",
    "plt.yscale('log')"
   ]
  },
  {
   "cell_type": "markdown",
   "metadata": {},
   "source": [
    "The DM stack includes functionality to get the tract and patch number corresponding to a certain position `(RA,DEC)`. However, it is out of the scope of this tutorial."
   ]
  },
  {
   "cell_type": "markdown",
   "metadata": {},
   "source": [
    "Apache Spark provides `filter` mechanisms, which you can use to speed up data access if you only need a certain chunks of the dataset.\n",
    "For the object catalog, the chunks are broken into `tract` and `patch`, and hence those are the `filters` you can use:"
   ]
  },
  {
   "cell_type": "code",
   "execution_count": 88,
   "metadata": {},
   "outputs": [
    {
     "ename": "Py4JJavaError",
     "evalue": "An error occurred while calling o133.collectToPython.\n: org.apache.spark.SparkException: Job aborted due to stage failure: Total size of serialized results of 433 tasks (1025.6 MiB) is bigger than spark.driver.maxResultSize (1024.0 MiB)\n\tat org.apache.spark.scheduler.DAGScheduler.failJobAndIndependentStages(DAGScheduler.scala:2023)\n\tat org.apache.spark.scheduler.DAGScheduler.$anonfun$abortStage$2(DAGScheduler.scala:1972)\n\tat org.apache.spark.scheduler.DAGScheduler.$anonfun$abortStage$2$adapted(DAGScheduler.scala:1971)\n\tat scala.collection.mutable.ResizableArray.foreach(ResizableArray.scala:62)\n\tat scala.collection.mutable.ResizableArray.foreach$(ResizableArray.scala:55)\n\tat scala.collection.mutable.ArrayBuffer.foreach(ArrayBuffer.scala:49)\n\tat org.apache.spark.scheduler.DAGScheduler.abortStage(DAGScheduler.scala:1971)\n\tat org.apache.spark.scheduler.DAGScheduler.$anonfun$handleTaskSetFailed$1(DAGScheduler.scala:950)\n\tat org.apache.spark.scheduler.DAGScheduler.$anonfun$handleTaskSetFailed$1$adapted(DAGScheduler.scala:950)\n\tat scala.Option.foreach(Option.scala:407)\n\tat org.apache.spark.scheduler.DAGScheduler.handleTaskSetFailed(DAGScheduler.scala:950)\n\tat org.apache.spark.scheduler.DAGSchedulerEventProcessLoop.doOnReceive(DAGScheduler.scala:2203)\n\tat org.apache.spark.scheduler.DAGSchedulerEventProcessLoop.onReceive(DAGScheduler.scala:2152)\n\tat org.apache.spark.scheduler.DAGSchedulerEventProcessLoop.onReceive(DAGScheduler.scala:2141)\n\tat org.apache.spark.util.EventLoop$$anon$1.run(EventLoop.scala:49)\n\tat org.apache.spark.scheduler.DAGScheduler.runJob(DAGScheduler.scala:752)\n\tat org.apache.spark.SparkContext.runJob(SparkContext.scala:2093)\n\tat org.apache.spark.SparkContext.runJob(SparkContext.scala:2114)\n\tat org.apache.spark.SparkContext.runJob(SparkContext.scala:2133)\n\tat org.apache.spark.SparkContext.runJob(SparkContext.scala:2158)\n\tat org.apache.spark.rdd.RDD.$anonfun$collect$1(RDD.scala:1004)\n\tat org.apache.spark.rdd.RDDOperationScope$.withScope(RDDOperationScope.scala:151)\n\tat org.apache.spark.rdd.RDDOperationScope$.withScope(RDDOperationScope.scala:112)\n\tat org.apache.spark.rdd.RDD.withScope(RDD.scala:388)\n\tat org.apache.spark.rdd.RDD.collect(RDD.scala:1003)\n\tat org.apache.spark.sql.execution.SparkPlan.executeCollect(SparkPlan.scala:385)\n\tat org.apache.spark.sql.Dataset.$anonfun$collectToPython$1(Dataset.scala:3448)\n\tat org.apache.spark.sql.Dataset.$anonfun$withAction$1(Dataset.scala:3616)\n\tat org.apache.spark.sql.execution.SQLExecution$.$anonfun$withNewExecutionId$5(SQLExecution.scala:100)\n\tat org.apache.spark.sql.execution.SQLExecution$.withSQLConfPropagated(SQLExecution.scala:160)\n\tat org.apache.spark.sql.execution.SQLExecution$.$anonfun$withNewExecutionId$1(SQLExecution.scala:87)\n\tat org.apache.spark.sql.SparkSession.withActive(SparkSession.scala:763)\n\tat org.apache.spark.sql.execution.SQLExecution$.withNewExecutionId(SQLExecution.scala:64)\n\tat org.apache.spark.sql.Dataset.withAction(Dataset.scala:3614)\n\tat org.apache.spark.sql.Dataset.collectToPython(Dataset.scala:3445)\n\tat java.base/jdk.internal.reflect.NativeMethodAccessorImpl.invoke0(Native Method)\n\tat java.base/jdk.internal.reflect.NativeMethodAccessorImpl.invoke(NativeMethodAccessorImpl.java:62)\n\tat java.base/jdk.internal.reflect.DelegatingMethodAccessorImpl.invoke(DelegatingMethodAccessorImpl.java:43)\n\tat java.base/java.lang.reflect.Method.invoke(Method.java:566)\n\tat py4j.reflection.MethodInvoker.invoke(MethodInvoker.java:244)\n\tat py4j.reflection.ReflectionEngine.invoke(ReflectionEngine.java:357)\n\tat py4j.Gateway.invoke(Gateway.java:282)\n\tat py4j.commands.AbstractCommand.invokeMethod(AbstractCommand.java:132)\n\tat py4j.commands.CallCommand.execute(CallCommand.java:79)\n\tat py4j.GatewayConnection.run(GatewayConnection.java:238)\n\tat java.base/java.lang.Thread.run(Thread.java:834)\n",
     "output_type": "error",
     "traceback": [
      "\u001b[0;31m---------------------------------------------------------------------------\u001b[0m",
      "\u001b[0;31mPy4JJavaError\u001b[0m                             Traceback (most recent call last)",
      "\u001b[0;32m<ipython-input-88-7efaa12ba453>\u001b[0m in \u001b[0;36m<module>\u001b[0;34m\u001b[0m\n\u001b[1;32m      1\u001b[0m \u001b[0;31m# Retrieve the ra,dec coordinates of all sources within tract number 4430\u001b[0m\u001b[0;34m\u001b[0m\u001b[0;34m\u001b[0m\u001b[0;34m\u001b[0m\u001b[0m\n\u001b[1;32m      2\u001b[0m \u001b[0;31m#data = df.select('ra', 'dec').where('tract == 2897').collect()\u001b[0m\u001b[0;34m\u001b[0m\u001b[0;34m\u001b[0m\u001b[0;34m\u001b[0m\u001b[0m\n\u001b[0;32m----> 3\u001b[0;31m \u001b[0mdata\u001b[0m \u001b[0;34m=\u001b[0m \u001b[0mdf\u001b[0m\u001b[0;34m.\u001b[0m\u001b[0mselect\u001b[0m\u001b[0;34m(\u001b[0m\u001b[0;34m'ra'\u001b[0m\u001b[0;34m,\u001b[0m \u001b[0;34m'dec'\u001b[0m\u001b[0;34m)\u001b[0m\u001b[0;34m.\u001b[0m\u001b[0mcollect\u001b[0m\u001b[0;34m(\u001b[0m\u001b[0;34m)\u001b[0m\u001b[0;34m\u001b[0m\u001b[0;34m\u001b[0m\u001b[0m\n\u001b[0m\u001b[1;32m      4\u001b[0m \u001b[0;34m\u001b[0m\u001b[0m\n\u001b[1;32m      5\u001b[0m \u001b[0;31m# `collect` returns list of list[ra, dec], so for\u001b[0m\u001b[0;34m\u001b[0m\u001b[0;34m\u001b[0m\u001b[0;34m\u001b[0m\u001b[0m\n",
      "\u001b[0;32m/global/homes/p/peloton/myspark/spark-3.0.0-bin-hadoop2.7/python/pyspark/sql/dataframe.py\u001b[0m in \u001b[0;36mcollect\u001b[0;34m(self)\u001b[0m\n\u001b[1;32m    594\u001b[0m         \"\"\"\n\u001b[1;32m    595\u001b[0m         \u001b[0;32mwith\u001b[0m \u001b[0mSCCallSiteSync\u001b[0m\u001b[0;34m(\u001b[0m\u001b[0mself\u001b[0m\u001b[0;34m.\u001b[0m\u001b[0m_sc\u001b[0m\u001b[0;34m)\u001b[0m \u001b[0;32mas\u001b[0m \u001b[0mcss\u001b[0m\u001b[0;34m:\u001b[0m\u001b[0;34m\u001b[0m\u001b[0;34m\u001b[0m\u001b[0m\n\u001b[0;32m--> 596\u001b[0;31m             \u001b[0msock_info\u001b[0m \u001b[0;34m=\u001b[0m \u001b[0mself\u001b[0m\u001b[0;34m.\u001b[0m\u001b[0m_jdf\u001b[0m\u001b[0;34m.\u001b[0m\u001b[0mcollectToPython\u001b[0m\u001b[0;34m(\u001b[0m\u001b[0;34m)\u001b[0m\u001b[0;34m\u001b[0m\u001b[0;34m\u001b[0m\u001b[0m\n\u001b[0m\u001b[1;32m    597\u001b[0m         \u001b[0;32mreturn\u001b[0m \u001b[0mlist\u001b[0m\u001b[0;34m(\u001b[0m\u001b[0m_load_from_socket\u001b[0m\u001b[0;34m(\u001b[0m\u001b[0msock_info\u001b[0m\u001b[0;34m,\u001b[0m \u001b[0mBatchedSerializer\u001b[0m\u001b[0;34m(\u001b[0m\u001b[0mPickleSerializer\u001b[0m\u001b[0;34m(\u001b[0m\u001b[0;34m)\u001b[0m\u001b[0;34m)\u001b[0m\u001b[0;34m)\u001b[0m\u001b[0;34m)\u001b[0m\u001b[0;34m\u001b[0m\u001b[0;34m\u001b[0m\u001b[0m\n\u001b[1;32m    598\u001b[0m \u001b[0;34m\u001b[0m\u001b[0m\n",
      "\u001b[0;32m/global/homes/p/peloton/myspark/spark-3.0.0-bin-hadoop2.7/python/lib/py4j-0.10.9-src.zip/py4j/java_gateway.py\u001b[0m in \u001b[0;36m__call__\u001b[0;34m(self, *args)\u001b[0m\n\u001b[1;32m   1303\u001b[0m         \u001b[0manswer\u001b[0m \u001b[0;34m=\u001b[0m \u001b[0mself\u001b[0m\u001b[0;34m.\u001b[0m\u001b[0mgateway_client\u001b[0m\u001b[0;34m.\u001b[0m\u001b[0msend_command\u001b[0m\u001b[0;34m(\u001b[0m\u001b[0mcommand\u001b[0m\u001b[0;34m)\u001b[0m\u001b[0;34m\u001b[0m\u001b[0;34m\u001b[0m\u001b[0m\n\u001b[1;32m   1304\u001b[0m         return_value = get_return_value(\n\u001b[0;32m-> 1305\u001b[0;31m             answer, self.gateway_client, self.target_id, self.name)\n\u001b[0m\u001b[1;32m   1306\u001b[0m \u001b[0;34m\u001b[0m\u001b[0m\n\u001b[1;32m   1307\u001b[0m         \u001b[0;32mfor\u001b[0m \u001b[0mtemp_arg\u001b[0m \u001b[0;32min\u001b[0m \u001b[0mtemp_args\u001b[0m\u001b[0;34m:\u001b[0m\u001b[0;34m\u001b[0m\u001b[0;34m\u001b[0m\u001b[0m\n",
      "\u001b[0;32m/global/homes/p/peloton/myspark/spark-3.0.0-bin-hadoop2.7/python/pyspark/sql/utils.py\u001b[0m in \u001b[0;36mdeco\u001b[0;34m(*a, **kw)\u001b[0m\n\u001b[1;32m    129\u001b[0m     \u001b[0;32mdef\u001b[0m \u001b[0mdeco\u001b[0m\u001b[0;34m(\u001b[0m\u001b[0;34m*\u001b[0m\u001b[0ma\u001b[0m\u001b[0;34m,\u001b[0m \u001b[0;34m**\u001b[0m\u001b[0mkw\u001b[0m\u001b[0;34m)\u001b[0m\u001b[0;34m:\u001b[0m\u001b[0;34m\u001b[0m\u001b[0;34m\u001b[0m\u001b[0m\n\u001b[1;32m    130\u001b[0m         \u001b[0;32mtry\u001b[0m\u001b[0;34m:\u001b[0m\u001b[0;34m\u001b[0m\u001b[0;34m\u001b[0m\u001b[0m\n\u001b[0;32m--> 131\u001b[0;31m             \u001b[0;32mreturn\u001b[0m \u001b[0mf\u001b[0m\u001b[0;34m(\u001b[0m\u001b[0;34m*\u001b[0m\u001b[0ma\u001b[0m\u001b[0;34m,\u001b[0m \u001b[0;34m**\u001b[0m\u001b[0mkw\u001b[0m\u001b[0;34m)\u001b[0m\u001b[0;34m\u001b[0m\u001b[0;34m\u001b[0m\u001b[0m\n\u001b[0m\u001b[1;32m    132\u001b[0m         \u001b[0;32mexcept\u001b[0m \u001b[0mpy4j\u001b[0m\u001b[0;34m.\u001b[0m\u001b[0mprotocol\u001b[0m\u001b[0;34m.\u001b[0m\u001b[0mPy4JJavaError\u001b[0m \u001b[0;32mas\u001b[0m \u001b[0me\u001b[0m\u001b[0;34m:\u001b[0m\u001b[0;34m\u001b[0m\u001b[0;34m\u001b[0m\u001b[0m\n\u001b[1;32m    133\u001b[0m             \u001b[0mconverted\u001b[0m \u001b[0;34m=\u001b[0m \u001b[0mconvert_exception\u001b[0m\u001b[0;34m(\u001b[0m\u001b[0me\u001b[0m\u001b[0;34m.\u001b[0m\u001b[0mjava_exception\u001b[0m\u001b[0;34m)\u001b[0m\u001b[0;34m\u001b[0m\u001b[0;34m\u001b[0m\u001b[0m\n",
      "\u001b[0;32m/global/homes/p/peloton/myspark/spark-3.0.0-bin-hadoop2.7/python/lib/py4j-0.10.9-src.zip/py4j/protocol.py\u001b[0m in \u001b[0;36mget_return_value\u001b[0;34m(answer, gateway_client, target_id, name)\u001b[0m\n\u001b[1;32m    326\u001b[0m                 raise Py4JJavaError(\n\u001b[1;32m    327\u001b[0m                     \u001b[0;34m\"An error occurred while calling {0}{1}{2}.\\n\"\u001b[0m\u001b[0;34m.\u001b[0m\u001b[0;34m\u001b[0m\u001b[0;34m\u001b[0m\u001b[0m\n\u001b[0;32m--> 328\u001b[0;31m                     format(target_id, \".\", name), value)\n\u001b[0m\u001b[1;32m    329\u001b[0m             \u001b[0;32melse\u001b[0m\u001b[0;34m:\u001b[0m\u001b[0;34m\u001b[0m\u001b[0;34m\u001b[0m\u001b[0m\n\u001b[1;32m    330\u001b[0m                 raise Py4JError(\n",
      "\u001b[0;31mPy4JJavaError\u001b[0m: An error occurred while calling o133.collectToPython.\n: org.apache.spark.SparkException: Job aborted due to stage failure: Total size of serialized results of 433 tasks (1025.6 MiB) is bigger than spark.driver.maxResultSize (1024.0 MiB)\n\tat org.apache.spark.scheduler.DAGScheduler.failJobAndIndependentStages(DAGScheduler.scala:2023)\n\tat org.apache.spark.scheduler.DAGScheduler.$anonfun$abortStage$2(DAGScheduler.scala:1972)\n\tat org.apache.spark.scheduler.DAGScheduler.$anonfun$abortStage$2$adapted(DAGScheduler.scala:1971)\n\tat scala.collection.mutable.ResizableArray.foreach(ResizableArray.scala:62)\n\tat scala.collection.mutable.ResizableArray.foreach$(ResizableArray.scala:55)\n\tat scala.collection.mutable.ArrayBuffer.foreach(ArrayBuffer.scala:49)\n\tat org.apache.spark.scheduler.DAGScheduler.abortStage(DAGScheduler.scala:1971)\n\tat org.apache.spark.scheduler.DAGScheduler.$anonfun$handleTaskSetFailed$1(DAGScheduler.scala:950)\n\tat org.apache.spark.scheduler.DAGScheduler.$anonfun$handleTaskSetFailed$1$adapted(DAGScheduler.scala:950)\n\tat scala.Option.foreach(Option.scala:407)\n\tat org.apache.spark.scheduler.DAGScheduler.handleTaskSetFailed(DAGScheduler.scala:950)\n\tat org.apache.spark.scheduler.DAGSchedulerEventProcessLoop.doOnReceive(DAGScheduler.scala:2203)\n\tat org.apache.spark.scheduler.DAGSchedulerEventProcessLoop.onReceive(DAGScheduler.scala:2152)\n\tat org.apache.spark.scheduler.DAGSchedulerEventProcessLoop.onReceive(DAGScheduler.scala:2141)\n\tat org.apache.spark.util.EventLoop$$anon$1.run(EventLoop.scala:49)\n\tat org.apache.spark.scheduler.DAGScheduler.runJob(DAGScheduler.scala:752)\n\tat org.apache.spark.SparkContext.runJob(SparkContext.scala:2093)\n\tat org.apache.spark.SparkContext.runJob(SparkContext.scala:2114)\n\tat org.apache.spark.SparkContext.runJob(SparkContext.scala:2133)\n\tat org.apache.spark.SparkContext.runJob(SparkContext.scala:2158)\n\tat org.apache.spark.rdd.RDD.$anonfun$collect$1(RDD.scala:1004)\n\tat org.apache.spark.rdd.RDDOperationScope$.withScope(RDDOperationScope.scala:151)\n\tat org.apache.spark.rdd.RDDOperationScope$.withScope(RDDOperationScope.scala:112)\n\tat org.apache.spark.rdd.RDD.withScope(RDD.scala:388)\n\tat org.apache.spark.rdd.RDD.collect(RDD.scala:1003)\n\tat org.apache.spark.sql.execution.SparkPlan.executeCollect(SparkPlan.scala:385)\n\tat org.apache.spark.sql.Dataset.$anonfun$collectToPython$1(Dataset.scala:3448)\n\tat org.apache.spark.sql.Dataset.$anonfun$withAction$1(Dataset.scala:3616)\n\tat org.apache.spark.sql.execution.SQLExecution$.$anonfun$withNewExecutionId$5(SQLExecution.scala:100)\n\tat org.apache.spark.sql.execution.SQLExecution$.withSQLConfPropagated(SQLExecution.scala:160)\n\tat org.apache.spark.sql.execution.SQLExecution$.$anonfun$withNewExecutionId$1(SQLExecution.scala:87)\n\tat org.apache.spark.sql.SparkSession.withActive(SparkSession.scala:763)\n\tat org.apache.spark.sql.execution.SQLExecution$.withNewExecutionId(SQLExecution.scala:64)\n\tat org.apache.spark.sql.Dataset.withAction(Dataset.scala:3614)\n\tat org.apache.spark.sql.Dataset.collectToPython(Dataset.scala:3445)\n\tat java.base/jdk.internal.reflect.NativeMethodAccessorImpl.invoke0(Native Method)\n\tat java.base/jdk.internal.reflect.NativeMethodAccessorImpl.invoke(NativeMethodAccessorImpl.java:62)\n\tat java.base/jdk.internal.reflect.DelegatingMethodAccessorImpl.invoke(DelegatingMethodAccessorImpl.java:43)\n\tat java.base/java.lang.reflect.Method.invoke(Method.java:566)\n\tat py4j.reflection.MethodInvoker.invoke(MethodInvoker.java:244)\n\tat py4j.reflection.ReflectionEngine.invoke(ReflectionEngine.java:357)\n\tat py4j.Gateway.invoke(Gateway.java:282)\n\tat py4j.commands.AbstractCommand.invokeMethod(AbstractCommand.java:132)\n\tat py4j.commands.CallCommand.execute(CallCommand.java:79)\n\tat py4j.GatewayConnection.run(GatewayConnection.java:238)\n\tat java.base/java.lang.Thread.run(Thread.java:834)\n"
     ]
    }
   ],
   "source": [
    "# Retrieve the ra,dec coordinates of all sources within tract number 4430\n",
    "#data = df.select('ra', 'dec').where('tract == 2897').collect()\n",
    "data = df.select('ra', 'dec').collect()\n",
    "\n",
    "# `collect` returns list of list[ra, dec], so for \n",
    "# plotting purpose we tranpose the output:\n",
    "ra, dec = np.transpose(data)\n",
    "\n",
    "# Plot a 2d histogram of sources\n",
    "plt.figure(figsize=(10,7))\n",
    "plt.hist2d(ra, dec, 500)\n",
    "plt.gca().set_aspect('equal')\n",
    "plt.colorbar(label='Number of objects')\n",
    "plt.xlabel('RA [deg]')\n",
    "plt.ylabel('dec [deg]');"
   ]
  },
  {
   "cell_type": "markdown",
   "metadata": {},
   "source": [
    "It is interesting to note that there are several ways in Spark to use those filtering mechanisms"
   ]
  },
  {
   "cell_type": "markdown",
   "metadata": {},
   "source": [
    "**Pure SQL**"
   ]
  },
  {
   "cell_type": "code",
   "execution_count": null,
   "metadata": {},
   "outputs": [],
   "source": [
    "# Pure SQL\n",
    "cols = \"ra, dec\"\n",
    "\n",
    "# SQL - register first the DataFrame\n",
    "df.createOrReplaceTempView(\"full_tract\")\n",
    "\n",
    "# Keeps only columns with 0.0 < magerr_g < 0.3\n",
    "sql_command = \"\"\"\n",
    "    SELECT {}\n",
    "    FROM full_tract \n",
    "    WHERE \n",
    "        tract == 2897\n",
    "\"\"\".format(cols)\n",
    "\n",
    "# Execute the expression - return a DataFrame\n",
    "df_sub = spark.sql(sql_command)\n",
    "data = df_sub.collect()"
   ]
  },
  {
   "cell_type": "markdown",
   "metadata": {},
   "source": [
    "**Spark DataFrame built-in methods**"
   ]
  },
  {
   "cell_type": "code",
   "execution_count": null,
   "metadata": {},
   "outputs": [],
   "source": [
    "# Using select/where\n",
    "data = df.select('ra', 'dec').where('tract == 2897').collect()\n",
    "\n",
    "# Or using select/filter\n",
    "data = df.select('ra', 'dec').filter('tract == 2897').collect()"
   ]
  },
  {
   "cell_type": "markdown",
   "metadata": {},
   "source": [
    "**Data type**"
   ]
  },
  {
   "cell_type": "markdown",
   "metadata": {},
   "source": [
    "The data returned by collecting a DataFrame (`collect`) in Spark is structured as a native Python list of `Row`:"
   ]
  },
  {
   "cell_type": "code",
   "execution_count": null,
   "metadata": {},
   "outputs": [],
   "source": [
    "print(\"Data type is {}\".format(type(data[0])))\n",
    "print(\"Example: {}\".format(data[0]))"
   ]
  },
  {
   "cell_type": "markdown",
   "metadata": {},
   "source": [
    "But you can easily go back to standard list or numpy array (numpy methods do that for you most of the time) is needed:"
   ]
  },
  {
   "cell_type": "code",
   "execution_count": null,
   "metadata": {},
   "outputs": [],
   "source": [
    "arow = data[0]\n",
    "\n",
    "# Explicit conversion\n",
    "mylist = list(arow)\n",
    "print(\"input type: {} / output type {}\".format(type(arow), type(mylist)))\n",
    "\n",
    "# Implicit conversion\n",
    "cols = np.transpose(arow)\n",
    "print(\"input type: {} / output type {}\".format(type(arow), type(cols)))"
   ]
  },
  {
   "cell_type": "markdown",
   "metadata": {},
   "source": [
    "**Spark to Pandas DataFrame**"
   ]
  },
  {
   "cell_type": "markdown",
   "metadata": {},
   "source": [
    "A Spark DataFrame can also easily be converted into a [Pandas DataFrame](https://pandas.pydata.org):"
   ]
  },
  {
   "cell_type": "code",
   "execution_count": null,
   "metadata": {},
   "outputs": [],
   "source": [
    "pdata = df.select('ra', 'dec').where('tract == 2897').toPandas()\n",
    "pdata"
   ]
  },
  {
   "cell_type": "markdown",
   "metadata": {},
   "source": [
    "**Access time**"
   ]
  },
  {
   "cell_type": "markdown",
   "metadata": {},
   "source": [
    "As a simple test, you can show the advantage of loading one tract at a time compared to the entire catalog:"
   ]
  },
  {
   "cell_type": "code",
   "execution_count": null,
   "metadata": {},
   "outputs": [],
   "source": [
    "df_radec = df.select('ra', 'dec')\n",
    "%time data = df_radec.where('tract == 2897').collect()"
   ]
  },
  {
   "cell_type": "code",
   "execution_count": null,
   "metadata": {},
   "outputs": [],
   "source": [
    "%time data = df_radec.collect()"
   ]
  },
  {
   "cell_type": "markdown",
   "metadata": {},
   "source": [
    "Note that we timed the `collect` action which is very specific (collecting data from the executors to the driver). In practice, we do not perform this action often (only at the very end of the pipeline, because it implies communication btw the machines). In Spark, we do most of the computation (including plot!) in the executors (distributed computation), and we collect the data once it is sufficiently reduced. Therefore, what matters more is the time to load the data and perform an action inside executors. The simplest one (but relevant though!) is to count the elements (O(n) complexity):"
   ]
  },
  {
   "cell_type": "code",
   "execution_count": null,
   "metadata": {},
   "outputs": [],
   "source": [
    "%time data = df_radec.where('tract == 2897').count()"
   ]
  },
  {
   "cell_type": "code",
   "execution_count": null,
   "metadata": {},
   "outputs": [],
   "source": [
    "%time data = df_radec.count()"
   ]
  },
  {
   "cell_type": "markdown",
   "metadata": {},
   "source": [
    "Here we are, super fast! Note that we loaded the data AND perform a simple action. So these benchmarks give you the IO overhead for this kind of catalogs. More about Apache Spark benchmarks can be found [here](https://github.com/LSSTDESC/DC2-production/pull/288)."
   ]
  },
  {
   "cell_type": "markdown",
   "metadata": {},
   "source": [
    "### Applying filters and cuts\n",
    "\n",
    "For more than one cut, this is all the same:"
   ]
  },
  {
   "cell_type": "code",
   "execution_count": null,
   "metadata": {},
   "outputs": [],
   "source": [
    "# Simple cut to remove unreliable detections\n",
    "# More cuts can be added, as a logical AND, by appending GCRQuery objects to this list\n",
    "# good: \n",
    "#   The source has no flagged pixels (interpolated, saturated, edge, clipped...) \n",
    "#   and was not skipped by the deblender\n",
    "# tract == 4849:\n",
    "#   Data only for tract 4849\n",
    "\n",
    "# Data after cut (DataFrame)\n",
    "df_cut = df_radec.where(\"tract == 2897 AND good\")\n",
    "\n",
    "# Data without cuts (DataFrame)\n",
    "df_full = df_radec.where(\"tract == 2897\")"
   ]
  },
  {
   "cell_type": "code",
   "execution_count": null,
   "metadata": {},
   "outputs": [],
   "source": [
    "print(\"Number of sources before cut : {}\".format(df_full.count()))\n",
    "print(\"Number of sources after cut  : {}\".format(df_cut.count()))"
   ]
  },
  {
   "cell_type": "markdown",
   "metadata": {},
   "source": [
    "**Plotting the result - the standard way**\n",
    "\n",
    "The standard way means filtering data, collecting data, and plotting (e.g. you would do that in GCR). This can be written as:"
   ]
  },
  {
   "cell_type": "code",
   "execution_count": null,
   "metadata": {},
   "outputs": [],
   "source": [
    "# Plot a 2d histogram of sources\n",
    "plt.figure(figsize=(15, 7))\n",
    "for index, dataframe in enumerate([df_full, df_cut]):\n",
    "    ra, dec = np.transpose(dataframe.collect())\n",
    "    plt.subplot(121 + index)\n",
    "    (counts, xe, ye, Image) = plt.hist2d(ra, dec, 256); \n",
    "    plt.gca().set_aspect('equal'); \n",
    "    plt.xlabel('RA [deg]');\n",
    "    plt.ylabel('dec [deg]');\n",
    "    if index == 0:\n",
    "        plt.title('Full sample');\n",
    "    else:\n",
    "        plt.title('Clean objects');\n",
    "    plt.colorbar(label='Number of objects');"
   ]
  },
  {
   "cell_type": "markdown",
   "metadata": {},
   "source": [
    "Now all of that works because you have only a small fraction of data. Let's imagine if you have TB of data, even after cuts. What would you do? GCR makes use of iterators. This is a workaround, but still not satisfactory as things are done _serially_. For TB of data it will work, but it will take forever. \n",
    "\n",
    "**Spark point of view: distribute the computation (and plot!)**\n",
    "\n",
    "The way to be faster is to distribute the plot (or the computation which leads to the data to be plotted).\n",
    "Histograms are particularly easy to distribute. Let's write a method to be apply on each Spark partition (each would contain only a fraction of the data):"
   ]
  },
  {
   "cell_type": "code",
   "execution_count": null,
   "metadata": {},
   "outputs": [],
   "source": [
    "def hist2d(partition, nbins=256, xyrange=None):\n",
    "    \"\"\" Produce 2D histograms from (x, y) data\n",
    "    \n",
    "    Parameters\n",
    "    ----------\n",
    "    partition : Iterator\n",
    "        Iterator containing partition data *[x, y].\n",
    "        \n",
    "    Returns\n",
    "    ----------\n",
    "    Generator yielding counts for each partition. \n",
    "    Counts is an array of dimension nbins x nbins.\n",
    "    \"\"\"\n",
    "    # Unwrap the iterator\n",
    "    radec = [*partition]\n",
    "    \n",
    "    #if len(radec) == 0:\n",
    "    #    yield [0, 0]\n",
    "\n",
    "\n",
    "    ra, dec = np.transpose(radec)\n",
    "    \n",
    "    (counts, xedges, yedges, Image) = plt.hist2d(\n",
    "        ra, dec, nbins, \n",
    "        range=xyrange)\n",
    "    \n",
    "    yield counts\n",
    "\n",
    "# Min/Max values - just to make a nice plot\n",
    "xyrange = [[np.min(xe), np.max(xe)], [np.min(ye), np.max(ye)]]\n",
    "\n",
    "plt.figure(figsize=(15, 7))\n",
    "for index, dataframe in enumerate([df_full, df_cut]):\n",
    "    plt.subplot(121 + index)\n",
    "    # This is the crucial part - build the plot data in parallel!\n",
    "    im = dataframe\\\n",
    "        .rdd\\\n",
    "        .mapPartitions(lambda partition: hist2d(partition, 256, xyrange))\\\n",
    "        .reduce(lambda x, y: x+y)\n",
    "    \n",
    "    plt.imshow(im.T, origin='lower', aspect='equal');\n",
    "    plt.xlabel('RA [deg]');\n",
    "    plt.ylabel('dec [deg]');\n",
    "    if index == 0:\n",
    "        plt.title('Full sample');\n",
    "    else:\n",
    "        plt.title('Clean objects');\n",
    "    plt.colorbar(label='Number of objects');"
   ]
  },
  {
   "cell_type": "markdown",
   "metadata": {},
   "source": [
    "Let's time it and compare that to the previous method:"
   ]
  },
  {
   "cell_type": "code",
   "execution_count": 56,
   "metadata": {},
   "outputs": [
    {
     "ename": "NameError",
     "evalue": "name 'df_cut' is not defined",
     "output_type": "error",
     "traceback": [
      "\u001b[0;31m---------------------------------------------------------------------------\u001b[0m",
      "\u001b[0;31mNameError\u001b[0m                                 Traceback (most recent call last)",
      "\u001b[0;32m<timed exec>\u001b[0m in \u001b[0;36m<module>\u001b[0;34m\u001b[0m\n",
      "\u001b[0;31mNameError\u001b[0m: name 'df_cut' is not defined"
     ]
    }
   ],
   "source": [
    "%time data = df_cut.collect()"
   ]
  },
  {
   "cell_type": "code",
   "execution_count": 57,
   "metadata": {},
   "outputs": [
    {
     "ename": "NameError",
     "evalue": "name 'df_cut' is not defined",
     "output_type": "error",
     "traceback": [
      "\u001b[0;31m---------------------------------------------------------------------------\u001b[0m",
      "\u001b[0;31mNameError\u001b[0m                                 Traceback (most recent call last)",
      "\u001b[0;32m<timed exec>\u001b[0m in \u001b[0;36m<module>\u001b[0;34m\u001b[0m\n",
      "\u001b[0;31mNameError\u001b[0m: name 'df_cut' is not defined"
     ]
    }
   ],
   "source": [
    "%time data = df_cut.rdd.mapPartitions(lambda partition: hist2d(partition, xyrange)).reduce(lambda x, y: x+y)"
   ]
  },
  {
   "cell_type": "markdown",
   "metadata": {},
   "source": [
    "User time is factor of 30 faster (and the volume of data is not big!), for the same total wall time. Definitely the way to go!"
   ]
  },
  {
   "cell_type": "markdown",
   "metadata": {},
   "source": [
    "## Example of filtering: Star/galaxy separation"
   ]
  },
  {
   "cell_type": "markdown",
   "metadata": {},
   "source": [
    "For now, we have `extendedness == base_ClassificationExtendedness_value` as a tool for star/galaxy classification. An object is considered extended if the the difference between the `PSF` magnitude and the [`CModel` magnitude](https://www.sdss.org/dr12/algorithms/magnitudes/#cmodel) is beyond certain threshold (0.0164). To know more about this see [Bosch et al. 2018](http://adsabs.harvard.edu/abs/2018PASJ...70S...5B) section 4.9.10\n",
    "\n",
    "**Note** JP writing: I couldn't find the counterpart of `{band}_modelfit_CModel_flux` in dpdd files. So just for the sake of the exercise, I used `magerr_{band}_cModel`."
   ]
  },
  {
   "cell_type": "code",
   "execution_count": 58,
   "metadata": {},
   "outputs": [
    {
     "name": "stdout",
     "output_type": "stream",
     "text": [
      "983820\n"
     ]
    }
   ],
   "source": [
    "# Subset of columns of interest\n",
    "cols = \"mag_g_cModel, mag_r_cModel, mag_i_cModel\"\n",
    "\n",
    "# SQL - register first the DataFrame\n",
    "df.createOrReplaceTempView(\"full_tract\")\n",
    "\n",
    "# Used to be g_modelfit_CModel_flux\n",
    "sql_command = \"\"\"\n",
    "    SELECT {}\n",
    "    FROM full_tract \n",
    "    WHERE \n",
    "        tract == 2897 AND\n",
    "        clean AND\n",
    "        magerr_g_cModel>0 AND\n",
    "        magerr_g_cModel<1e16 AND\n",
    "        magerr_r_cModel>0 AND\n",
    "        magerr_r_cModel<1e16 AND\n",
    "        magerr_i_cModel>0 AND\n",
    "        magerr_i_cModel<1e16\n",
    "\"\"\".format(cols)\n",
    "\n",
    "# Execute the expression - return a DataFrame\n",
    "df_sub = spark.sql(sql_command)\n",
    "\n",
    "print(df_sub.count())"
   ]
  },
  {
   "cell_type": "markdown",
   "metadata": {},
   "source": [
    "So now, we have selected what we think are stars. Let's take a look at the colors of these objects"
   ]
  },
  {
   "cell_type": "code",
   "execution_count": 59,
   "metadata": {},
   "outputs": [
    {
     "data": {
      "image/png": "[encoded data removed]",
      "text/plain": [
       "<Figure size 432x288 with 2 Axes>"
      ]
     },
     "metadata": {
      "needs_background": "light"
     },
     "output_type": "display_data"
    }
   ],
   "source": [
    "mag_g_cModel, mag_r_cModel, mag_i_cModel = np.transpose(df_sub.collect())\n",
    "plt.hist2d(mag_g_cModel - mag_r_cModel,\n",
    "           mag_r_cModel - mag_i_cModel, \n",
    "           bins=100,range=[(-1,2),(-1,2)]);\n",
    "plt.xlabel('$g-r$')\n",
    "plt.ylabel('$r-i$')\n",
    "plt.colorbar(label='Number of objects');"
   ]
  },
  {
   "cell_type": "markdown",
   "metadata": {},
   "source": [
    "__More on Apache Spark to come!__"
   ]
  }
 ],
 "metadata": {
  "kernelspec": {
   "display_name": "desc-pyspark",
   "language": "python",
   "name": "desc-pyspark"
  },
  "language_info": {
   "codemirror_mode": {
    "name": "ipython",
    "version": 3
   },
   "file_extension": ".py",
   "mimetype": "text/x-python",
   "name": "python",
   "nbconvert_exporter": "python",
   "pygments_lexer": "ipython3",
   "version": "3.7.6"
  }
 },
 "nbformat": 4,
 "nbformat_minor": 4
}
